{
 "cells": [
  {
   "attachments": {},
   "cell_type": "markdown",
   "metadata": {},
   "source": [
    "To create a regression model that plots the relationship between the waistline and the number of situps accomplished using the Linnerud dataset in Scikit-learn, you should follow these steps:\n",
    "\n",
    "Import the necessary libraries: \n",
    "from sklearn.datasets import load_linnerud\n",
    "import matplotlib.pyplot as plt\n",
    "from sklearn.linear_model import LinearRegression\n",
    "from sklearn.model_selection import train_test_split\n",
    "\n",
    "Load the Linnerud dataset:\n",
    "data = load_linnerud()\n",
    "\n",
    "Extract the relevant data and target variables:\n",
    "waistline = data.data[:, 0]\n",
    "situps = data.target[:, 0]\n",
    "\n",
    "Create a scatter plot to visualize the relationship:\n",
    "plt.scatter(waistline, situps)\n",
    "plt.xlabel('Waistline')\n",
    "plt.ylabel('Situps')\n",
    "plt.title('Relationship between Waistline and Situps')\n",
    "plt.show()\n",
    "\n",
    "Split the data into train and test:\n",
    "X_train, X_test, y_train, y_test = model_selection.train_test_split(waistline, situps, test_size=.33) \n",
    "\n",
    "Create a regression model and fit the data:\n",
    "model = LinearRegression()\n",
    "model.fit(waistline, situps)\n",
    "\n",
    "Predict the situps based on the waistline values:\n",
    "situps_predicted = model.predict(waistline)\n",
    "\n",
    "Plot the regression line on the scatter plot:\n",
    "plt.scatter(waistline, situps)\n",
    "plt.plot(waistline, situps_predicted, color='red', linewidth=2)\n",
    "plt.xlabel('Waistline')\n",
    "plt.ylabel('Situps')\n",
    "plt.title('Relationship between Waistline and Situps')\n",
    "plt.show()\n",
    "\n"
   ]
  }
 ],
 "metadata": {
  "kernelspec": {
   "display_name": "Python 3",
   "language": "python",
   "name": "python3"
  },
  "language_info": {
   "name": "python",
   "version": "3.11.0rc1 (main, Aug 12 2022, 10:02:14) [GCC 11.2.0]"
  },
  "orig_nbformat": 4,
  "vscode": {
   "interpreter": {
    "hash": "ead1b95f633dc9c51826328e1846203f51a198c6fb5f2884a80417ba131d4e82"
   }
  }
 },
 "nbformat": 4,
 "nbformat_minor": 2
}
