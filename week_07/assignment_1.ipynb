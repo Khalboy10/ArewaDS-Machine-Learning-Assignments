{
 "cells": [
  {
   "attachments": {},
   "cell_type": "markdown",
   "metadata": {},
   "source": [
    "A customer service bot employed by a financial services company\n",
    "\n",
    "Contextual Understanding: The bot excelled at recognizing and responding to straightforward queries within its designated domain. It demonstrated a strong grasp of financial terminology and quickly provided relevant information when prompted correctly.\n",
    "\n",
    "Limited Flexibility: When faced with unusual or ambiguous questions, the bot struggled to adapt its responses. It often provided generic or repetitive replies that did not directly address the user's query. This lack of flexibility suggests that the bot's programming was not equipped to handle diverse inputs beyond its defined scope.\n",
    "\n",
    "Misinterpretation: The bot occasionally misinterpreted certain phrases or keywords within a question, leading to inaccurate or nonsensical responses. This highlighted its reliance on keyword matching rather than a nuanced understanding of context."
   ]
  }
 ],
 "metadata": {
  "kernelspec": {
   "display_name": "base",
   "language": "python",
   "name": "python3"
  },
  "language_info": {
   "name": "python",
   "version": "3.9.13 (main, Aug 25 2022, 23:26:10) \n[GCC 11.2.0]"
  },
  "orig_nbformat": 4,
  "vscode": {
   "interpreter": {
    "hash": "cb1d2d89cb7c6a69a81de6a0cd8c1e2ebe2646f633b514a8a7f5dd3287604553"
   }
  }
 },
 "nbformat": 4,
 "nbformat_minor": 2
}
