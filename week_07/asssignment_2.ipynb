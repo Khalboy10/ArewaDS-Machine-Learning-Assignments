{
 "cells": [
  {
   "cell_type": "code",
   "execution_count": 6,
   "metadata": {},
   "outputs": [
    {
     "name": "stdout",
     "output_type": "stream",
     "text": [
      "Hello, I am Khalboy, the simple robot.\n",
      "You can end this conversation at any time by typing 'quit'.\n",
      "Hmm, that's not great. Can you tell more\n",
      "Well, that sounds positive. \n",
      "Hmm, that's not great. Can you tell more\n",
      "Hmm, that's not great. Can you tell more\n",
      "Goodbye! Have a great day!\n"
     ]
    }
   ],
   "source": [
    "from textblob import TextBlob\n",
    "print(\"Hello, I am Khalboy, the simple robot.\")\n",
    "print(\"You can end this conversation at any time by typing 'quit'.\")\n",
    "\n",
    "while True:\n",
    "    user_input = input(\"> \")\n",
    "    user_input_blob = TextBlob(user_input)\n",
    "    if user_input.lower() == 'quit':\n",
    "        print(\"Goodbye! Have a great day!\")\n",
    "        break\n",
    "    elif user_input_blob.polarity <= -0.5:\n",
    "        response = \"Oh dear, that sounds bad. \"\n",
    "        print(response)\n",
    "\n",
    "    elif user_input_blob.polarity <= 0:\n",
    "        response = \"Hmm, that's not great. Can you tell more\"\n",
    "        print(response)\n",
    "\n",
    "    elif user_input_blob.polarity <= 0.5:\n",
    "        response = \"Well, that sounds positive. \"\n",
    "        print(response)\n",
    "\n",
    "    elif user_input_blob.polarity <= 1:\n",
    "        response = \"Wow, that sounds great. \"\n",
    "        print(response)\n",
    "    "
   ]
  }
 ],
 "metadata": {
  "kernelspec": {
   "display_name": "base",
   "language": "python",
   "name": "python3"
  },
  "language_info": {
   "codemirror_mode": {
    "name": "ipython",
    "version": 3
   },
   "file_extension": ".py",
   "mimetype": "text/x-python",
   "name": "python",
   "nbconvert_exporter": "python",
   "pygments_lexer": "ipython3",
   "version": "3.9.13 (main, Aug 25 2022, 23:26:10) \n[GCC 11.2.0]"
  },
  "orig_nbformat": 4,
  "vscode": {
   "interpreter": {
    "hash": "cb1d2d89cb7c6a69a81de6a0cd8c1e2ebe2646f633b514a8a7f5dd3287604553"
   }
  }
 },
 "nbformat": 4,
 "nbformat_minor": 2
}
