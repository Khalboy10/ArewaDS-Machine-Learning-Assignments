{
 "cells": [
  {
   "attachments": {},
   "cell_type": "markdown",
   "metadata": {},
   "source": [
    "# Liblinear and Lbfgs"
   ]
  },
  {
   "attachments": {},
   "cell_type": "markdown",
   "metadata": {},
   "source": [
    "The liblinear solver is designed for solving linear classification and regression problems. It supports both L1 and L2 regularization and is suitable for binary classification tasks. It solves the optimization problem by updating one coordinate (feature) at a time while holding others fixed. It performs well for small to medium-sized datasets and can handle high-dimensional feature spaces. liblinear is suitable for working on a linear classification or regression problem and want to utilize L1 or L2 regularization. It performs well for small to medium-sized datasets.\n",
    "\n",
    "The lbfgs solver is suitable for solving optimization problems with smooth and convex objective functions. It is commonly used for logistic regression and other machine learning tasks. lbfgs works with numeric matrices or tensors. It is typically used with dense input data structures. lbfgs is a good option for working on a problem that requires optimization with a smooth and convex objective function, such as logistic regression. It provides efficient optimization for moderate-sized datasets and is well-suited for dense data structures."
   ]
  }
 ],
 "metadata": {
  "kernelspec": {
   "display_name": "Python 3",
   "language": "python",
   "name": "python3"
  },
  "language_info": {
   "name": "python",
   "version": "3.11.0rc1 (main, Aug 12 2022, 10:02:14) [GCC 11.2.0]"
  },
  "orig_nbformat": 4,
  "vscode": {
   "interpreter": {
    "hash": "ead1b95f633dc9c51826328e1846203f51a198c6fb5f2884a80417ba131d4e82"
   }
  }
 },
 "nbformat": 4,
 "nbformat_minor": 2
}
