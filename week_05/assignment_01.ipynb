{
 "cells": [
  {
   "cell_type": "code",
   "execution_count": 2,
   "metadata": {},
   "outputs": [
    {
     "data": {
      "text/html": [
       "<div>\n",
       "<style scoped>\n",
       "    .dataframe tbody tr th:only-of-type {\n",
       "        vertical-align: middle;\n",
       "    }\n",
       "\n",
       "    .dataframe tbody tr th {\n",
       "        vertical-align: top;\n",
       "    }\n",
       "\n",
       "    .dataframe thead th {\n",
       "        text-align: right;\n",
       "    }\n",
       "</style>\n",
       "<table border=\"1\" class=\"dataframe\">\n",
       "  <thead>\n",
       "    <tr style=\"text-align: right;\">\n",
       "      <th></th>\n",
       "      <th>Dataset</th>\n",
       "      <th>Question</th>\n",
       "      <th>Classification Technique</th>\n",
       "    </tr>\n",
       "  </thead>\n",
       "  <tbody>\n",
       "    <tr>\n",
       "      <th>0</th>\n",
       "      <td>Iris</td>\n",
       "      <td>Can we classify iris flowers by species?</td>\n",
       "      <td>K-Nearest Neighbors</td>\n",
       "    </tr>\n",
       "    <tr>\n",
       "      <th>1</th>\n",
       "      <td>Breast Cancer</td>\n",
       "      <td>Can we diagnose breast cancer?</td>\n",
       "      <td>Support Vector Machines</td>\n",
       "    </tr>\n",
       "    <tr>\n",
       "      <th>2</th>\n",
       "      <td>Titanic Survival</td>\n",
       "      <td>Can we predict passenger survival?</td>\n",
       "      <td>Logistic Regression</td>\n",
       "    </tr>\n",
       "  </tbody>\n",
       "</table>\n",
       "</div>"
      ],
      "text/plain": [
       "            Dataset                                  Question  \\\n",
       "0              Iris  Can we classify iris flowers by species?   \n",
       "1     Breast Cancer            Can we diagnose breast cancer?   \n",
       "2  Titanic Survival        Can we predict passenger survival?   \n",
       "\n",
       "  Classification Technique  \n",
       "0      K-Nearest Neighbors  \n",
       "1  Support Vector Machines  \n",
       "2      Logistic Regression  "
      ]
     },
     "execution_count": 2,
     "metadata": {},
     "output_type": "execute_result"
    }
   ],
   "source": [
    "import pandas as pd\n",
    "\n",
    "table = {\n",
    "    'Dataset' : ['Iris', 'Breast Cancer', 'Titanic Survival'],\n",
    "    'Question' : ['Can we classify iris flowers by species?', 'Can we diagnose breast cancer?', 'Can we predict passenger survival?'],\n",
    "    'Classification Technique' : ['K-Nearest Neighbors', 'Support Vector Machines', 'Logistic Regression']\n",
    "}\n",
    "\n",
    "df = pd.DataFrame(table)\n",
    "df"
   ]
  },
  {
   "attachments": {},
   "cell_type": "markdown",
   "metadata": {},
   "source": [
    "Iris"
   ]
  },
  {
   "attachments": {},
   "cell_type": "markdown",
   "metadata": {},
   "source": [
    "The Iris dataset is a well-known dataset in machine learning and consists of measurements of four features (sepal length, sepal width, petal length, and petal width) of three different species of iris flowers (setosa, versicolor, and virginica). The goal is to classify iris flowers into their respective species based on these measurements.\n",
    "\n",
    "To apply the K-Nearest Neighbors (KNN) classification algorithm to the Iris dataset, we would first split the dataset into training and testing sets. The training set would be used to train the KNN model on the known measurements and corresponding species labels. The testing set would be used to evaluate the performance of the trained model on unseen data.\n",
    "\n",
    "By applying the KNN algorithm to the Iris dataset, we can effectively classify iris flowers based on their measurements and achieve a classification model that can identify the species of an iris flower with a certain level of accuracy."
   ]
  },
  {
   "attachments": {},
   "cell_type": "markdown",
   "metadata": {},
   "source": [
    "Breast Cancer"
   ]
  },
  {
   "attachments": {},
   "cell_type": "markdown",
   "metadata": {},
   "source": [
    "The Breast Cancer dataset contains measurements of various features extracted from breast mass images, along with corresponding labels indicating whether the mass is benign or malignant. The goal is to develop a classification model that can accurately diagnose breast cancer based on these features.\n",
    "\n",
    "To apply the Support Vector Machines (SVM) classification algorithm to the Breast Cancer dataset, we would first split the dataset into training and testing sets. The training set would be used to train the SVM model on the known measurements and corresponding labels. The testing set would be used to evaluate the performance of the trained model on unseen data.\n",
    "\n",
    "The performance of the SVM model can be evaluated using various metrics such as accuracy, precision, recall, and F1 score. These metrics provide insights into how well the model diagnoses breast cancer based on the given dataset.\n",
    "\n",
    "By applying the SVM algorithm to the Breast Cancer dataset, we can develop a classification model that can assist in diagnosing breast cancer based on the extracted features from breast mass images. The trained SVM model would be able to predict whether a given breast mass is benign or malignant, potentially aiding in early detection and treatment decisions."
   ]
  },
  {
   "attachments": {},
   "cell_type": "markdown",
   "metadata": {},
   "source": [
    "Titanic Survival"
   ]
  },
  {
   "attachments": {},
   "cell_type": "markdown",
   "metadata": {},
   "source": [
    "The Titanic Survival dataset contains information about passengers aboard the Titanic, including features such as age, sex, passenger class, and whether they survived or not. The goal is to develop a classification model that can predict whether a passenger would have survived the Titanic disaster based on these features.\n",
    "\n",
    "To apply the Logistic Regression classification algorithm to the Titanic Survival dataset, we would first split the dataset into training and testing sets. The training set would be used to train the logistic regression model on the known features and corresponding survival labels. The testing set would be used to evaluate the performance of the trained model on unseen data.\n",
    "\n",
    "Logistic Regression is a widely used classification algorithm that is suitable for binary classification problems. It models the probability of an instance belonging to a certain class using the logistic function. In the case of the Titanic dataset, logistic regression would estimate the probability of a passenger surviving the disaster based on the given features.\n",
    "\n",
    "Once the logistic regression model is trained, we can use it to predict the survival outcome for new passengers by providing their corresponding features as input to the model. The model will calculate the probability of survival and assign a class label (survived or not survived) based on a threshold probability.\n",
    "\n",
    "By applying the logistic regression algorithm to the Titanic Survival dataset, we can develop a classification model that can predict passenger survival based on features such as age, sex, and passenger class. The trained logistic regression model would be able to estimate the likelihood of survival for individual passengers, providing valuable insights into the factors that influenced survival during the Titanic disaster."
   ]
  }
 ],
 "metadata": {
  "kernelspec": {
   "display_name": "base",
   "language": "python",
   "name": "python3"
  },
  "language_info": {
   "codemirror_mode": {
    "name": "ipython",
    "version": 3
   },
   "file_extension": ".py",
   "mimetype": "text/x-python",
   "name": "python",
   "nbconvert_exporter": "python",
   "pygments_lexer": "ipython3",
   "version": "3.9.13"
  },
  "orig_nbformat": 4,
  "vscode": {
   "interpreter": {
    "hash": "cb1d2d89cb7c6a69a81de6a0cd8c1e2ebe2646f633b514a8a7f5dd3287604553"
   }
  }
 },
 "nbformat": 4,
 "nbformat_minor": 2
}
