{
 "cells": [
  {
   "cell_type": "code",
   "execution_count": 2,
   "metadata": {},
   "outputs": [
    {
     "data": {
      "text/html": [
       "<div>\n",
       "<style scoped>\n",
       "    .dataframe tbody tr th:only-of-type {\n",
       "        vertical-align: middle;\n",
       "    }\n",
       "\n",
       "    .dataframe tbody tr th {\n",
       "        vertical-align: top;\n",
       "    }\n",
       "\n",
       "    .dataframe thead th {\n",
       "        text-align: right;\n",
       "    }\n",
       "</style>\n",
       "<table border=\"1\" class=\"dataframe\">\n",
       "  <thead>\n",
       "    <tr style=\"text-align: right;\">\n",
       "      <th></th>\n",
       "      <th>name</th>\n",
       "      <th>album</th>\n",
       "      <th>artist</th>\n",
       "      <th>artist_top_genre</th>\n",
       "      <th>release_date</th>\n",
       "      <th>length</th>\n",
       "      <th>popularity</th>\n",
       "      <th>danceability</th>\n",
       "      <th>acousticness</th>\n",
       "      <th>energy</th>\n",
       "      <th>instrumentalness</th>\n",
       "      <th>liveness</th>\n",
       "      <th>loudness</th>\n",
       "      <th>speechiness</th>\n",
       "      <th>tempo</th>\n",
       "      <th>time_signature</th>\n",
       "    </tr>\n",
       "  </thead>\n",
       "  <tbody>\n",
       "    <tr>\n",
       "      <th>0</th>\n",
       "      <td>Sparky</td>\n",
       "      <td>Mandy &amp; The Jungle</td>\n",
       "      <td>Cruel Santino</td>\n",
       "      <td>alternative r&amp;b</td>\n",
       "      <td>2019</td>\n",
       "      <td>144000</td>\n",
       "      <td>48</td>\n",
       "      <td>0.666</td>\n",
       "      <td>0.8510</td>\n",
       "      <td>0.420</td>\n",
       "      <td>0.534000</td>\n",
       "      <td>0.1100</td>\n",
       "      <td>-6.699</td>\n",
       "      <td>0.0829</td>\n",
       "      <td>133.015</td>\n",
       "      <td>5</td>\n",
       "    </tr>\n",
       "    <tr>\n",
       "      <th>1</th>\n",
       "      <td>shuga rush</td>\n",
       "      <td>EVERYTHING YOU HEARD IS TRUE</td>\n",
       "      <td>Odunsi (The Engine)</td>\n",
       "      <td>afropop</td>\n",
       "      <td>2020</td>\n",
       "      <td>89488</td>\n",
       "      <td>30</td>\n",
       "      <td>0.710</td>\n",
       "      <td>0.0822</td>\n",
       "      <td>0.683</td>\n",
       "      <td>0.000169</td>\n",
       "      <td>0.1010</td>\n",
       "      <td>-5.640</td>\n",
       "      <td>0.3600</td>\n",
       "      <td>129.993</td>\n",
       "      <td>3</td>\n",
       "    </tr>\n",
       "    <tr>\n",
       "      <th>2</th>\n",
       "      <td>LITT!</td>\n",
       "      <td>LITT!</td>\n",
       "      <td>AYLØ</td>\n",
       "      <td>indie r&amp;b</td>\n",
       "      <td>2018</td>\n",
       "      <td>207758</td>\n",
       "      <td>40</td>\n",
       "      <td>0.836</td>\n",
       "      <td>0.2720</td>\n",
       "      <td>0.564</td>\n",
       "      <td>0.000537</td>\n",
       "      <td>0.1100</td>\n",
       "      <td>-7.127</td>\n",
       "      <td>0.0424</td>\n",
       "      <td>130.005</td>\n",
       "      <td>4</td>\n",
       "    </tr>\n",
       "    <tr>\n",
       "      <th>3</th>\n",
       "      <td>Confident / Feeling Cool</td>\n",
       "      <td>Enjoy Your Life</td>\n",
       "      <td>Lady Donli</td>\n",
       "      <td>nigerian pop</td>\n",
       "      <td>2019</td>\n",
       "      <td>175135</td>\n",
       "      <td>14</td>\n",
       "      <td>0.894</td>\n",
       "      <td>0.7980</td>\n",
       "      <td>0.611</td>\n",
       "      <td>0.000187</td>\n",
       "      <td>0.0964</td>\n",
       "      <td>-4.961</td>\n",
       "      <td>0.1130</td>\n",
       "      <td>111.087</td>\n",
       "      <td>4</td>\n",
       "    </tr>\n",
       "    <tr>\n",
       "      <th>4</th>\n",
       "      <td>wanted you</td>\n",
       "      <td>rare.</td>\n",
       "      <td>Odunsi (The Engine)</td>\n",
       "      <td>afropop</td>\n",
       "      <td>2018</td>\n",
       "      <td>152049</td>\n",
       "      <td>25</td>\n",
       "      <td>0.702</td>\n",
       "      <td>0.1160</td>\n",
       "      <td>0.833</td>\n",
       "      <td>0.910000</td>\n",
       "      <td>0.3480</td>\n",
       "      <td>-6.044</td>\n",
       "      <td>0.0447</td>\n",
       "      <td>105.115</td>\n",
       "      <td>4</td>\n",
       "    </tr>\n",
       "  </tbody>\n",
       "</table>\n",
       "</div>"
      ],
      "text/plain": [
       "                       name                         album  \\\n",
       "0                    Sparky            Mandy & The Jungle   \n",
       "1                shuga rush  EVERYTHING YOU HEARD IS TRUE   \n",
       "2                     LITT!                         LITT!   \n",
       "3  Confident / Feeling Cool               Enjoy Your Life   \n",
       "4                wanted you                         rare.   \n",
       "\n",
       "                artist artist_top_genre  release_date  length  popularity  \\\n",
       "0        Cruel Santino  alternative r&b          2019  144000          48   \n",
       "1  Odunsi (The Engine)          afropop          2020   89488          30   \n",
       "2                 AYLØ        indie r&b          2018  207758          40   \n",
       "3           Lady Donli     nigerian pop          2019  175135          14   \n",
       "4  Odunsi (The Engine)          afropop          2018  152049          25   \n",
       "\n",
       "   danceability  acousticness  energy  instrumentalness  liveness  loudness  \\\n",
       "0         0.666        0.8510   0.420          0.534000    0.1100    -6.699   \n",
       "1         0.710        0.0822   0.683          0.000169    0.1010    -5.640   \n",
       "2         0.836        0.2720   0.564          0.000537    0.1100    -7.127   \n",
       "3         0.894        0.7980   0.611          0.000187    0.0964    -4.961   \n",
       "4         0.702        0.1160   0.833          0.910000    0.3480    -6.044   \n",
       "\n",
       "   speechiness    tempo  time_signature  \n",
       "0       0.0829  133.015               5  \n",
       "1       0.3600  129.993               3  \n",
       "2       0.0424  130.005               4  \n",
       "3       0.1130  111.087               4  \n",
       "4       0.0447  105.115               4  "
      ]
     },
     "execution_count": 2,
     "metadata": {},
     "output_type": "execute_result"
    }
   ],
   "source": [
    "import pandas as pd\n",
    "\n",
    "data = pd.read_csv('Nigerian_songs.csv')\n",
    "data.head()"
   ]
  },
  {
   "cell_type": "code",
   "execution_count": 3,
   "metadata": {},
   "outputs": [
    {
     "name": "stdout",
     "output_type": "stream",
     "text": [
      "<class 'pandas.core.frame.DataFrame'>\n",
      "RangeIndex: 530 entries, 0 to 529\n",
      "Data columns (total 16 columns):\n",
      " #   Column            Non-Null Count  Dtype  \n",
      "---  ------            --------------  -----  \n",
      " 0   name              530 non-null    object \n",
      " 1   album             530 non-null    object \n",
      " 2   artist            530 non-null    object \n",
      " 3   artist_top_genre  530 non-null    object \n",
      " 4   release_date      530 non-null    int64  \n",
      " 5   length            530 non-null    int64  \n",
      " 6   popularity        530 non-null    int64  \n",
      " 7   danceability      530 non-null    float64\n",
      " 8   acousticness      530 non-null    float64\n",
      " 9   energy            530 non-null    float64\n",
      " 10  instrumentalness  530 non-null    float64\n",
      " 11  liveness          530 non-null    float64\n",
      " 12  loudness          530 non-null    float64\n",
      " 13  speechiness       530 non-null    float64\n",
      " 14  tempo             530 non-null    float64\n",
      " 15  time_signature    530 non-null    int64  \n",
      "dtypes: float64(8), int64(4), object(4)\n",
      "memory usage: 66.4+ KB\n"
     ]
    }
   ],
   "source": [
    "data.info()"
   ]
  },
  {
   "cell_type": "code",
   "execution_count": 4,
   "metadata": {},
   "outputs": [
    {
     "data": {
      "text/plain": [
       "name                0\n",
       "album               0\n",
       "artist              0\n",
       "artist_top_genre    0\n",
       "release_date        0\n",
       "length              0\n",
       "popularity          0\n",
       "danceability        0\n",
       "acousticness        0\n",
       "energy              0\n",
       "instrumentalness    0\n",
       "liveness            0\n",
       "loudness            0\n",
       "speechiness         0\n",
       "tempo               0\n",
       "time_signature      0\n",
       "dtype: int64"
      ]
     },
     "execution_count": 4,
     "metadata": {},
     "output_type": "execute_result"
    }
   ],
   "source": [
    "data.isnull().sum()"
   ]
  },
  {
   "cell_type": "code",
   "execution_count": 5,
   "metadata": {},
   "outputs": [
    {
     "data": {
      "text/html": [
       "<div>\n",
       "<style scoped>\n",
       "    .dataframe tbody tr th:only-of-type {\n",
       "        vertical-align: middle;\n",
       "    }\n",
       "\n",
       "    .dataframe tbody tr th {\n",
       "        vertical-align: top;\n",
       "    }\n",
       "\n",
       "    .dataframe thead th {\n",
       "        text-align: right;\n",
       "    }\n",
       "</style>\n",
       "<table border=\"1\" class=\"dataframe\">\n",
       "  <thead>\n",
       "    <tr style=\"text-align: right;\">\n",
       "      <th></th>\n",
       "      <th>release_date</th>\n",
       "      <th>length</th>\n",
       "      <th>popularity</th>\n",
       "      <th>danceability</th>\n",
       "      <th>acousticness</th>\n",
       "      <th>energy</th>\n",
       "      <th>instrumentalness</th>\n",
       "      <th>liveness</th>\n",
       "      <th>loudness</th>\n",
       "      <th>speechiness</th>\n",
       "      <th>tempo</th>\n",
       "      <th>time_signature</th>\n",
       "    </tr>\n",
       "  </thead>\n",
       "  <tbody>\n",
       "    <tr>\n",
       "      <th>count</th>\n",
       "      <td>530.000000</td>\n",
       "      <td>530.000000</td>\n",
       "      <td>530.000000</td>\n",
       "      <td>530.000000</td>\n",
       "      <td>530.000000</td>\n",
       "      <td>530.000000</td>\n",
       "      <td>530.000000</td>\n",
       "      <td>530.000000</td>\n",
       "      <td>530.000000</td>\n",
       "      <td>530.000000</td>\n",
       "      <td>530.000000</td>\n",
       "      <td>530.000000</td>\n",
       "    </tr>\n",
       "    <tr>\n",
       "      <th>mean</th>\n",
       "      <td>2015.390566</td>\n",
       "      <td>222298.169811</td>\n",
       "      <td>17.507547</td>\n",
       "      <td>0.741619</td>\n",
       "      <td>0.265412</td>\n",
       "      <td>0.760623</td>\n",
       "      <td>0.016305</td>\n",
       "      <td>0.147308</td>\n",
       "      <td>-4.953011</td>\n",
       "      <td>0.130748</td>\n",
       "      <td>116.487864</td>\n",
       "      <td>3.986792</td>\n",
       "    </tr>\n",
       "    <tr>\n",
       "      <th>std</th>\n",
       "      <td>3.131688</td>\n",
       "      <td>39696.822259</td>\n",
       "      <td>18.992212</td>\n",
       "      <td>0.117522</td>\n",
       "      <td>0.208342</td>\n",
       "      <td>0.148533</td>\n",
       "      <td>0.090321</td>\n",
       "      <td>0.123588</td>\n",
       "      <td>2.464186</td>\n",
       "      <td>0.092939</td>\n",
       "      <td>23.518601</td>\n",
       "      <td>0.333701</td>\n",
       "    </tr>\n",
       "    <tr>\n",
       "      <th>min</th>\n",
       "      <td>1998.000000</td>\n",
       "      <td>89488.000000</td>\n",
       "      <td>0.000000</td>\n",
       "      <td>0.255000</td>\n",
       "      <td>0.000665</td>\n",
       "      <td>0.111000</td>\n",
       "      <td>0.000000</td>\n",
       "      <td>0.028300</td>\n",
       "      <td>-19.362000</td>\n",
       "      <td>0.027800</td>\n",
       "      <td>61.695000</td>\n",
       "      <td>3.000000</td>\n",
       "    </tr>\n",
       "    <tr>\n",
       "      <th>25%</th>\n",
       "      <td>2014.000000</td>\n",
       "      <td>199305.000000</td>\n",
       "      <td>0.000000</td>\n",
       "      <td>0.681000</td>\n",
       "      <td>0.089525</td>\n",
       "      <td>0.669000</td>\n",
       "      <td>0.000000</td>\n",
       "      <td>0.075650</td>\n",
       "      <td>-6.298750</td>\n",
       "      <td>0.059100</td>\n",
       "      <td>102.961250</td>\n",
       "      <td>4.000000</td>\n",
       "    </tr>\n",
       "    <tr>\n",
       "      <th>50%</th>\n",
       "      <td>2016.000000</td>\n",
       "      <td>218509.000000</td>\n",
       "      <td>13.000000</td>\n",
       "      <td>0.761000</td>\n",
       "      <td>0.220500</td>\n",
       "      <td>0.784500</td>\n",
       "      <td>0.000004</td>\n",
       "      <td>0.103500</td>\n",
       "      <td>-4.558500</td>\n",
       "      <td>0.097950</td>\n",
       "      <td>112.714500</td>\n",
       "      <td>4.000000</td>\n",
       "    </tr>\n",
       "    <tr>\n",
       "      <th>75%</th>\n",
       "      <td>2017.000000</td>\n",
       "      <td>242098.500000</td>\n",
       "      <td>31.000000</td>\n",
       "      <td>0.829500</td>\n",
       "      <td>0.403000</td>\n",
       "      <td>0.875750</td>\n",
       "      <td>0.000234</td>\n",
       "      <td>0.164000</td>\n",
       "      <td>-3.331000</td>\n",
       "      <td>0.177000</td>\n",
       "      <td>125.039250</td>\n",
       "      <td>4.000000</td>\n",
       "    </tr>\n",
       "    <tr>\n",
       "      <th>max</th>\n",
       "      <td>2020.000000</td>\n",
       "      <td>511738.000000</td>\n",
       "      <td>73.000000</td>\n",
       "      <td>0.966000</td>\n",
       "      <td>0.954000</td>\n",
       "      <td>0.995000</td>\n",
       "      <td>0.910000</td>\n",
       "      <td>0.811000</td>\n",
       "      <td>0.582000</td>\n",
       "      <td>0.514000</td>\n",
       "      <td>206.007000</td>\n",
       "      <td>5.000000</td>\n",
       "    </tr>\n",
       "  </tbody>\n",
       "</table>\n",
       "</div>"
      ],
      "text/plain": [
       "       release_date         length  popularity  danceability  acousticness  \\\n",
       "count    530.000000     530.000000  530.000000    530.000000    530.000000   \n",
       "mean    2015.390566  222298.169811   17.507547      0.741619      0.265412   \n",
       "std        3.131688   39696.822259   18.992212      0.117522      0.208342   \n",
       "min     1998.000000   89488.000000    0.000000      0.255000      0.000665   \n",
       "25%     2014.000000  199305.000000    0.000000      0.681000      0.089525   \n",
       "50%     2016.000000  218509.000000   13.000000      0.761000      0.220500   \n",
       "75%     2017.000000  242098.500000   31.000000      0.829500      0.403000   \n",
       "max     2020.000000  511738.000000   73.000000      0.966000      0.954000   \n",
       "\n",
       "           energy  instrumentalness    liveness    loudness  speechiness  \\\n",
       "count  530.000000        530.000000  530.000000  530.000000   530.000000   \n",
       "mean     0.760623          0.016305    0.147308   -4.953011     0.130748   \n",
       "std      0.148533          0.090321    0.123588    2.464186     0.092939   \n",
       "min      0.111000          0.000000    0.028300  -19.362000     0.027800   \n",
       "25%      0.669000          0.000000    0.075650   -6.298750     0.059100   \n",
       "50%      0.784500          0.000004    0.103500   -4.558500     0.097950   \n",
       "75%      0.875750          0.000234    0.164000   -3.331000     0.177000   \n",
       "max      0.995000          0.910000    0.811000    0.582000     0.514000   \n",
       "\n",
       "            tempo  time_signature  \n",
       "count  530.000000      530.000000  \n",
       "mean   116.487864        3.986792  \n",
       "std     23.518601        0.333701  \n",
       "min     61.695000        3.000000  \n",
       "25%    102.961250        4.000000  \n",
       "50%    112.714500        4.000000  \n",
       "75%    125.039250        4.000000  \n",
       "max    206.007000        5.000000  "
      ]
     },
     "execution_count": 5,
     "metadata": {},
     "output_type": "execute_result"
    }
   ],
   "source": [
    "data.describe()"
   ]
  },
  {
   "cell_type": "code",
   "execution_count": 6,
   "metadata": {},
   "outputs": [],
   "source": [
    "import matplotlib.pyplot as plt\n",
    "import seaborn as sns\n",
    "import plotly.express as px"
   ]
  },
  {
   "cell_type": "code",
   "execution_count": 8,
   "metadata": {},
   "outputs": [
    {
     "data": {
      "image/png": "[encoded data removed]",
      "text/plain": [
       "<Figure size 640x480 with 1 Axes>"
      ]
     },
     "metadata": {},
     "output_type": "display_data"
    }
   ],
   "source": [
    "plt.scatter(data['release_date'], data['popularity'])\n",
    "plt.xlabel('Releas Data')\n",
    "plt.ylabel('Popularity')\n",
    "plt.title('Scatterplot using Matplotlib')\n",
    "plt.xticks(rotation=45)\n",
    "plt.show()"
   ]
  },
  {
   "cell_type": "code",
   "execution_count": 12,
   "metadata": {},
   "outputs": [
    {
     "data": {
      "image/png": "[encoded data removed]",
      "text/plain": [
       "<Figure size 640x480 with 1 Axes>"
      ]
     },
     "metadata": {},
     "output_type": "display_data"
    }
   ],
   "source": [
    "sns.scatterplot(data=data ,x='release_date', y='popularity', hue='energy')\n",
    "plt.xlabel('Releas Data')\n",
    "plt.ylabel('Popularity')\n",
    "plt.title('Scatterplot using Seaborn')\n",
    "plt.xticks(rotation=45)\n",
    "plt.show()"
   ]
  },
  {
   "cell_type": "code",
   "execution_count": 13,
   "metadata": {},
   "outputs": [
    {
     "data": {
      "application/vnd.plotly.v1+json": {
       "config": {
        "plotlyServerURL": "https://plot.ly"
       },
       "data": [
        {
         "hovertemplate": "energy=%{marker.color}<br>release_date=%{x}<br>popularity=%{y}<extra></extra>",
         "legendgroup": "0.42",
         "marker": {
          "color": [
           0.42
          ],
          "coloraxis": "coloraxis",
          "symbol": "circle"
         },
         "mode": "markers",
         "name": "0.42",
         "orientation": "v",
         "showlegend": true,
         "type": "scatter",
         "x": [
          2019
         ],
         "xaxis": "x",
         "y": [
          48
         ],
         "yaxis": "y"
        },
        {
         "hovertemplate": "energy=%{marker.color}<br>release_date=%{x}<br>popularity=%{y}<extra></extra>",
         "legendgroup": "0.683",
         "marker": {
          "color": [
           0.683,
           0.683,
           0.683
          ],
          "coloraxis": "coloraxis",
          "symbol": "diamond"
         },
         "mode": "markers",
         "name": "0.683",
         "orientation": "v",
         "showlegend": true,
         "type": "scatter",
         "x": [
          2020,
          2016,
          2019
         ],
         "xaxis": "x",
         "y": [
          30,
          0,
          41
         ],
         "yaxis": "y"
        },
        {
         "hovertemplate": "energy=%{marker.color}<br>release_date=%{x}<br>popularity=%{y}<extra></extra>",
         "legendgroup": "0.564",
         "marker": {
          "color": [
           0.564
          ],
          "coloraxis": "coloraxis",
          "symbol": "square"
         },
         "mode": "markers",
         "name": "0.564",
         "orientation": "v",
         "showlegend": true,
         "type": "scatter",
         "x": [
          2018
         ],
         "xaxis": "x",
         "y": [
          40
         ],
         "yaxis": "y"
        },
        {
         "hovertemplate": "energy=%{marker.color}<br>release_date=%{x}<br>popularity=%{y}<extra></extra>",
         "legendgroup": "0.611",
         "marker": {
          "color": [
           0.611
          ],
          "coloraxis": "coloraxis",
          "symbol": "x"
         },
         "mode": "markers",
         "name": "0.611",
         "orientation": "v",
         "showlegend": true,
         "type": "scatter",
         "x": [
          2019
         ],
         "xaxis": "x",
         "y": [
          14
         ],
         "yaxis": "y"
        },
        {
         "hovertemplate": "energy=%{marker.color}<br>release_date=%{x}<br>popularity=%{y}<extra></extra>",
         "legendgroup": "0.833",
         "marker": {
          "color": [
           0.833,
           0.833,
           0.833
          ],
          "coloraxis": "coloraxis",
          "symbol": "cross"
         },
         "mode": "markers",
         "name": "0.833",
         "orientation": "v",
         "showlegend": true,
         "type": "scatter",
         "x": [
          2018,
          2014,
          2014
         ],
         "xaxis": "x",
         "y": [
          25,
          17,
          0
         ],
         "yaxis": "y"
        },
        {
         "hovertemplate": "energy=%{marker.color}<br>release_date=%{x}<br>popularity=%{y}<extra></extra>",
         "legendgroup": "0.525",
         "marker": {
          "color": [
           0.525
          ],
          "coloraxis": "coloraxis",
          "symbol": "circle"
         },
         "mode": "markers",
         "name": "0.525",
         "orientation": "v",
         "showlegend": true,
         "type": "scatter",
         "x": [
          2020
         ],
         "xaxis": "x",
         "y": [
          26
         ],
         "yaxis": "y"
        },
        {
         "hovertemplate": "energy=%{marker.color}<br>release_date=%{x}<br>popularity=%{y}<extra></extra>",
         "legendgroup": "0.587",
         "marker": {
          "color": [
           0.587,
           0.587
          ],
          "coloraxis": "coloraxis",
          "symbol": "diamond"
         },
         "mode": "markers",
         "name": "0.587",
         "orientation": "v",
         "showlegend": true,
         "type": "scatter",
         "x": [
          2018,
          2018
         ],
         "xaxis": "x",
         "y": [
          29,
          11
         ],
         "yaxis": "y"
        },
        {
         "hovertemplate": "energy=%{marker.color}<br>release_date=%{x}<br>popularity=%{y}<extra></extra>",
         "legendgroup": "0.3",
         "marker": {
          "color": [
           0.3
          ],
          "coloraxis": "coloraxis",
          "symbol": "square"
         },
         "mode": "markers",
         "name": "0.3",
         "orientation": "v",
         "showlegend": true,
         "type": "scatter",
         "x": [
          2018
         ],
         "xaxis": "x",
         "y": [
          27
         ],
         "yaxis": "y"
        },
        {
         "hovertemplate": "energy=%{marker.color}<br>release_date=%{x}<br>popularity=%{y}<extra></extra>",
         "legendgroup": "0.669",
         "marker": {
          "color": [
           0.669,
           0.669,
           0.669
          ],
          "coloraxis": "coloraxis",
          "symbol": "x"
         },
         "mode": "markers",
         "name": "0.669",
         "orientation": "v",
         "showlegend": true,
         "type": "scatter",
         "x": [
          2019,
          2018,
          2016
         ],
         "xaxis": "x",
         "y": [
          36,
          34,
          0
         ],
         "yaxis": "y"
        },
        {
         "hovertemplate": "energy=%{marker.color}<br>release_date=%{x}<br>popularity=%{y}<extra></extra>",
         "legendgroup": "0.295",
         "marker": {
          "color": [
           0.295
          ],
          "coloraxis": "coloraxis",
          "symbol": "cross"
         },
         "mode": "markers",
         "name": "0.295",
         "orientation": "v",
         "showlegend": true,
         "type": "scatter",
         "x": [
          2019
         ],
         "xaxis": "x",
         "y": [
          30
         ],
         "yaxis": "y"
        },
        {
         "hovertemplate": "energy=%{marker.color}<br>release_date=%{x}<br>popularity=%{y}<extra></extra>",
         "legendgroup": "0.596",
         "marker": {
          "color": [
           0.596,
           0.596
          ],
          "coloraxis": "coloraxis",
          "symbol": "circle"
         },
         "mode": "markers",
         "name": "0.596",
         "orientation": "v",
         "showlegend": true,
         "type": "scatter",
         "x": [
          2019,
          2016
         ],
         "xaxis": "x",
         "y": [
          33,
          29
         ],
         "yaxis": "y"
        },
        {
         "hovertemplate": "energy=%{marker.color}<br>release_date=%{x}<br>popularity=%{y}<extra></extra>",
         "legendgroup": "0.745",
         "marker": {
          "color": [
           0.745
          ],
          "coloraxis": "coloraxis",
          "symbol": "diamond"
         },
         "mode": "markers",
         "name": "0.745",
         "orientation": "v",
         "showlegend": true,
         "type": "scatter",
         "x": [
          2020
         ],
         "xaxis": "x",
         "y": [
          35
         ],
         "yaxis": "y"
        },
        {
         "hovertemplate": "energy=%{marker.color}<br>release_date=%{x}<br>popularity=%{y}<extra></extra>",
         "legendgroup": "0.433",
         "marker": {
          "color": [
           0.433
          ],
          "coloraxis": "coloraxis",
          "symbol": "square"
         },
         "mode": "markers",
         "name": "0.433",
         "orientation": "v",
         "showlegend": true,
         "type": "scatter",
         "x": [
          2019
         ],
         "xaxis": "x",
         "y": [
          46
         ],
         "yaxis": "y"
        },
        {
         "hovertemplate": "energy=%{marker.color}<br>release_date=%{x}<br>popularity=%{y}<extra></extra>",
         "legendgroup": "0.563",
         "marker": {
          "color": [
           0.563
          ],
          "coloraxis": "coloraxis",
          "symbol": "x"
         },
         "mode": "markers",
         "name": "0.563",
         "orientation": "v",
         "showlegend": true,
         "type": "scatter",
         "x": [
          2020
         ],
         "xaxis": "x",
         "y": [
          23
         ],
         "yaxis": "y"
        },
        {
         "hovertemplate": "energy=%{marker.color}<br>release_date=%{x}<br>popularity=%{y}<extra></extra>",
         "legendgroup": "0.462",
         "marker": {
          "color": [
           0.462
          ],
          "coloraxis": "coloraxis",
          "symbol": "cross"
         },
         "mode": "markers",
         "name": "0.462",
         "orientation": "v",
         "showlegend": true,
         "type": "scatter",
         "x": [
          2016
         ],
         "xaxis": "x",
         "y": [
          19
         ],
         "yaxis": "y"
        },
        {
         "hovertemplate": "energy=%{marker.color}<br>release_date=%{x}<br>popularity=%{y}<extra></extra>",
         "legendgroup": "0.516",
         "marker": {
          "color": [
           0.516
          ],
          "coloraxis": "coloraxis",
          "symbol": "circle"
         },
         "mode": "markers",
         "name": "0.516",
         "orientation": "v",
         "showlegend": true,
         "type": "scatter",
         "x": [
          2019
         ],
         "xaxis": "x",
         "y": [
          14
         ],
         "yaxis": "y"
        },
        {
         "hovertemplate": "energy=%{marker.color}<br>release_date=%{x}<br>popularity=%{y}<extra></extra>",
         "legendgroup": "0.696",
         "marker": {
          "color": [
           0.696,
           0.696,
           0.696
          ],
          "coloraxis": "coloraxis",
          "symbol": "diamond"
         },
         "mode": "markers",
         "name": "0.696",
         "orientation": "v",
         "showlegend": true,
         "type": "scatter",
         "x": [
          2019,
          2016,
          2018
         ],
         "xaxis": "x",
         "y": [
          15,
          31,
          42
         ],
         "yaxis": "y"
        },
        {
         "hovertemplate": "energy=%{marker.color}<br>release_date=%{x}<br>popularity=%{y}<extra></extra>",
         "legendgroup": "0.646",
         "marker": {
          "color": [
           0.646,
           0.646,
           0.646
          ],
          "coloraxis": "coloraxis",
          "symbol": "square"
         },
         "mode": "markers",
         "name": "0.646",
         "orientation": "v",
         "showlegend": true,
         "type": "scatter",
         "x": [
          2020,
          2017,
          2009
         ],
         "xaxis": "x",
         "y": [
          29,
          9,
          31
         ],
         "yaxis": "y"
        },
        {
         "hovertemplate": "energy=%{marker.color}<br>release_date=%{x}<br>popularity=%{y}<extra></extra>",
         "legendgroup": "0.819",
         "marker": {
          "color": [
           0.819,
           0.819
          ],
          "coloraxis": "coloraxis",
          "symbol": "x"
         },
         "mode": "markers",
         "name": "0.819",
         "orientation": "v",
         "showlegend": true,
         "type": "scatter",
         "x": [
          2020,
          2010
         ],
         "xaxis": "x",
         "y": [
          49,
          25
         ],
         "yaxis": "y"
        },
        {
         "hovertemplate": "energy=%{marker.color}<br>release_date=%{x}<br>popularity=%{y}<extra></extra>",
         "legendgroup": "0.333",
         "marker": {
          "color": [
           0.333
          ],
          "coloraxis": "coloraxis",
          "symbol": "cross"
         },
         "mode": "markers",
         "name": "0.333",
         "orientation": "v",
         "showlegend": true,
         "type": "scatter",
         "x": [
          2017
         ],
         "xaxis": "x",
         "y": [
          34
         ],
         "yaxis": "y"
        },
        {
         "hovertemplate": "energy=%{marker.color}<br>release_date=%{x}<br>popularity=%{y}<extra></extra>",
         "legendgroup": "0.352",
         "marker": {
          "color": [
           0.352
          ],
          "coloraxis": "coloraxis",
          "symbol": "circle"
         },
         "mode": "markers",
         "name": "0.352",
         "orientation": "v",
         "showlegend": true,
         "type": "scatter",
         "x": [
          2017
         ],
         "xaxis": "x",
         "y": [
          24
         ],
         "yaxis": "y"
        },
        {
         "hovertemplate": "energy=%{marker.color}<br>release_date=%{x}<br>popularity=%{y}<extra></extra>",
         "legendgroup": "0.446",
         "marker": {
          "color": [
           0.446
          ],
          "coloraxis": "coloraxis",
          "symbol": "diamond"
         },
         "mode": "markers",
         "name": "0.446",
         "orientation": "v",
         "showlegend": true,
         "type": "scatter",
         "x": [
          2019
         ],
         "xaxis": "x",
         "y": [
          17
         ],
         "yaxis": "y"
        },
        {
         "hovertemplate": "energy=%{marker.color}<br>release_date=%{x}<br>popularity=%{y}<extra></extra>",
         "legendgroup": "0.536",
         "marker": {
          "color": [
           0.536
          ],
          "coloraxis": "coloraxis",
          "symbol": "square"
         },
         "mode": "markers",
         "name": "0.536",
         "orientation": "v",
         "showlegend": true,
         "type": "scatter",
         "x": [
          2018
         ],
         "xaxis": "x",
         "y": [
          36
         ],
         "yaxis": "y"
        },
        {
         "hovertemplate": "energy=%{marker.color}<br>release_date=%{x}<br>popularity=%{y}<extra></extra>",
         "legendgroup": "0.782",
         "marker": {
          "color": [
           0.782,
           0.782
          ],
          "coloraxis": "coloraxis",
          "symbol": "x"
         },
         "mode": "markers",
         "name": "0.782",
         "orientation": "v",
         "showlegend": true,
         "type": "scatter",
         "x": [
          2018,
          2019
         ],
         "xaxis": "x",
         "y": [
          45,
          49
         ],
         "yaxis": "y"
        },
        {
         "hovertemplate": "energy=%{marker.color}<br>release_date=%{x}<br>popularity=%{y}<extra></extra>",
         "legendgroup": "0.529",
         "marker": {
          "color": [
           0.529
          ],
          "coloraxis": "coloraxis",
          "symbol": "cross"
         },
         "mode": "markers",
         "name": "0.529",
         "orientation": "v",
         "showlegend": true,
         "type": "scatter",
         "x": [
          2019
         ],
         "xaxis": "x",
         "y": [
          17
         ],
         "yaxis": "y"
        },
        {
         "hovertemplate": "energy=%{marker.color}<br>release_date=%{x}<br>popularity=%{y}<extra></extra>",
         "legendgroup": "0.111",
         "marker": {
          "color": [
           0.111
          ],
          "coloraxis": "coloraxis",
          "symbol": "circle"
         },
         "mode": "markers",
         "name": "0.111",
         "orientation": "v",
         "showlegend": true,
         "type": "scatter",
         "x": [
          2018
         ],
         "xaxis": "x",
         "y": [
          36
         ],
         "yaxis": "y"
        },
        {
         "hovertemplate": "energy=%{marker.color}<br>release_date=%{x}<br>popularity=%{y}<extra></extra>",
         "legendgroup": "0.653",
         "marker": {
          "color": [
           0.653
          ],
          "coloraxis": "coloraxis",
          "symbol": "diamond"
         },
         "mode": "markers",
         "name": "0.653",
         "orientation": "v",
         "showlegend": true,
         "type": "scatter",
         "x": [
          2019
         ],
         "xaxis": "x",
         "y": [
          12
         ],
         "yaxis": "y"
        },
        {
         "hovertemplate": "energy=%{marker.color}<br>release_date=%{x}<br>popularity=%{y}<extra></extra>",
         "legendgroup": "0.372",
         "marker": {
          "color": [
           0.372
          ],
          "coloraxis": "coloraxis",
          "symbol": "square"
         },
         "mode": "markers",
         "name": "0.372",
         "orientation": "v",
         "showlegend": true,
         "type": "scatter",
         "x": [
          2019
         ],
         "xaxis": "x",
         "y": [
          27
         ],
         "yaxis": "y"
        },
        {
         "hovertemplate": "energy=%{marker.color}<br>release_date=%{x}<br>popularity=%{y}<extra></extra>",
         "legendgroup": "0.73",
         "marker": {
          "color": [
           0.73,
           0.73,
           0.73
          ],
          "coloraxis": "coloraxis",
          "symbol": "x"
         },
         "mode": "markers",
         "name": "0.73",
         "orientation": "v",
         "showlegend": true,
         "type": "scatter",
         "x": [
          2019,
          2010,
          2017
         ],
         "xaxis": "x",
         "y": [
          18,
          38,
          0
         ],
         "yaxis": "y"
        },
        {
         "hovertemplate": "energy=%{marker.color}<br>release_date=%{x}<br>popularity=%{y}<extra></extra>",
         "legendgroup": "0.668",
         "marker": {
          "color": [
           0.668,
           0.668,
           0.668
          ],
          "coloraxis": "coloraxis",
          "symbol": "cross"
         },
         "mode": "markers",
         "name": "0.668",
         "orientation": "v",
         "showlegend": true,
         "type": "scatter",
         "x": [
          2019,
          2012,
          2018
         ],
         "xaxis": "x",
         "y": [
          55,
          18,
          7
         ],
         "yaxis": "y"
        },
        {
         "hovertemplate": "energy=%{marker.color}<br>release_date=%{x}<br>popularity=%{y}<extra></extra>",
         "legendgroup": "0.868",
         "marker": {
          "color": [
           0.868,
           0.868,
           0.868
          ],
          "coloraxis": "coloraxis",
          "symbol": "circle"
         },
         "mode": "markers",
         "name": "0.868",
         "orientation": "v",
         "showlegend": true,
         "type": "scatter",
         "x": [
          2014,
          2017,
          2017
         ],
         "xaxis": "x",
         "y": [
          0,
          0,
          0
         ],
         "yaxis": "y"
        },
        {
         "hovertemplate": "energy=%{marker.color}<br>release_date=%{x}<br>popularity=%{y}<extra></extra>",
         "legendgroup": "0.806",
         "marker": {
          "color": [
           0.806,
           0.806,
           0.806,
           0.806,
           0.806,
           0.806,
           0.806,
           0.806,
           0.806
          ],
          "coloraxis": "coloraxis",
          "symbol": "diamond"
         },
         "mode": "markers",
         "name": "0.806",
         "orientation": "v",
         "showlegend": true,
         "type": "scatter",
         "x": [
          2019,
          2016,
          2016,
          2016,
          2015,
          2018,
          2019,
          2015,
          2015
         ],
         "xaxis": "x",
         "y": [
          13,
          4,
          0,
          0,
          0,
          58,
          52,
          14,
          0
         ],
         "yaxis": "y"
        },
        {
         "hovertemplate": "energy=%{marker.color}<br>release_date=%{x}<br>popularity=%{y}<extra></extra>",
         "legendgroup": "0.799",
         "marker": {
          "color": [
           0.799,
           0.799,
           0.799
          ],
          "coloraxis": "coloraxis",
          "symbol": "square"
         },
         "mode": "markers",
         "name": "0.799",
         "orientation": "v",
         "showlegend": true,
         "type": "scatter",
         "x": [
          2018,
          2015,
          2017
         ],
         "xaxis": "x",
         "y": [
          48,
          0,
          14
         ],
         "yaxis": "y"
        },
        {
         "hovertemplate": "energy=%{marker.color}<br>release_date=%{x}<br>popularity=%{y}<extra></extra>",
         "legendgroup": "0.783",
         "marker": {
          "color": [
           0.783
          ],
          "coloraxis": "coloraxis",
          "symbol": "x"
         },
         "mode": "markers",
         "name": "0.783",
         "orientation": "v",
         "showlegend": true,
         "type": "scatter",
         "x": [
          2009
         ],
         "xaxis": "x",
         "y": [
          43
         ],
         "yaxis": "y"
        },
        {
         "hovertemplate": "energy=%{marker.color}<br>release_date=%{x}<br>popularity=%{y}<extra></extra>",
         "legendgroup": "0.866",
         "marker": {
          "color": [
           0.866,
           0.866
          ],
          "coloraxis": "coloraxis",
          "symbol": "cross"
         },
         "mode": "markers",
         "name": "0.866",
         "orientation": "v",
         "showlegend": true,
         "type": "scatter",
         "x": [
          2020,
          2015
         ],
         "xaxis": "x",
         "y": [
          63,
          0
         ],
         "yaxis": "y"
        },
        {
         "hovertemplate": "energy=%{marker.color}<br>release_date=%{x}<br>popularity=%{y}<extra></extra>",
         "legendgroup": "0.936",
         "marker": {
          "color": [
           0.936,
           0.936,
           0.936
          ],
          "coloraxis": "coloraxis",
          "symbol": "circle"
         },
         "mode": "markers",
         "name": "0.936",
         "orientation": "v",
         "showlegend": true,
         "type": "scatter",
         "x": [
          2014,
          2017,
          2014
         ],
         "xaxis": "x",
         "y": [
          16,
          0,
          0
         ],
         "yaxis": "y"
        },
        {
         "hovertemplate": "energy=%{marker.color}<br>release_date=%{x}<br>popularity=%{y}<extra></extra>",
         "legendgroup": "0.638",
         "marker": {
          "color": [
           0.638
          ],
          "coloraxis": "coloraxis",
          "symbol": "diamond"
         },
         "mode": "markers",
         "name": "0.638",
         "orientation": "v",
         "showlegend": true,
         "type": "scatter",
         "x": [
          2018
         ],
         "xaxis": "x",
         "y": [
          54
         ],
         "yaxis": "y"
        },
        {
         "hovertemplate": "energy=%{marker.color}<br>release_date=%{x}<br>popularity=%{y}<extra></extra>",
         "legendgroup": "0.762",
         "marker": {
          "color": [
           0.762,
           0.762
          ],
          "coloraxis": "coloraxis",
          "symbol": "square"
         },
         "mode": "markers",
         "name": "0.762",
         "orientation": "v",
         "showlegend": true,
         "type": "scatter",
         "x": [
          2018,
          2017
         ],
         "xaxis": "x",
         "y": [
          36,
          0
         ],
         "yaxis": "y"
        },
        {
         "hovertemplate": "energy=%{marker.color}<br>release_date=%{x}<br>popularity=%{y}<extra></extra>",
         "legendgroup": "0.687",
         "marker": {
          "color": [
           0.687,
           0.687
          ],
          "coloraxis": "coloraxis",
          "symbol": "x"
         },
         "mode": "markers",
         "name": "0.687",
         "orientation": "v",
         "showlegend": true,
         "type": "scatter",
         "x": [
          2019,
          2020
         ],
         "xaxis": "x",
         "y": [
          0,
          61
         ],
         "yaxis": "y"
        },
        {
         "hovertemplate": "energy=%{marker.color}<br>release_date=%{x}<br>popularity=%{y}<extra></extra>",
         "legendgroup": "0.656",
         "marker": {
          "color": [
           0.656
          ],
          "coloraxis": "coloraxis",
          "symbol": "cross"
         },
         "mode": "markers",
         "name": "0.656",
         "orientation": "v",
         "showlegend": true,
         "type": "scatter",
         "x": [
          2020
         ],
         "xaxis": "x",
         "y": [
          60
         ],
         "yaxis": "y"
        },
        {
         "hovertemplate": "energy=%{marker.color}<br>release_date=%{x}<br>popularity=%{y}<extra></extra>",
         "legendgroup": "0.543",
         "marker": {
          "color": [
           0.543
          ],
          "coloraxis": "coloraxis",
          "symbol": "circle"
         },
         "mode": "markers",
         "name": "0.543",
         "orientation": "v",
         "showlegend": true,
         "type": "scatter",
         "x": [
          2016
         ],
         "xaxis": "x",
         "y": [
          53
         ],
         "yaxis": "y"
        },
        {
         "hovertemplate": "energy=%{marker.color}<br>release_date=%{x}<br>popularity=%{y}<extra></extra>",
         "legendgroup": "0.608",
         "marker": {
          "color": [
           0.608
          ],
          "coloraxis": "coloraxis",
          "symbol": "diamond"
         },
         "mode": "markers",
         "name": "0.608",
         "orientation": "v",
         "showlegend": true,
         "type": "scatter",
         "x": [
          2017
         ],
         "xaxis": "x",
         "y": [
          41
         ],
         "yaxis": "y"
        },
        {
         "hovertemplate": "energy=%{marker.color}<br>release_date=%{x}<br>popularity=%{y}<extra></extra>",
         "legendgroup": "0.966",
         "marker": {
          "color": [
           0.966,
           0.966
          ],
          "coloraxis": "coloraxis",
          "symbol": "square"
         },
         "mode": "markers",
         "name": "0.966",
         "orientation": "v",
         "showlegend": true,
         "type": "scatter",
         "x": [
          2014,
          2013
         ],
         "xaxis": "x",
         "y": [
          26,
          23
         ],
         "yaxis": "y"
        },
        {
         "hovertemplate": "energy=%{marker.color}<br>release_date=%{x}<br>popularity=%{y}<extra></extra>",
         "legendgroup": "0.952",
         "marker": {
          "color": [
           0.952,
           0.952
          ],
          "coloraxis": "coloraxis",
          "symbol": "x"
         },
         "mode": "markers",
         "name": "0.952",
         "orientation": "v",
         "showlegend": true,
         "type": "scatter",
         "x": [
          2014,
          2017
         ],
         "xaxis": "x",
         "y": [
          5,
          0
         ],
         "yaxis": "y"
        },
        {
         "hovertemplate": "energy=%{marker.color}<br>release_date=%{x}<br>popularity=%{y}<extra></extra>",
         "legendgroup": "0.877",
         "marker": {
          "color": [
           0.877,
           0.877
          ],
          "coloraxis": "coloraxis",
          "symbol": "cross"
         },
         "mode": "markers",
         "name": "0.877",
         "orientation": "v",
         "showlegend": true,
         "type": "scatter",
         "x": [
          2014,
          2017
         ],
         "xaxis": "x",
         "y": [
          1,
          32
         ],
         "yaxis": "y"
        },
        {
         "hovertemplate": "energy=%{marker.color}<br>release_date=%{x}<br>popularity=%{y}<extra></extra>",
         "legendgroup": "0.661",
         "marker": {
          "color": [
           0.661
          ],
          "coloraxis": "coloraxis",
          "symbol": "circle"
         },
         "mode": "markers",
         "name": "0.661",
         "orientation": "v",
         "showlegend": true,
         "type": "scatter",
         "x": [
          2017
         ],
         "xaxis": "x",
         "y": [
          57
         ],
         "yaxis": "y"
        },
        {
         "hovertemplate": "energy=%{marker.color}<br>release_date=%{x}<br>popularity=%{y}<extra></extra>",
         "legendgroup": "0.666",
         "marker": {
          "color": [
           0.666,
           0.666
          ],
          "coloraxis": "coloraxis",
          "symbol": "diamond"
         },
         "mode": "markers",
         "name": "0.666",
         "orientation": "v",
         "showlegend": true,
         "type": "scatter",
         "x": [
          2015,
          2019
         ],
         "xaxis": "x",
         "y": [
          0,
          18
         ],
         "yaxis": "y"
        },
        {
         "hovertemplate": "energy=%{marker.color}<br>release_date=%{x}<br>popularity=%{y}<extra></extra>",
         "legendgroup": "0.709",
         "marker": {
          "color": [
           0.709,
           0.709
          ],
          "coloraxis": "coloraxis",
          "symbol": "square"
         },
         "mode": "markers",
         "name": "0.709",
         "orientation": "v",
         "showlegend": true,
         "type": "scatter",
         "x": [
          2020,
          2011
         ],
         "xaxis": "x",
         "y": [
          30,
          16
         ],
         "yaxis": "y"
        },
        {
         "hovertemplate": "energy=%{marker.color}<br>release_date=%{x}<br>popularity=%{y}<extra></extra>",
         "legendgroup": "0.717",
         "marker": {
          "color": [
           0.717
          ],
          "coloraxis": "coloraxis",
          "symbol": "x"
         },
         "mode": "markers",
         "name": "0.717",
         "orientation": "v",
         "showlegend": true,
         "type": "scatter",
         "x": [
          2018
         ],
         "xaxis": "x",
         "y": [
          22
         ],
         "yaxis": "y"
        },
        {
         "hovertemplate": "energy=%{marker.color}<br>release_date=%{x}<br>popularity=%{y}<extra></extra>",
         "legendgroup": "0.628",
         "marker": {
          "color": [
           0.628
          ],
          "coloraxis": "coloraxis",
          "symbol": "cross"
         },
         "mode": "markers",
         "name": "0.628",
         "orientation": "v",
         "showlegend": true,
         "type": "scatter",
         "x": [
          2018
         ],
         "xaxis": "x",
         "y": [
          24
         ],
         "yaxis": "y"
        },
        {
         "hovertemplate": "energy=%{marker.color}<br>release_date=%{x}<br>popularity=%{y}<extra></extra>",
         "legendgroup": "0.91",
         "marker": {
          "color": [
           0.91
          ],
          "coloraxis": "coloraxis",
          "symbol": "circle"
         },
         "mode": "markers",
         "name": "0.91",
         "orientation": "v",
         "showlegend": true,
         "type": "scatter",
         "x": [
          2015
         ],
         "xaxis": "x",
         "y": [
          22
         ],
         "yaxis": "y"
        },
        {
         "hovertemplate": "energy=%{marker.color}<br>release_date=%{x}<br>popularity=%{y}<extra></extra>",
         "legendgroup": "0.937",
         "marker": {
          "color": [
           0.937,
           0.937
          ],
          "coloraxis": "coloraxis",
          "symbol": "diamond"
         },
         "mode": "markers",
         "name": "0.937",
         "orientation": "v",
         "showlegend": true,
         "type": "scatter",
         "x": [
          2016,
          2016
         ],
         "xaxis": "x",
         "y": [
          1,
          20
         ],
         "yaxis": "y"
        },
        {
         "hovertemplate": "energy=%{marker.color}<br>release_date=%{x}<br>popularity=%{y}<extra></extra>",
         "legendgroup": "0.544",
         "marker": {
          "color": [
           0.544
          ],
          "coloraxis": "coloraxis",
          "symbol": "square"
         },
         "mode": "markers",
         "name": "0.544",
         "orientation": "v",
         "showlegend": true,
         "type": "scatter",
         "x": [
          2017
         ],
         "xaxis": "x",
         "y": [
          2
         ],
         "yaxis": "y"
        },
        {
         "hovertemplate": "energy=%{marker.color}<br>release_date=%{x}<br>popularity=%{y}<extra></extra>",
         "legendgroup": "0.592",
         "marker": {
          "color": [
           0.592
          ],
          "coloraxis": "coloraxis",
          "symbol": "x"
         },
         "mode": "markers",
         "name": "0.592",
         "orientation": "v",
         "showlegend": true,
         "type": "scatter",
         "x": [
          2017
         ],
         "xaxis": "x",
         "y": [
          0
         ],
         "yaxis": "y"
        },
        {
         "hovertemplate": "energy=%{marker.color}<br>release_date=%{x}<br>popularity=%{y}<extra></extra>",
         "legendgroup": "0.766",
         "marker": {
          "color": [
           0.766,
           0.766
          ],
          "coloraxis": "coloraxis",
          "symbol": "cross"
         },
         "mode": "markers",
         "name": "0.766",
         "orientation": "v",
         "showlegend": true,
         "type": "scatter",
         "x": [
          2018,
          2017
         ],
         "xaxis": "x",
         "y": [
          0,
          32
         ],
         "yaxis": "y"
        },
        {
         "hovertemplate": "energy=%{marker.color}<br>release_date=%{x}<br>popularity=%{y}<extra></extra>",
         "legendgroup": "0.883",
         "marker": {
          "color": [
           0.883,
           0.883
          ],
          "coloraxis": "coloraxis",
          "symbol": "circle"
         },
         "mode": "markers",
         "name": "0.883",
         "orientation": "v",
         "showlegend": true,
         "type": "scatter",
         "x": [
          2018,
          2015
         ],
         "xaxis": "x",
         "y": [
          0,
          0
         ],
         "yaxis": "y"
        },
        {
         "hovertemplate": "energy=%{marker.color}<br>release_date=%{x}<br>popularity=%{y}<extra></extra>",
         "legendgroup": "0.751",
         "marker": {
          "color": [
           0.751,
           0.751,
           0.751
          ],
          "coloraxis": "coloraxis",
          "symbol": "diamond"
         },
         "mode": "markers",
         "name": "0.751",
         "orientation": "v",
         "showlegend": true,
         "type": "scatter",
         "x": [
          2017,
          2011,
          2017
         ],
         "xaxis": "x",
         "y": [
          50,
          0,
          4
         ],
         "yaxis": "y"
        },
        {
         "hovertemplate": "energy=%{marker.color}<br>release_date=%{x}<br>popularity=%{y}<extra></extra>",
         "legendgroup": "0.913",
         "marker": {
          "color": [
           0.913
          ],
          "coloraxis": "coloraxis",
          "symbol": "square"
         },
         "mode": "markers",
         "name": "0.913",
         "orientation": "v",
         "showlegend": true,
         "type": "scatter",
         "x": [
          2014
         ],
         "xaxis": "x",
         "y": [
          26
         ],
         "yaxis": "y"
        },
        {
         "hovertemplate": "energy=%{marker.color}<br>release_date=%{x}<br>popularity=%{y}<extra></extra>",
         "legendgroup": "0.593",
         "marker": {
          "color": [
           0.593
          ],
          "coloraxis": "coloraxis",
          "symbol": "x"
         },
         "mode": "markers",
         "name": "0.593",
         "orientation": "v",
         "showlegend": true,
         "type": "scatter",
         "x": [
          2016
         ],
         "xaxis": "x",
         "y": [
          49
         ],
         "yaxis": "y"
        },
        {
         "hovertemplate": "energy=%{marker.color}<br>release_date=%{x}<br>popularity=%{y}<extra></extra>",
         "legendgroup": "0.823",
         "marker": {
          "color": [
           0.823,
           0.823
          ],
          "coloraxis": "coloraxis",
          "symbol": "cross"
         },
         "mode": "markers",
         "name": "0.823",
         "orientation": "v",
         "showlegend": true,
         "type": "scatter",
         "x": [
          2017,
          2016
         ],
         "xaxis": "x",
         "y": [
          0,
          22
         ],
         "yaxis": "y"
        },
        {
         "hovertemplate": "energy=%{marker.color}<br>release_date=%{x}<br>popularity=%{y}<extra></extra>",
         "legendgroup": "0.872",
         "marker": {
          "color": [
           0.872,
           0.872,
           0.872,
           0.872
          ],
          "coloraxis": "coloraxis",
          "symbol": "circle"
         },
         "mode": "markers",
         "name": "0.872",
         "orientation": "v",
         "showlegend": true,
         "type": "scatter",
         "x": [
          2011,
          2016,
          2018,
          2015
         ],
         "xaxis": "x",
         "y": [
          31,
          37,
          0,
          51
         ],
         "yaxis": "y"
        },
        {
         "hovertemplate": "energy=%{marker.color}<br>release_date=%{x}<br>popularity=%{y}<extra></extra>",
         "legendgroup": "0.816",
         "marker": {
          "color": [
           0.816
          ],
          "coloraxis": "coloraxis",
          "symbol": "diamond"
         },
         "mode": "markers",
         "name": "0.816",
         "orientation": "v",
         "showlegend": true,
         "type": "scatter",
         "x": [
          2018
         ],
         "xaxis": "x",
         "y": [
          47
         ],
         "yaxis": "y"
        },
        {
         "hovertemplate": "energy=%{marker.color}<br>release_date=%{x}<br>popularity=%{y}<extra></extra>",
         "legendgroup": "0.744",
         "marker": {
          "color": [
           0.744,
           0.744
          ],
          "coloraxis": "coloraxis",
          "symbol": "square"
         },
         "mode": "markers",
         "name": "0.744",
         "orientation": "v",
         "showlegend": true,
         "type": "scatter",
         "x": [
          2018,
          2016
         ],
         "xaxis": "x",
         "y": [
          22,
          45
         ],
         "yaxis": "y"
        },
        {
         "hovertemplate": "energy=%{marker.color}<br>release_date=%{x}<br>popularity=%{y}<extra></extra>",
         "legendgroup": "0.678",
         "marker": {
          "color": [
           0.678,
           0.678
          ],
          "coloraxis": "coloraxis",
          "symbol": "x"
         },
         "mode": "markers",
         "name": "0.678",
         "orientation": "v",
         "showlegend": true,
         "type": "scatter",
         "x": [
          2015,
          2016
         ],
         "xaxis": "x",
         "y": [
          0,
          13
         ],
         "yaxis": "y"
        },
        {
         "hovertemplate": "energy=%{marker.color}<br>release_date=%{x}<br>popularity=%{y}<extra></extra>",
         "legendgroup": "0.844",
         "marker": {
          "color": [
           0.844,
           0.844
          ],
          "coloraxis": "coloraxis",
          "symbol": "cross"
         },
         "mode": "markers",
         "name": "0.844",
         "orientation": "v",
         "showlegend": true,
         "type": "scatter",
         "x": [
          2017,
          2009
         ],
         "xaxis": "x",
         "y": [
          51,
          26
         ],
         "yaxis": "y"
        },
        {
         "hovertemplate": "energy=%{marker.color}<br>release_date=%{x}<br>popularity=%{y}<extra></extra>",
         "legendgroup": "0.67",
         "marker": {
          "color": [
           0.67
          ],
          "coloraxis": "coloraxis",
          "symbol": "circle"
         },
         "mode": "markers",
         "name": "0.67",
         "orientation": "v",
         "showlegend": true,
         "type": "scatter",
         "x": [
          2017
         ],
         "xaxis": "x",
         "y": [
          0
         ],
         "yaxis": "y"
        },
        {
         "hovertemplate": "energy=%{marker.color}<br>release_date=%{x}<br>popularity=%{y}<extra></extra>",
         "legendgroup": "0.675",
         "marker": {
          "color": [
           0.675
          ],
          "coloraxis": "coloraxis",
          "symbol": "diamond"
         },
         "mode": "markers",
         "name": "0.675",
         "orientation": "v",
         "showlegend": true,
         "type": "scatter",
         "x": [
          2017
         ],
         "xaxis": "x",
         "y": [
          61
         ],
         "yaxis": "y"
        },
        {
         "hovertemplate": "energy=%{marker.color}<br>release_date=%{x}<br>popularity=%{y}<extra></extra>",
         "legendgroup": "0.605",
         "marker": {
          "color": [
           0.605,
           0.605,
           0.605
          ],
          "coloraxis": "coloraxis",
          "symbol": "square"
         },
         "mode": "markers",
         "name": "0.605",
         "orientation": "v",
         "showlegend": true,
         "type": "scatter",
         "x": [
          2018,
          2017,
          2017
         ],
         "xaxis": "x",
         "y": [
          13,
          0,
          45
         ],
         "yaxis": "y"
        },
        {
         "hovertemplate": "energy=%{marker.color}<br>release_date=%{x}<br>popularity=%{y}<extra></extra>",
         "legendgroup": "0.906",
         "marker": {
          "color": [
           0.906,
           0.906
          ],
          "coloraxis": "coloraxis",
          "symbol": "x"
         },
         "mode": "markers",
         "name": "0.906",
         "orientation": "v",
         "showlegend": true,
         "type": "scatter",
         "x": [
          2015,
          2013
         ],
         "xaxis": "x",
         "y": [
          0,
          29
         ],
         "yaxis": "y"
        },
        {
         "hovertemplate": "energy=%{marker.color}<br>release_date=%{x}<br>popularity=%{y}<extra></extra>",
         "legendgroup": "0.87",
         "marker": {
          "color": [
           0.87,
           0.87
          ],
          "coloraxis": "coloraxis",
          "symbol": "cross"
         },
         "mode": "markers",
         "name": "0.87",
         "orientation": "v",
         "showlegend": true,
         "type": "scatter",
         "x": [
          2015,
          2016
         ],
         "xaxis": "x",
         "y": [
          1,
          12
         ],
         "yaxis": "y"
        },
        {
         "hovertemplate": "energy=%{marker.color}<br>release_date=%{x}<br>popularity=%{y}<extra></extra>",
         "legendgroup": "0.79",
         "marker": {
          "color": [
           0.79,
           0.79,
           0.79,
           0.79
          ],
          "coloraxis": "coloraxis",
          "symbol": "circle"
         },
         "mode": "markers",
         "name": "0.79",
         "orientation": "v",
         "showlegend": true,
         "type": "scatter",
         "x": [
          2018,
          2015,
          2020,
          2014
         ],
         "xaxis": "x",
         "y": [
          0,
          2,
          50,
          0
         ],
         "yaxis": "y"
        },
        {
         "hovertemplate": "energy=%{marker.color}<br>release_date=%{x}<br>popularity=%{y}<extra></extra>",
         "legendgroup": "0.839",
         "marker": {
          "color": [
           0.839,
           0.839
          ],
          "coloraxis": "coloraxis",
          "symbol": "diamond"
         },
         "mode": "markers",
         "name": "0.839",
         "orientation": "v",
         "showlegend": true,
         "type": "scatter",
         "x": [
          2017,
          2016
         ],
         "xaxis": "x",
         "y": [
          41,
          0
         ],
         "yaxis": "y"
        },
        {
         "hovertemplate": "energy=%{marker.color}<br>release_date=%{x}<br>popularity=%{y}<extra></extra>",
         "legendgroup": "0.93",
         "marker": {
          "color": [
           0.93,
           0.93,
           0.93
          ],
          "coloraxis": "coloraxis",
          "symbol": "square"
         },
         "mode": "markers",
         "name": "0.93",
         "orientation": "v",
         "showlegend": true,
         "type": "scatter",
         "x": [
          2015,
          2014,
          2014
         ],
         "xaxis": "x",
         "y": [
          0,
          0,
          25
         ],
         "yaxis": "y"
        },
        {
         "hovertemplate": "energy=%{marker.color}<br>release_date=%{x}<br>popularity=%{y}<extra></extra>",
         "legendgroup": "0.705",
         "marker": {
          "color": [
           0.705
          ],
          "coloraxis": "coloraxis",
          "symbol": "x"
         },
         "mode": "markers",
         "name": "0.705",
         "orientation": "v",
         "showlegend": true,
         "type": "scatter",
         "x": [
          2017
         ],
         "xaxis": "x",
         "y": [
          15
         ],
         "yaxis": "y"
        },
        {
         "hovertemplate": "energy=%{marker.color}<br>release_date=%{x}<br>popularity=%{y}<extra></extra>",
         "legendgroup": "0.845",
         "marker": {
          "color": [
           0.845,
           0.845,
           0.845,
           0.845
          ],
          "coloraxis": "coloraxis",
          "symbol": "cross"
         },
         "mode": "markers",
         "name": "0.845",
         "orientation": "v",
         "showlegend": true,
         "type": "scatter",
         "x": [
          2015,
          2015,
          2016,
          2014
         ],
         "xaxis": "x",
         "y": [
          54,
          0,
          13,
          9
         ],
         "yaxis": "y"
        },
        {
         "hovertemplate": "energy=%{marker.color}<br>release_date=%{x}<br>popularity=%{y}<extra></extra>",
         "legendgroup": "0.903",
         "marker": {
          "color": [
           0.903
          ],
          "coloraxis": "coloraxis",
          "symbol": "circle"
         },
         "mode": "markers",
         "name": "0.903",
         "orientation": "v",
         "showlegend": true,
         "type": "scatter",
         "x": [
          2014
         ],
         "xaxis": "x",
         "y": [
          52
         ],
         "yaxis": "y"
        },
        {
         "hovertemplate": "energy=%{marker.color}<br>release_date=%{x}<br>popularity=%{y}<extra></extra>",
         "legendgroup": "0.533",
         "marker": {
          "color": [
           0.533,
           0.533
          ],
          "coloraxis": "coloraxis",
          "symbol": "diamond"
         },
         "mode": "markers",
         "name": "0.533",
         "orientation": "v",
         "showlegend": true,
         "type": "scatter",
         "x": [
          2016,
          2011
         ],
         "xaxis": "x",
         "y": [
          36,
          0
         ],
         "yaxis": "y"
        },
        {
         "hovertemplate": "energy=%{marker.color}<br>release_date=%{x}<br>popularity=%{y}<extra></extra>",
         "legendgroup": "0.8",
         "marker": {
          "color": [
           0.8
          ],
          "coloraxis": "coloraxis",
          "symbol": "square"
         },
         "mode": "markers",
         "name": "0.8",
         "orientation": "v",
         "showlegend": true,
         "type": "scatter",
         "x": [
          2019
         ],
         "xaxis": "x",
         "y": [
          33
         ],
         "yaxis": "y"
        },
        {
         "hovertemplate": "energy=%{marker.color}<br>release_date=%{x}<br>popularity=%{y}<extra></extra>",
         "legendgroup": "0.386",
         "marker": {
          "color": [
           0.386
          ],
          "coloraxis": "coloraxis",
          "symbol": "x"
         },
         "mode": "markers",
         "name": "0.386",
         "orientation": "v",
         "showlegend": true,
         "type": "scatter",
         "x": [
          2020
         ],
         "xaxis": "x",
         "y": [
          34
         ],
         "yaxis": "y"
        },
        {
         "hovertemplate": "energy=%{marker.color}<br>release_date=%{x}<br>popularity=%{y}<extra></extra>",
         "legendgroup": "0.664",
         "marker": {
          "color": [
           0.664
          ],
          "coloraxis": "coloraxis",
          "symbol": "cross"
         },
         "mode": "markers",
         "name": "0.664",
         "orientation": "v",
         "showlegend": true,
         "type": "scatter",
         "x": [
          2018
         ],
         "xaxis": "x",
         "y": [
          0
         ],
         "yaxis": "y"
        },
        {
         "hovertemplate": "energy=%{marker.color}<br>release_date=%{x}<br>popularity=%{y}<extra></extra>",
         "legendgroup": "0.701",
         "marker": {
          "color": [
           0.701,
           0.701,
           0.701,
           0.701
          ],
          "coloraxis": "coloraxis",
          "symbol": "circle"
         },
         "mode": "markers",
         "name": "0.701",
         "orientation": "v",
         "showlegend": true,
         "type": "scatter",
         "x": [
          2017,
          2011,
          2012,
          2017
         ],
         "xaxis": "x",
         "y": [
          21,
          14,
          6,
          30
         ],
         "yaxis": "y"
        },
        {
         "hovertemplate": "energy=%{marker.color}<br>release_date=%{x}<br>popularity=%{y}<extra></extra>",
         "legendgroup": "0.813",
         "marker": {
          "color": [
           0.813,
           0.813,
           0.813
          ],
          "coloraxis": "coloraxis",
          "symbol": "diamond"
         },
         "mode": "markers",
         "name": "0.813",
         "orientation": "v",
         "showlegend": true,
         "type": "scatter",
         "x": [
          2016,
          2016,
          2019
         ],
         "xaxis": "x",
         "y": [
          19,
          23,
          65
         ],
         "yaxis": "y"
        },
        {
         "hovertemplate": "energy=%{marker.color}<br>release_date=%{x}<br>popularity=%{y}<extra></extra>",
         "legendgroup": "0.869",
         "marker": {
          "color": [
           0.869,
           0.869
          ],
          "coloraxis": "coloraxis",
          "symbol": "square"
         },
         "mode": "markers",
         "name": "0.869",
         "orientation": "v",
         "showlegend": true,
         "type": "scatter",
         "x": [
          2015,
          2016
         ],
         "xaxis": "x",
         "y": [
          0,
          1
         ],
         "yaxis": "y"
        },
        {
         "hovertemplate": "energy=%{marker.color}<br>release_date=%{x}<br>popularity=%{y}<extra></extra>",
         "legendgroup": "0.92",
         "marker": {
          "color": [
           0.92,
           0.92,
           0.92
          ],
          "coloraxis": "coloraxis",
          "symbol": "x"
         },
         "mode": "markers",
         "name": "0.92",
         "orientation": "v",
         "showlegend": true,
         "type": "scatter",
         "x": [
          2017,
          2016,
          2014
         ],
         "xaxis": "x",
         "y": [
          0,
          0,
          0
         ],
         "yaxis": "y"
        },
        {
         "hovertemplate": "energy=%{marker.color}<br>release_date=%{x}<br>popularity=%{y}<extra></extra>",
         "legendgroup": "0.667",
         "marker": {
          "color": [
           0.667
          ],
          "coloraxis": "coloraxis",
          "symbol": "cross"
         },
         "mode": "markers",
         "name": "0.667",
         "orientation": "v",
         "showlegend": true,
         "type": "scatter",
         "x": [
          2017
         ],
         "xaxis": "x",
         "y": [
          0
         ],
         "yaxis": "y"
        },
        {
         "hovertemplate": "energy=%{marker.color}<br>release_date=%{x}<br>popularity=%{y}<extra></extra>",
         "legendgroup": "0.733",
         "marker": {
          "color": [
           0.733,
           0.733
          ],
          "coloraxis": "coloraxis",
          "symbol": "circle"
         },
         "mode": "markers",
         "name": "0.733",
         "orientation": "v",
         "showlegend": true,
         "type": "scatter",
         "x": [
          2011,
          2017
         ],
         "xaxis": "x",
         "y": [
          0,
          0
         ],
         "yaxis": "y"
        },
        {
         "hovertemplate": "energy=%{marker.color}<br>release_date=%{x}<br>popularity=%{y}<extra></extra>",
         "legendgroup": "0.896",
         "marker": {
          "color": [
           0.896,
           0.896,
           0.896
          ],
          "coloraxis": "coloraxis",
          "symbol": "diamond"
         },
         "mode": "markers",
         "name": "0.896",
         "orientation": "v",
         "showlegend": true,
         "type": "scatter",
         "x": [
          2015,
          2014,
          2015
         ],
         "xaxis": "x",
         "y": [
          26,
          0,
          26
         ],
         "yaxis": "y"
        },
        {
         "hovertemplate": "energy=%{marker.color}<br>release_date=%{x}<br>popularity=%{y}<extra></extra>",
         "legendgroup": "0.875",
         "marker": {
          "color": [
           0.875,
           0.875,
           0.875,
           0.875,
           0.875
          ],
          "coloraxis": "coloraxis",
          "symbol": "square"
         },
         "mode": "markers",
         "name": "0.875",
         "orientation": "v",
         "showlegend": true,
         "type": "scatter",
         "x": [
          2014,
          2015,
          2016,
          2017,
          2014
         ],
         "xaxis": "x",
         "y": [
          20,
          0,
          25,
          29,
          0
         ],
         "yaxis": "y"
        },
        {
         "hovertemplate": "energy=%{marker.color}<br>release_date=%{x}<br>popularity=%{y}<extra></extra>",
         "legendgroup": "0.961",
         "marker": {
          "color": [
           0.961,
           0.961,
           0.961
          ],
          "coloraxis": "coloraxis",
          "symbol": "x"
         },
         "mode": "markers",
         "name": "0.961",
         "orientation": "v",
         "showlegend": true,
         "type": "scatter",
         "x": [
          2012,
          2014,
          2015
         ],
         "xaxis": "x",
         "y": [
          0,
          33,
          0
         ],
         "yaxis": "y"
        },
        {
         "hovertemplate": "energy=%{marker.color}<br>release_date=%{x}<br>popularity=%{y}<extra></extra>",
         "legendgroup": "0.532",
         "marker": {
          "color": [
           0.532
          ],
          "coloraxis": "coloraxis",
          "symbol": "cross"
         },
         "mode": "markers",
         "name": "0.532",
         "orientation": "v",
         "showlegend": true,
         "type": "scatter",
         "x": [
          2009
         ],
         "xaxis": "x",
         "y": [
          0
         ],
         "yaxis": "y"
        },
        {
         "hovertemplate": "energy=%{marker.color}<br>release_date=%{x}<br>popularity=%{y}<extra></extra>",
         "legendgroup": "0.836",
         "marker": {
          "color": [
           0.836,
           0.836
          ],
          "coloraxis": "coloraxis",
          "symbol": "circle"
         },
         "mode": "markers",
         "name": "0.836",
         "orientation": "v",
         "showlegend": true,
         "type": "scatter",
         "x": [
          2015,
          2016
         ],
         "xaxis": "x",
         "y": [
          0,
          0
         ],
         "yaxis": "y"
        },
        {
         "hovertemplate": "energy=%{marker.color}<br>release_date=%{x}<br>popularity=%{y}<extra></extra>",
         "legendgroup": "0.627",
         "marker": {
          "color": [
           0.627
          ],
          "coloraxis": "coloraxis",
          "symbol": "diamond"
         },
         "mode": "markers",
         "name": "0.627",
         "orientation": "v",
         "showlegend": true,
         "type": "scatter",
         "x": [
          2013
         ],
         "xaxis": "x",
         "y": [
          46
         ],
         "yaxis": "y"
        },
        {
         "hovertemplate": "energy=%{marker.color}<br>release_date=%{x}<br>popularity=%{y}<extra></extra>",
         "legendgroup": "0.85",
         "marker": {
          "color": [
           0.85
          ],
          "coloraxis": "coloraxis",
          "symbol": "square"
         },
         "mode": "markers",
         "name": "0.85",
         "orientation": "v",
         "showlegend": true,
         "type": "scatter",
         "x": [
          2014
         ],
         "xaxis": "x",
         "y": [
          1
         ],
         "yaxis": "y"
        },
        {
         "hovertemplate": "energy=%{marker.color}<br>release_date=%{x}<br>popularity=%{y}<extra></extra>",
         "legendgroup": "0.887",
         "marker": {
          "color": [
           0.887,
           0.887,
           0.887,
           0.887,
           0.887
          ],
          "coloraxis": "coloraxis",
          "symbol": "x"
         },
         "mode": "markers",
         "name": "0.887",
         "orientation": "v",
         "showlegend": true,
         "type": "scatter",
         "x": [
          2018,
          2016,
          2016,
          2014,
          2013
         ],
         "xaxis": "x",
         "y": [
          28,
          27,
          0,
          0,
          0
         ],
         "yaxis": "y"
        },
        {
         "hovertemplate": "energy=%{marker.color}<br>release_date=%{x}<br>popularity=%{y}<extra></extra>",
         "legendgroup": "0.738",
         "marker": {
          "color": [
           0.738,
           0.738,
           0.738
          ],
          "coloraxis": "coloraxis",
          "symbol": "cross"
         },
         "mode": "markers",
         "name": "0.738",
         "orientation": "v",
         "showlegend": true,
         "type": "scatter",
         "x": [
          2016,
          2017,
          2017
         ],
         "xaxis": "x",
         "y": [
          24,
          18,
          2
         ],
         "yaxis": "y"
        },
        {
         "hovertemplate": "energy=%{marker.color}<br>release_date=%{x}<br>popularity=%{y}<extra></extra>",
         "legendgroup": "0.882",
         "marker": {
          "color": [
           0.882
          ],
          "coloraxis": "coloraxis",
          "symbol": "circle"
         },
         "mode": "markers",
         "name": "0.882",
         "orientation": "v",
         "showlegend": true,
         "type": "scatter",
         "x": [
          2016
         ],
         "xaxis": "x",
         "y": [
          8
         ],
         "yaxis": "y"
        },
        {
         "hovertemplate": "energy=%{marker.color}<br>release_date=%{x}<br>popularity=%{y}<extra></extra>",
         "legendgroup": "0.854",
         "marker": {
          "color": [
           0.854
          ],
          "coloraxis": "coloraxis",
          "symbol": "diamond"
         },
         "mode": "markers",
         "name": "0.854",
         "orientation": "v",
         "showlegend": true,
         "type": "scatter",
         "x": [
          2013
         ],
         "xaxis": "x",
         "y": [
          0
         ],
         "yaxis": "y"
        },
        {
         "hovertemplate": "energy=%{marker.color}<br>release_date=%{x}<br>popularity=%{y}<extra></extra>",
         "legendgroup": "0.604",
         "marker": {
          "color": [
           0.604,
           0.604
          ],
          "coloraxis": "coloraxis",
          "symbol": "square"
         },
         "mode": "markers",
         "name": "0.604",
         "orientation": "v",
         "showlegend": true,
         "type": "scatter",
         "x": [
          2019,
          2019
         ],
         "xaxis": "x",
         "y": [
          34,
          0
         ],
         "yaxis": "y"
        },
        {
         "hovertemplate": "energy=%{marker.color}<br>release_date=%{x}<br>popularity=%{y}<extra></extra>",
         "legendgroup": "0.677",
         "marker": {
          "color": [
           0.677
          ],
          "coloraxis": "coloraxis",
          "symbol": "x"
         },
         "mode": "markers",
         "name": "0.677",
         "orientation": "v",
         "showlegend": true,
         "type": "scatter",
         "x": [
          2015
         ],
         "xaxis": "x",
         "y": [
          0
         ],
         "yaxis": "y"
        },
        {
         "hovertemplate": "energy=%{marker.color}<br>release_date=%{x}<br>popularity=%{y}<extra></extra>",
         "legendgroup": "0.943",
         "marker": {
          "color": [
           0.943,
           0.943
          ],
          "coloraxis": "coloraxis",
          "symbol": "cross"
         },
         "mode": "markers",
         "name": "0.943",
         "orientation": "v",
         "showlegend": true,
         "type": "scatter",
         "x": [
          2015,
          2012
         ],
         "xaxis": "x",
         "y": [
          16,
          0
         ],
         "yaxis": "y"
        },
        {
         "hovertemplate": "energy=%{marker.color}<br>release_date=%{x}<br>popularity=%{y}<extra></extra>",
         "legendgroup": "0.651",
         "marker": {
          "color": [
           0.651,
           0.651,
           0.651
          ],
          "coloraxis": "coloraxis",
          "symbol": "circle"
         },
         "mode": "markers",
         "name": "0.651",
         "orientation": "v",
         "showlegend": true,
         "type": "scatter",
         "x": [
          2017,
          2017,
          2018
         ],
         "xaxis": "x",
         "y": [
          42,
          0,
          53
         ],
         "yaxis": "y"
        },
        {
         "hovertemplate": "energy=%{marker.color}<br>release_date=%{x}<br>popularity=%{y}<extra></extra>",
         "legendgroup": "0.879",
         "marker": {
          "color": [
           0.879
          ],
          "coloraxis": "coloraxis",
          "symbol": "diamond"
         },
         "mode": "markers",
         "name": "0.879",
         "orientation": "v",
         "showlegend": true,
         "type": "scatter",
         "x": [
          2016
         ],
         "xaxis": "x",
         "y": [
          14
         ],
         "yaxis": "y"
        },
        {
         "hovertemplate": "energy=%{marker.color}<br>release_date=%{x}<br>popularity=%{y}<extra></extra>",
         "legendgroup": "0.908",
         "marker": {
          "color": [
           0.908,
           0.908,
           0.908
          ],
          "coloraxis": "coloraxis",
          "symbol": "square"
         },
         "mode": "markers",
         "name": "0.908",
         "orientation": "v",
         "showlegend": true,
         "type": "scatter",
         "x": [
          2016,
          2012,
          2016
         ],
         "xaxis": "x",
         "y": [
          7,
          33,
          34
         ],
         "yaxis": "y"
        },
        {
         "hovertemplate": "energy=%{marker.color}<br>release_date=%{x}<br>popularity=%{y}<extra></extra>",
         "legendgroup": "0.737",
         "marker": {
          "color": [
           0.737,
           0.737,
           0.737
          ],
          "coloraxis": "coloraxis",
          "symbol": "x"
         },
         "mode": "markers",
         "name": "0.737",
         "orientation": "v",
         "showlegend": true,
         "type": "scatter",
         "x": [
          2011,
          2008,
          2017
         ],
         "xaxis": "x",
         "y": [
          41,
          34,
          0
         ],
         "yaxis": "y"
        },
        {
         "hovertemplate": "energy=%{marker.color}<br>release_date=%{x}<br>popularity=%{y}<extra></extra>",
         "legendgroup": "0.649",
         "marker": {
          "color": [
           0.649
          ],
          "coloraxis": "coloraxis",
          "symbol": "cross"
         },
         "mode": "markers",
         "name": "0.649",
         "orientation": "v",
         "showlegend": true,
         "type": "scatter",
         "x": [
          2016
         ],
         "xaxis": "x",
         "y": [
          37
         ],
         "yaxis": "y"
        },
        {
         "hovertemplate": "energy=%{marker.color}<br>release_date=%{x}<br>popularity=%{y}<extra></extra>",
         "legendgroup": "0.672",
         "marker": {
          "color": [
           0.672
          ],
          "coloraxis": "coloraxis",
          "symbol": "circle"
         },
         "mode": "markers",
         "name": "0.672",
         "orientation": "v",
         "showlegend": true,
         "type": "scatter",
         "x": [
          2009
         ],
         "xaxis": "x",
         "y": [
          6
         ],
         "yaxis": "y"
        },
        {
         "hovertemplate": "energy=%{marker.color}<br>release_date=%{x}<br>popularity=%{y}<extra></extra>",
         "legendgroup": "0.768",
         "marker": {
          "color": [
           0.768,
           0.768,
           0.768
          ],
          "coloraxis": "coloraxis",
          "symbol": "diamond"
         },
         "mode": "markers",
         "name": "0.768",
         "orientation": "v",
         "showlegend": true,
         "type": "scatter",
         "x": [
          2014,
          2017,
          2017
         ],
         "xaxis": "x",
         "y": [
          0,
          0,
          0
         ],
         "yaxis": "y"
        },
        {
         "hovertemplate": "energy=%{marker.color}<br>release_date=%{x}<br>popularity=%{y}<extra></extra>",
         "legendgroup": "0.641",
         "marker": {
          "color": [
           0.641,
           0.641,
           0.641
          ],
          "coloraxis": "coloraxis",
          "symbol": "square"
         },
         "mode": "markers",
         "name": "0.641",
         "orientation": "v",
         "showlegend": true,
         "type": "scatter",
         "x": [
          2019,
          2008,
          2017
         ],
         "xaxis": "x",
         "y": [
          0,
          0,
          25
         ],
         "yaxis": "y"
        },
        {
         "hovertemplate": "energy=%{marker.color}<br>release_date=%{x}<br>popularity=%{y}<extra></extra>",
         "legendgroup": "0.95",
         "marker": {
          "color": [
           0.95,
           0.95
          ],
          "coloraxis": "coloraxis",
          "symbol": "x"
         },
         "mode": "markers",
         "name": "0.95",
         "orientation": "v",
         "showlegend": true,
         "type": "scatter",
         "x": [
          2012,
          2012
         ],
         "xaxis": "x",
         "y": [
          11,
          0
         ],
         "yaxis": "y"
        },
        {
         "hovertemplate": "energy=%{marker.color}<br>release_date=%{x}<br>popularity=%{y}<extra></extra>",
         "legendgroup": "0.912",
         "marker": {
          "color": [
           0.912,
           0.912
          ],
          "coloraxis": "coloraxis",
          "symbol": "cross"
         },
         "mode": "markers",
         "name": "0.912",
         "orientation": "v",
         "showlegend": true,
         "type": "scatter",
         "x": [
          2012,
          2017
         ],
         "xaxis": "x",
         "y": [
          0,
          1
         ],
         "yaxis": "y"
        },
        {
         "hovertemplate": "energy=%{marker.color}<br>release_date=%{x}<br>popularity=%{y}<extra></extra>",
         "legendgroup": "0.942",
         "marker": {
          "color": [
           0.942,
           0.942,
           0.942
          ],
          "coloraxis": "coloraxis",
          "symbol": "circle"
         },
         "mode": "markers",
         "name": "0.942",
         "orientation": "v",
         "showlegend": true,
         "type": "scatter",
         "x": [
          2015,
          2013,
          2010
         ],
         "xaxis": "x",
         "y": [
          0,
          0,
          24
         ],
         "yaxis": "y"
        },
        {
         "hovertemplate": "energy=%{marker.color}<br>release_date=%{x}<br>popularity=%{y}<extra></extra>",
         "legendgroup": "0.815",
         "marker": {
          "color": [
           0.815,
           0.815
          ],
          "coloraxis": "coloraxis",
          "symbol": "diamond"
         },
         "mode": "markers",
         "name": "0.815",
         "orientation": "v",
         "showlegend": true,
         "type": "scatter",
         "x": [
          2015,
          2017
         ],
         "xaxis": "x",
         "y": [
          0,
          12
         ],
         "yaxis": "y"
        },
        {
         "hovertemplate": "energy=%{marker.color}<br>release_date=%{x}<br>popularity=%{y}<extra></extra>",
         "legendgroup": "0.873",
         "marker": {
          "color": [
           0.873
          ],
          "coloraxis": "coloraxis",
          "symbol": "square"
         },
         "mode": "markers",
         "name": "0.873",
         "orientation": "v",
         "showlegend": true,
         "type": "scatter",
         "x": [
          2012
         ],
         "xaxis": "x",
         "y": [
          18
         ],
         "yaxis": "y"
        },
        {
         "hovertemplate": "energy=%{marker.color}<br>release_date=%{x}<br>popularity=%{y}<extra></extra>",
         "legendgroup": "0.94",
         "marker": {
          "color": [
           0.94
          ],
          "coloraxis": "coloraxis",
          "symbol": "x"
         },
         "mode": "markers",
         "name": "0.94",
         "orientation": "v",
         "showlegend": true,
         "type": "scatter",
         "x": [
          2014
         ],
         "xaxis": "x",
         "y": [
          3
         ],
         "yaxis": "y"
        },
        {
         "hovertemplate": "energy=%{marker.color}<br>release_date=%{x}<br>popularity=%{y}<extra></extra>",
         "legendgroup": "0.846",
         "marker": {
          "color": [
           0.846,
           0.846,
           0.846,
           0.846
          ],
          "coloraxis": "coloraxis",
          "symbol": "cross"
         },
         "mode": "markers",
         "name": "0.846",
         "orientation": "v",
         "showlegend": true,
         "type": "scatter",
         "x": [
          2018,
          2017,
          2017,
          2015
         ],
         "xaxis": "x",
         "y": [
          18,
          18,
          6,
          0
         ],
         "yaxis": "y"
        },
        {
         "hovertemplate": "energy=%{marker.color}<br>release_date=%{x}<br>popularity=%{y}<extra></extra>",
         "legendgroup": "0.841",
         "marker": {
          "color": [
           0.841,
           0.841
          ],
          "coloraxis": "coloraxis",
          "symbol": "circle"
         },
         "mode": "markers",
         "name": "0.841",
         "orientation": "v",
         "showlegend": true,
         "type": "scatter",
         "x": [
          2019,
          2013
         ],
         "xaxis": "x",
         "y": [
          1,
          40
         ],
         "yaxis": "y"
        },
        {
         "hovertemplate": "energy=%{marker.color}<br>release_date=%{x}<br>popularity=%{y}<extra></extra>",
         "legendgroup": "0.871",
         "marker": {
          "color": [
           0.871
          ],
          "coloraxis": "coloraxis",
          "symbol": "diamond"
         },
         "mode": "markers",
         "name": "0.871",
         "orientation": "v",
         "showlegend": true,
         "type": "scatter",
         "x": [
          2013
         ],
         "xaxis": "x",
         "y": [
          37
         ],
         "yaxis": "y"
        },
        {
         "hovertemplate": "energy=%{marker.color}<br>release_date=%{x}<br>popularity=%{y}<extra></extra>",
         "legendgroup": "0.811",
         "marker": {
          "color": [
           0.811
          ],
          "coloraxis": "coloraxis",
          "symbol": "square"
         },
         "mode": "markers",
         "name": "0.811",
         "orientation": "v",
         "showlegend": true,
         "type": "scatter",
         "x": [
          2016
         ],
         "xaxis": "x",
         "y": [
          38
         ],
         "yaxis": "y"
        },
        {
         "hovertemplate": "energy=%{marker.color}<br>release_date=%{x}<br>popularity=%{y}<extra></extra>",
         "legendgroup": "0.616",
         "marker": {
          "color": [
           0.616,
           0.616
          ],
          "coloraxis": "coloraxis",
          "symbol": "x"
         },
         "mode": "markers",
         "name": "0.616",
         "orientation": "v",
         "showlegend": true,
         "type": "scatter",
         "x": [
          2015,
          2016
         ],
         "xaxis": "x",
         "y": [
          0,
          0
         ],
         "yaxis": "y"
        },
        {
         "hovertemplate": "energy=%{marker.color}<br>release_date=%{x}<br>popularity=%{y}<extra></extra>",
         "legendgroup": "0.679",
         "marker": {
          "color": [
           0.679
          ],
          "coloraxis": "coloraxis",
          "symbol": "cross"
         },
         "mode": "markers",
         "name": "0.679",
         "orientation": "v",
         "showlegend": true,
         "type": "scatter",
         "x": [
          2017
         ],
         "xaxis": "x",
         "y": [
          43
         ],
         "yaxis": "y"
        },
        {
         "hovertemplate": "energy=%{marker.color}<br>release_date=%{x}<br>popularity=%{y}<extra></extra>",
         "legendgroup": "0.695",
         "marker": {
          "color": [
           0.695
          ],
          "coloraxis": "coloraxis",
          "symbol": "circle"
         },
         "mode": "markers",
         "name": "0.695",
         "orientation": "v",
         "showlegend": true,
         "type": "scatter",
         "x": [
          2018
         ],
         "xaxis": "x",
         "y": [
          21
         ],
         "yaxis": "y"
        },
        {
         "hovertemplate": "energy=%{marker.color}<br>release_date=%{x}<br>popularity=%{y}<extra></extra>",
         "legendgroup": "0.797",
         "marker": {
          "color": [
           0.797,
           0.797
          ],
          "coloraxis": "coloraxis",
          "symbol": "diamond"
         },
         "mode": "markers",
         "name": "0.797",
         "orientation": "v",
         "showlegend": true,
         "type": "scatter",
         "x": [
          2014,
          2016
         ],
         "xaxis": "x",
         "y": [
          2,
          5
         ],
         "yaxis": "y"
        },
        {
         "hovertemplate": "energy=%{marker.color}<br>release_date=%{x}<br>popularity=%{y}<extra></extra>",
         "legendgroup": "0.637",
         "marker": {
          "color": [
           0.637
          ],
          "coloraxis": "coloraxis",
          "symbol": "square"
         },
         "mode": "markers",
         "name": "0.637",
         "orientation": "v",
         "showlegend": true,
         "type": "scatter",
         "x": [
          2019
         ],
         "xaxis": "x",
         "y": [
          0
         ],
         "yaxis": "y"
        },
        {
         "hovertemplate": "energy=%{marker.color}<br>release_date=%{x}<br>popularity=%{y}<extra></extra>",
         "legendgroup": "0.864",
         "marker": {
          "color": [
           0.864,
           0.864,
           0.864
          ],
          "coloraxis": "coloraxis",
          "symbol": "x"
         },
         "mode": "markers",
         "name": "0.864",
         "orientation": "v",
         "showlegend": true,
         "type": "scatter",
         "x": [
          2010,
          2015,
          2015
         ],
         "xaxis": "x",
         "y": [
          7,
          0,
          0
         ],
         "yaxis": "y"
        },
        {
         "hovertemplate": "energy=%{marker.color}<br>release_date=%{x}<br>popularity=%{y}<extra></extra>",
         "legendgroup": "0.807",
         "marker": {
          "color": [
           0.807,
           0.807,
           0.807
          ],
          "coloraxis": "coloraxis",
          "symbol": "cross"
         },
         "mode": "markers",
         "name": "0.807",
         "orientation": "v",
         "showlegend": true,
         "type": "scatter",
         "x": [
          2008,
          2018,
          2009
         ],
         "xaxis": "x",
         "y": [
          14,
          58,
          25
         ],
         "yaxis": "y"
        },
        {
         "hovertemplate": "energy=%{marker.color}<br>release_date=%{x}<br>popularity=%{y}<extra></extra>",
         "legendgroup": "0.938",
         "marker": {
          "color": [
           0.938
          ],
          "coloraxis": "coloraxis",
          "symbol": "circle"
         },
         "mode": "markers",
         "name": "0.938",
         "orientation": "v",
         "showlegend": true,
         "type": "scatter",
         "x": [
          2008
         ],
         "xaxis": "x",
         "y": [
          17
         ],
         "yaxis": "y"
        },
        {
         "hovertemplate": "energy=%{marker.color}<br>release_date=%{x}<br>popularity=%{y}<extra></extra>",
         "legendgroup": "0.51",
         "marker": {
          "color": [
           0.51
          ],
          "coloraxis": "coloraxis",
          "symbol": "diamond"
         },
         "mode": "markers",
         "name": "0.51",
         "orientation": "v",
         "showlegend": true,
         "type": "scatter",
         "x": [
          2014
         ],
         "xaxis": "x",
         "y": [
          0
         ],
         "yaxis": "y"
        },
        {
         "hovertemplate": "energy=%{marker.color}<br>release_date=%{x}<br>popularity=%{y}<extra></extra>",
         "legendgroup": "0.929",
         "marker": {
          "color": [
           0.929
          ],
          "coloraxis": "coloraxis",
          "symbol": "square"
         },
         "mode": "markers",
         "name": "0.929",
         "orientation": "v",
         "showlegend": true,
         "type": "scatter",
         "x": [
          2016
         ],
         "xaxis": "x",
         "y": [
          6
         ],
         "yaxis": "y"
        },
        {
         "hovertemplate": "energy=%{marker.color}<br>release_date=%{x}<br>popularity=%{y}<extra></extra>",
         "legendgroup": "0.965",
         "marker": {
          "color": [
           0.965
          ],
          "coloraxis": "coloraxis",
          "symbol": "x"
         },
         "mode": "markers",
         "name": "0.965",
         "orientation": "v",
         "showlegend": true,
         "type": "scatter",
         "x": [
          2008
         ],
         "xaxis": "x",
         "y": [
          39
         ],
         "yaxis": "y"
        },
        {
         "hovertemplate": "energy=%{marker.color}<br>release_date=%{x}<br>popularity=%{y}<extra></extra>",
         "legendgroup": "0.626",
         "marker": {
          "color": [
           0.626
          ],
          "coloraxis": "coloraxis",
          "symbol": "cross"
         },
         "mode": "markers",
         "name": "0.626",
         "orientation": "v",
         "showlegend": true,
         "type": "scatter",
         "x": [
          2009
         ],
         "xaxis": "x",
         "y": [
          0
         ],
         "yaxis": "y"
        },
        {
         "hovertemplate": "energy=%{marker.color}<br>release_date=%{x}<br>popularity=%{y}<extra></extra>",
         "legendgroup": "0.915",
         "marker": {
          "color": [
           0.915,
           0.915,
           0.915,
           0.915
          ],
          "coloraxis": "coloraxis",
          "symbol": "circle"
         },
         "mode": "markers",
         "name": "0.915",
         "orientation": "v",
         "showlegend": true,
         "type": "scatter",
         "x": [
          2012,
          2016,
          2014,
          2014
         ],
         "xaxis": "x",
         "y": [
          0,
          46,
          0,
          24
         ],
         "yaxis": "y"
        },
        {
         "hovertemplate": "energy=%{marker.color}<br>release_date=%{x}<br>popularity=%{y}<extra></extra>",
         "legendgroup": "0.935",
         "marker": {
          "color": [
           0.935
          ],
          "coloraxis": "coloraxis",
          "symbol": "diamond"
         },
         "mode": "markers",
         "name": "0.935",
         "orientation": "v",
         "showlegend": true,
         "type": "scatter",
         "x": [
          2009
         ],
         "xaxis": "x",
         "y": [
          26
         ],
         "yaxis": "y"
        },
        {
         "hovertemplate": "energy=%{marker.color}<br>release_date=%{x}<br>popularity=%{y}<extra></extra>",
         "legendgroup": "0.793",
         "marker": {
          "color": [
           0.793
          ],
          "coloraxis": "coloraxis",
          "symbol": "square"
         },
         "mode": "markers",
         "name": "0.793",
         "orientation": "v",
         "showlegend": true,
         "type": "scatter",
         "x": [
          2011
         ],
         "xaxis": "x",
         "y": [
          37
         ],
         "yaxis": "y"
        },
        {
         "hovertemplate": "energy=%{marker.color}<br>release_date=%{x}<br>popularity=%{y}<extra></extra>",
         "legendgroup": "0.918",
         "marker": {
          "color": [
           0.918,
           0.918,
           0.918,
           0.918,
           0.918
          ],
          "coloraxis": "coloraxis",
          "symbol": "x"
         },
         "mode": "markers",
         "name": "0.918",
         "orientation": "v",
         "showlegend": true,
         "type": "scatter",
         "x": [
          2008,
          2009,
          2014,
          2014,
          2015
         ],
         "xaxis": "x",
         "y": [
          19,
          0,
          0,
          5,
          10
         ],
         "yaxis": "y"
        },
        {
         "hovertemplate": "energy=%{marker.color}<br>release_date=%{x}<br>popularity=%{y}<extra></extra>",
         "legendgroup": "0.86",
         "marker": {
          "color": [
           0.86,
           0.86
          ],
          "coloraxis": "coloraxis",
          "symbol": "cross"
         },
         "mode": "markers",
         "name": "0.86",
         "orientation": "v",
         "showlegend": true,
         "type": "scatter",
         "x": [
          2012,
          2017
         ],
         "xaxis": "x",
         "y": [
          0,
          7
         ],
         "yaxis": "y"
        },
        {
         "hovertemplate": "energy=%{marker.color}<br>release_date=%{x}<br>popularity=%{y}<extra></extra>",
         "legendgroup": "0.707",
         "marker": {
          "color": [
           0.707,
           0.707
          ],
          "coloraxis": "coloraxis",
          "symbol": "circle"
         },
         "mode": "markers",
         "name": "0.707",
         "orientation": "v",
         "showlegend": true,
         "type": "scatter",
         "x": [
          2001,
          2016
         ],
         "xaxis": "x",
         "y": [
          24,
          34
         ],
         "yaxis": "y"
        },
        {
         "hovertemplate": "energy=%{marker.color}<br>release_date=%{x}<br>popularity=%{y}<extra></extra>",
         "legendgroup": "0.482",
         "marker": {
          "color": [
           0.482
          ],
          "coloraxis": "coloraxis",
          "symbol": "diamond"
         },
         "mode": "markers",
         "name": "0.482",
         "orientation": "v",
         "showlegend": true,
         "type": "scatter",
         "x": [
          2011
         ],
         "xaxis": "x",
         "y": [
          0
         ],
         "yaxis": "y"
        },
        {
         "hovertemplate": "energy=%{marker.color}<br>release_date=%{x}<br>popularity=%{y}<extra></extra>",
         "legendgroup": "0.829",
         "marker": {
          "color": [
           0.829
          ],
          "coloraxis": "coloraxis",
          "symbol": "square"
         },
         "mode": "markers",
         "name": "0.829",
         "orientation": "v",
         "showlegend": true,
         "type": "scatter",
         "x": [
          2011
         ],
         "xaxis": "x",
         "y": [
          22
         ],
         "yaxis": "y"
        },
        {
         "hovertemplate": "energy=%{marker.color}<br>release_date=%{x}<br>popularity=%{y}<extra></extra>",
         "legendgroup": "0.837",
         "marker": {
          "color": [
           0.837,
           0.837,
           0.837
          ],
          "coloraxis": "coloraxis",
          "symbol": "x"
         },
         "mode": "markers",
         "name": "0.837",
         "orientation": "v",
         "showlegend": true,
         "type": "scatter",
         "x": [
          2009,
          2011,
          2014
         ],
         "xaxis": "x",
         "y": [
          0,
          28,
          0
         ],
         "yaxis": "y"
        },
        {
         "hovertemplate": "energy=%{marker.color}<br>release_date=%{x}<br>popularity=%{y}<extra></extra>",
         "legendgroup": "0.582",
         "marker": {
          "color": [
           0.582
          ],
          "coloraxis": "coloraxis",
          "symbol": "cross"
         },
         "mode": "markers",
         "name": "0.582",
         "orientation": "v",
         "showlegend": true,
         "type": "scatter",
         "x": [
          2012
         ],
         "xaxis": "x",
         "y": [
          0
         ],
         "yaxis": "y"
        },
        {
         "hovertemplate": "energy=%{marker.color}<br>release_date=%{x}<br>popularity=%{y}<extra></extra>",
         "legendgroup": "0.885",
         "marker": {
          "color": [
           0.885,
           0.885,
           0.885
          ],
          "coloraxis": "coloraxis",
          "symbol": "circle"
         },
         "mode": "markers",
         "name": "0.885",
         "orientation": "v",
         "showlegend": true,
         "type": "scatter",
         "x": [
          2007,
          2019,
          2019
         ],
         "xaxis": "x",
         "y": [
          34,
          0,
          46
         ],
         "yaxis": "y"
        },
        {
         "hovertemplate": "energy=%{marker.color}<br>release_date=%{x}<br>popularity=%{y}<extra></extra>",
         "legendgroup": "0.773",
         "marker": {
          "color": [
           0.773
          ],
          "coloraxis": "coloraxis",
          "symbol": "diamond"
         },
         "mode": "markers",
         "name": "0.773",
         "orientation": "v",
         "showlegend": true,
         "type": "scatter",
         "x": [
          2012
         ],
         "xaxis": "x",
         "y": [
          18
         ],
         "yaxis": "y"
        },
        {
         "hovertemplate": "energy=%{marker.color}<br>release_date=%{x}<br>popularity=%{y}<extra></extra>",
         "legendgroup": "0.607",
         "marker": {
          "color": [
           0.607
          ],
          "coloraxis": "coloraxis",
          "symbol": "square"
         },
         "mode": "markers",
         "name": "0.607",
         "orientation": "v",
         "showlegend": true,
         "type": "scatter",
         "x": [
          2012
         ],
         "xaxis": "x",
         "y": [
          16
         ],
         "yaxis": "y"
        },
        {
         "hovertemplate": "energy=%{marker.color}<br>release_date=%{x}<br>popularity=%{y}<extra></extra>",
         "legendgroup": "0.83",
         "marker": {
          "color": [
           0.83,
           0.83
          ],
          "coloraxis": "coloraxis",
          "symbol": "x"
         },
         "mode": "markers",
         "name": "0.83",
         "orientation": "v",
         "showlegend": true,
         "type": "scatter",
         "x": [
          2011,
          2016
         ],
         "xaxis": "x",
         "y": [
          0,
          43
         ],
         "yaxis": "y"
        },
        {
         "hovertemplate": "energy=%{marker.color}<br>release_date=%{x}<br>popularity=%{y}<extra></extra>",
         "legendgroup": "0.723",
         "marker": {
          "color": [
           0.723
          ],
          "coloraxis": "coloraxis",
          "symbol": "cross"
         },
         "mode": "markers",
         "name": "0.723",
         "orientation": "v",
         "showlegend": true,
         "type": "scatter",
         "x": [
          2014
         ],
         "xaxis": "x",
         "y": [
          22
         ],
         "yaxis": "y"
        },
        {
         "hovertemplate": "energy=%{marker.color}<br>release_date=%{x}<br>popularity=%{y}<extra></extra>",
         "legendgroup": "0.699",
         "marker": {
          "color": [
           0.699,
           0.699,
           0.699
          ],
          "coloraxis": "coloraxis",
          "symbol": "circle"
         },
         "mode": "markers",
         "name": "0.699",
         "orientation": "v",
         "showlegend": true,
         "type": "scatter",
         "x": [
          2010,
          2016,
          2017
         ],
         "xaxis": "x",
         "y": [
          0,
          0,
          3
         ],
         "yaxis": "y"
        },
        {
         "hovertemplate": "energy=%{marker.color}<br>release_date=%{x}<br>popularity=%{y}<extra></extra>",
         "legendgroup": "0.757",
         "marker": {
          "color": [
           0.757
          ],
          "coloraxis": "coloraxis",
          "symbol": "diamond"
         },
         "mode": "markers",
         "name": "0.757",
         "orientation": "v",
         "showlegend": true,
         "type": "scatter",
         "x": [
          2010
         ],
         "xaxis": "x",
         "y": [
          0
         ],
         "yaxis": "y"
        },
        {
         "hovertemplate": "energy=%{marker.color}<br>release_date=%{x}<br>popularity=%{y}<extra></extra>",
         "legendgroup": "0.734",
         "marker": {
          "color": [
           0.734,
           0.734
          ],
          "coloraxis": "coloraxis",
          "symbol": "square"
         },
         "mode": "markers",
         "name": "0.734",
         "orientation": "v",
         "showlegend": true,
         "type": "scatter",
         "x": [
          2003,
          2020
         ],
         "xaxis": "x",
         "y": [
          17,
          44
         ],
         "yaxis": "y"
        },
        {
         "hovertemplate": "energy=%{marker.color}<br>release_date=%{x}<br>popularity=%{y}<extra></extra>",
         "legendgroup": "0.644",
         "marker": {
          "color": [
           0.644,
           0.644,
           0.644
          ],
          "coloraxis": "coloraxis",
          "symbol": "x"
         },
         "mode": "markers",
         "name": "0.644",
         "orientation": "v",
         "showlegend": true,
         "type": "scatter",
         "x": [
          2003,
          2019,
          2018
         ],
         "xaxis": "x",
         "y": [
          9,
          61,
          65
         ],
         "yaxis": "y"
        },
        {
         "hovertemplate": "energy=%{marker.color}<br>release_date=%{x}<br>popularity=%{y}<extra></extra>",
         "legendgroup": "0.689",
         "marker": {
          "color": [
           0.689,
           0.689
          ],
          "coloraxis": "coloraxis",
          "symbol": "cross"
         },
         "mode": "markers",
         "name": "0.689",
         "orientation": "v",
         "showlegend": true,
         "type": "scatter",
         "x": [
          2004,
          2018
         ],
         "xaxis": "x",
         "y": [
          26,
          20
         ],
         "yaxis": "y"
        },
        {
         "hovertemplate": "energy=%{marker.color}<br>release_date=%{x}<br>popularity=%{y}<extra></extra>",
         "legendgroup": "0.842",
         "marker": {
          "color": [
           0.842,
           0.842,
           0.842,
           0.842,
           0.842,
           0.842,
           0.842
          ],
          "coloraxis": "coloraxis",
          "symbol": "circle"
         },
         "mode": "markers",
         "name": "0.842",
         "orientation": "v",
         "showlegend": true,
         "type": "scatter",
         "x": [
          2013,
          2010,
          2020,
          2013,
          2014,
          2017,
          2016
         ],
         "xaxis": "x",
         "y": [
          0,
          0,
          19,
          0,
          12,
          0,
          0
         ],
         "yaxis": "y"
        },
        {
         "hovertemplate": "energy=%{marker.color}<br>release_date=%{x}<br>popularity=%{y}<extra></extra>",
         "legendgroup": "0.96",
         "marker": {
          "color": [
           0.96
          ],
          "coloraxis": "coloraxis",
          "symbol": "diamond"
         },
         "mode": "markers",
         "name": "0.96",
         "orientation": "v",
         "showlegend": true,
         "type": "scatter",
         "x": [
          2011
         ],
         "xaxis": "x",
         "y": [
          15
         ],
         "yaxis": "y"
        },
        {
         "hovertemplate": "energy=%{marker.color}<br>release_date=%{x}<br>popularity=%{y}<extra></extra>",
         "legendgroup": "0.859",
         "marker": {
          "color": [
           0.859
          ],
          "coloraxis": "coloraxis",
          "symbol": "square"
         },
         "mode": "markers",
         "name": "0.859",
         "orientation": "v",
         "showlegend": true,
         "type": "scatter",
         "x": [
          2013
         ],
         "xaxis": "x",
         "y": [
          25
         ],
         "yaxis": "y"
        },
        {
         "hovertemplate": "energy=%{marker.color}<br>release_date=%{x}<br>popularity=%{y}<extra></extra>",
         "legendgroup": "0.662",
         "marker": {
          "color": [
           0.662,
           0.662
          ],
          "coloraxis": "coloraxis",
          "symbol": "x"
         },
         "mode": "markers",
         "name": "0.662",
         "orientation": "v",
         "showlegend": true,
         "type": "scatter",
         "x": [
          1998,
          2019
         ],
         "xaxis": "x",
         "y": [
          0,
          7
         ],
         "yaxis": "y"
        },
        {
         "hovertemplate": "energy=%{marker.color}<br>release_date=%{x}<br>popularity=%{y}<extra></extra>",
         "legendgroup": "0.974",
         "marker": {
          "color": [
           0.974
          ],
          "coloraxis": "coloraxis",
          "symbol": "cross"
         },
         "mode": "markers",
         "name": "0.974",
         "orientation": "v",
         "showlegend": true,
         "type": "scatter",
         "x": [
          2012
         ],
         "xaxis": "x",
         "y": [
          24
         ],
         "yaxis": "y"
        },
        {
         "hovertemplate": "energy=%{marker.color}<br>release_date=%{x}<br>popularity=%{y}<extra></extra>",
         "legendgroup": "0.978",
         "marker": {
          "color": [
           0.978
          ],
          "coloraxis": "coloraxis",
          "symbol": "circle"
         },
         "mode": "markers",
         "name": "0.978",
         "orientation": "v",
         "showlegend": true,
         "type": "scatter",
         "x": [
          2011
         ],
         "xaxis": "x",
         "y": [
          29
         ],
         "yaxis": "y"
        },
        {
         "hovertemplate": "energy=%{marker.color}<br>release_date=%{x}<br>popularity=%{y}<extra></extra>",
         "legendgroup": "0.843",
         "marker": {
          "color": [
           0.843
          ],
          "coloraxis": "coloraxis",
          "symbol": "diamond"
         },
         "mode": "markers",
         "name": "0.843",
         "orientation": "v",
         "showlegend": true,
         "type": "scatter",
         "x": [
          2012
         ],
         "xaxis": "x",
         "y": [
          30
         ],
         "yaxis": "y"
        },
        {
         "hovertemplate": "energy=%{marker.color}<br>release_date=%{x}<br>popularity=%{y}<extra></extra>",
         "legendgroup": "0.944",
         "marker": {
          "color": [
           0.944,
           0.944
          ],
          "coloraxis": "coloraxis",
          "symbol": "square"
         },
         "mode": "markers",
         "name": "0.944",
         "orientation": "v",
         "showlegend": true,
         "type": "scatter",
         "x": [
          2014,
          2016
         ],
         "xaxis": "x",
         "y": [
          45,
          0
         ],
         "yaxis": "y"
        },
        {
         "hovertemplate": "energy=%{marker.color}<br>release_date=%{x}<br>popularity=%{y}<extra></extra>",
         "legendgroup": "0.995",
         "marker": {
          "color": [
           0.995
          ],
          "coloraxis": "coloraxis",
          "symbol": "x"
         },
         "mode": "markers",
         "name": "0.995",
         "orientation": "v",
         "showlegend": true,
         "type": "scatter",
         "x": [
          2020
         ],
         "xaxis": "x",
         "y": [
          8
         ],
         "yaxis": "y"
        },
        {
         "hovertemplate": "energy=%{marker.color}<br>release_date=%{x}<br>popularity=%{y}<extra></extra>",
         "legendgroup": "0.718",
         "marker": {
          "color": [
           0.718
          ],
          "coloraxis": "coloraxis",
          "symbol": "cross"
         },
         "mode": "markers",
         "name": "0.718",
         "orientation": "v",
         "showlegend": true,
         "type": "scatter",
         "x": [
          2017
         ],
         "xaxis": "x",
         "y": [
          0
         ],
         "yaxis": "y"
        },
        {
         "hovertemplate": "energy=%{marker.color}<br>release_date=%{x}<br>popularity=%{y}<extra></extra>",
         "legendgroup": "0.702",
         "marker": {
          "color": [
           0.702,
           0.702,
           0.702,
           0.702,
           0.702
          ],
          "coloraxis": "coloraxis",
          "symbol": "circle"
         },
         "mode": "markers",
         "name": "0.702",
         "orientation": "v",
         "showlegend": true,
         "type": "scatter",
         "x": [
          2016,
          2019,
          2019,
          2018,
          2015
         ],
         "xaxis": "x",
         "y": [
          0,
          55,
          58,
          0,
          9
         ],
         "yaxis": "y"
        },
        {
         "hovertemplate": "energy=%{marker.color}<br>release_date=%{x}<br>popularity=%{y}<extra></extra>",
         "legendgroup": "0.575",
         "marker": {
          "color": [
           0.575
          ],
          "coloraxis": "coloraxis",
          "symbol": "diamond"
         },
         "mode": "markers",
         "name": "0.575",
         "orientation": "v",
         "showlegend": true,
         "type": "scatter",
         "x": [
          2017
         ],
         "xaxis": "x",
         "y": [
          7
         ],
         "yaxis": "y"
        },
        {
         "hovertemplate": "energy=%{marker.color}<br>release_date=%{x}<br>popularity=%{y}<extra></extra>",
         "legendgroup": "0.849",
         "marker": {
          "color": [
           0.849
          ],
          "coloraxis": "coloraxis",
          "symbol": "square"
         },
         "mode": "markers",
         "name": "0.849",
         "orientation": "v",
         "showlegend": true,
         "type": "scatter",
         "x": [
          2010
         ],
         "xaxis": "x",
         "y": [
          4
         ],
         "yaxis": "y"
        },
        {
         "hovertemplate": "energy=%{marker.color}<br>release_date=%{x}<br>popularity=%{y}<extra></extra>",
         "legendgroup": "0.7",
         "marker": {
          "color": [
           0.7
          ],
          "coloraxis": "coloraxis",
          "symbol": "x"
         },
         "mode": "markers",
         "name": "0.7",
         "orientation": "v",
         "showlegend": true,
         "type": "scatter",
         "x": [
          2006
         ],
         "xaxis": "x",
         "y": [
          34
         ],
         "yaxis": "y"
        },
        {
         "hovertemplate": "energy=%{marker.color}<br>release_date=%{x}<br>popularity=%{y}<extra></extra>",
         "legendgroup": "0.853",
         "marker": {
          "color": [
           0.853,
           0.853,
           0.853
          ],
          "coloraxis": "coloraxis",
          "symbol": "cross"
         },
         "mode": "markers",
         "name": "0.853",
         "orientation": "v",
         "showlegend": true,
         "type": "scatter",
         "x": [
          2004,
          2018,
          2012
         ],
         "xaxis": "x",
         "y": [
          39,
          0,
          0
         ],
         "yaxis": "y"
        },
        {
         "hovertemplate": "energy=%{marker.color}<br>release_date=%{x}<br>popularity=%{y}<extra></extra>",
         "legendgroup": "0.559",
         "marker": {
          "color": [
           0.559
          ],
          "coloraxis": "coloraxis",
          "symbol": "circle"
         },
         "mode": "markers",
         "name": "0.559",
         "orientation": "v",
         "showlegend": true,
         "type": "scatter",
         "x": [
          2009
         ],
         "xaxis": "x",
         "y": [
          31
         ],
         "yaxis": "y"
        },
        {
         "hovertemplate": "energy=%{marker.color}<br>release_date=%{x}<br>popularity=%{y}<extra></extra>",
         "legendgroup": "0.835",
         "marker": {
          "color": [
           0.835,
           0.835
          ],
          "coloraxis": "coloraxis",
          "symbol": "diamond"
         },
         "mode": "markers",
         "name": "0.835",
         "orientation": "v",
         "showlegend": true,
         "type": "scatter",
         "x": [
          2011,
          2017
         ],
         "xaxis": "x",
         "y": [
          35,
          0
         ],
         "yaxis": "y"
        },
        {
         "hovertemplate": "energy=%{marker.color}<br>release_date=%{x}<br>popularity=%{y}<extra></extra>",
         "legendgroup": "0.789",
         "marker": {
          "color": [
           0.789
          ],
          "coloraxis": "coloraxis",
          "symbol": "square"
         },
         "mode": "markers",
         "name": "0.789",
         "orientation": "v",
         "showlegend": true,
         "type": "scatter",
         "x": [
          2016
         ],
         "xaxis": "x",
         "y": [
          0
         ],
         "yaxis": "y"
        },
        {
         "hovertemplate": "energy=%{marker.color}<br>release_date=%{x}<br>popularity=%{y}<extra></extra>",
         "legendgroup": "0.825",
         "marker": {
          "color": [
           0.825
          ],
          "coloraxis": "coloraxis",
          "symbol": "x"
         },
         "mode": "markers",
         "name": "0.825",
         "orientation": "v",
         "showlegend": true,
         "type": "scatter",
         "x": [
          2016
         ],
         "xaxis": "x",
         "y": [
          10
         ],
         "yaxis": "y"
        },
        {
         "hovertemplate": "energy=%{marker.color}<br>release_date=%{x}<br>popularity=%{y}<extra></extra>",
         "legendgroup": "0.379",
         "marker": {
          "color": [
           0.379
          ],
          "coloraxis": "coloraxis",
          "symbol": "cross"
         },
         "mode": "markers",
         "name": "0.379",
         "orientation": "v",
         "showlegend": true,
         "type": "scatter",
         "x": [
          2016
         ],
         "xaxis": "x",
         "y": [
          0
         ],
         "yaxis": "y"
        },
        {
         "hovertemplate": "energy=%{marker.color}<br>release_date=%{x}<br>popularity=%{y}<extra></extra>",
         "legendgroup": "0.97",
         "marker": {
          "color": [
           0.97,
           0.97
          ],
          "coloraxis": "coloraxis",
          "symbol": "circle"
         },
         "mode": "markers",
         "name": "0.97",
         "orientation": "v",
         "showlegend": true,
         "type": "scatter",
         "x": [
          2016,
          2015
         ],
         "xaxis": "x",
         "y": [
          4,
          0
         ],
         "yaxis": "y"
        },
        {
         "hovertemplate": "energy=%{marker.color}<br>release_date=%{x}<br>popularity=%{y}<extra></extra>",
         "legendgroup": "0.66",
         "marker": {
          "color": [
           0.66
          ],
          "coloraxis": "coloraxis",
          "symbol": "diamond"
         },
         "mode": "markers",
         "name": "0.66",
         "orientation": "v",
         "showlegend": true,
         "type": "scatter",
         "x": [
          2016
         ],
         "xaxis": "x",
         "y": [
          0
         ],
         "yaxis": "y"
        },
        {
         "hovertemplate": "energy=%{marker.color}<br>release_date=%{x}<br>popularity=%{y}<extra></extra>",
         "legendgroup": "0.778",
         "marker": {
          "color": [
           0.778,
           0.778
          ],
          "coloraxis": "coloraxis",
          "symbol": "square"
         },
         "mode": "markers",
         "name": "0.778",
         "orientation": "v",
         "showlegend": true,
         "type": "scatter",
         "x": [
          2016,
          2018
         ],
         "xaxis": "x",
         "y": [
          0,
          2
         ],
         "yaxis": "y"
        },
        {
         "hovertemplate": "energy=%{marker.color}<br>release_date=%{x}<br>popularity=%{y}<extra></extra>",
         "legendgroup": "0.77",
         "marker": {
          "color": [
           0.77,
           0.77,
           0.77,
           0.77
          ],
          "coloraxis": "coloraxis",
          "symbol": "x"
         },
         "mode": "markers",
         "name": "0.77",
         "orientation": "v",
         "showlegend": true,
         "type": "scatter",
         "x": [
          2016,
          2017,
          2013,
          2014
         ],
         "xaxis": "x",
         "y": [
          20,
          46,
          32,
          39
         ],
         "yaxis": "y"
        },
        {
         "hovertemplate": "energy=%{marker.color}<br>release_date=%{x}<br>popularity=%{y}<extra></extra>",
         "legendgroup": "0.932",
         "marker": {
          "color": [
           0.932,
           0.932,
           0.932
          ],
          "coloraxis": "coloraxis",
          "symbol": "cross"
         },
         "mode": "markers",
         "name": "0.932",
         "orientation": "v",
         "showlegend": true,
         "type": "scatter",
         "x": [
          2016,
          2016,
          2014
         ],
         "xaxis": "x",
         "y": [
          13,
          30,
          0
         ],
         "yaxis": "y"
        },
        {
         "hovertemplate": "energy=%{marker.color}<br>release_date=%{x}<br>popularity=%{y}<extra></extra>",
         "legendgroup": "0.69",
         "marker": {
          "color": [
           0.69,
           0.69
          ],
          "coloraxis": "coloraxis",
          "symbol": "circle"
         },
         "mode": "markers",
         "name": "0.69",
         "orientation": "v",
         "showlegend": true,
         "type": "scatter",
         "x": [
          2016,
          2016
         ],
         "xaxis": "x",
         "y": [
          0,
          0
         ],
         "yaxis": "y"
        },
        {
         "hovertemplate": "energy=%{marker.color}<br>release_date=%{x}<br>popularity=%{y}<extra></extra>",
         "legendgroup": "0.848",
         "marker": {
          "color": [
           0.848
          ],
          "coloraxis": "coloraxis",
          "symbol": "diamond"
         },
         "mode": "markers",
         "name": "0.848",
         "orientation": "v",
         "showlegend": true,
         "type": "scatter",
         "x": [
          2016
         ],
         "xaxis": "x",
         "y": [
          0
         ],
         "yaxis": "y"
        },
        {
         "hovertemplate": "energy=%{marker.color}<br>release_date=%{x}<br>popularity=%{y}<extra></extra>",
         "legendgroup": "0.615",
         "marker": {
          "color": [
           0.615
          ],
          "coloraxis": "coloraxis",
          "symbol": "square"
         },
         "mode": "markers",
         "name": "0.615",
         "orientation": "v",
         "showlegend": true,
         "type": "scatter",
         "x": [
          2016
         ],
         "xaxis": "x",
         "y": [
          18
         ],
         "yaxis": "y"
        },
        {
         "hovertemplate": "energy=%{marker.color}<br>release_date=%{x}<br>popularity=%{y}<extra></extra>",
         "legendgroup": "0.694",
         "marker": {
          "color": [
           0.694,
           0.694,
           0.694
          ],
          "coloraxis": "coloraxis",
          "symbol": "x"
         },
         "mode": "markers",
         "name": "0.694",
         "orientation": "v",
         "showlegend": true,
         "type": "scatter",
         "x": [
          2015,
          2019,
          2010
         ],
         "xaxis": "x",
         "y": [
          28,
          66,
          0
         ],
         "yaxis": "y"
        },
        {
         "hovertemplate": "energy=%{marker.color}<br>release_date=%{x}<br>popularity=%{y}<extra></extra>",
         "legendgroup": "0.591",
         "marker": {
          "color": [
           0.591
          ],
          "coloraxis": "coloraxis",
          "symbol": "cross"
         },
         "mode": "markers",
         "name": "0.591",
         "orientation": "v",
         "showlegend": true,
         "type": "scatter",
         "x": [
          2016
         ],
         "xaxis": "x",
         "y": [
          0
         ],
         "yaxis": "y"
        },
        {
         "hovertemplate": "energy=%{marker.color}<br>release_date=%{x}<br>popularity=%{y}<extra></extra>",
         "legendgroup": "0.52",
         "marker": {
          "color": [
           0.52
          ],
          "coloraxis": "coloraxis",
          "symbol": "circle"
         },
         "mode": "markers",
         "name": "0.52",
         "orientation": "v",
         "showlegend": true,
         "type": "scatter",
         "x": [
          2015
         ],
         "xaxis": "x",
         "y": [
          0
         ],
         "yaxis": "y"
        },
        {
         "hovertemplate": "energy=%{marker.color}<br>release_date=%{x}<br>popularity=%{y}<extra></extra>",
         "legendgroup": "0.498",
         "marker": {
          "color": [
           0.498
          ],
          "coloraxis": "coloraxis",
          "symbol": "diamond"
         },
         "mode": "markers",
         "name": "0.498",
         "orientation": "v",
         "showlegend": true,
         "type": "scatter",
         "x": [
          2016
         ],
         "xaxis": "x",
         "y": [
          48
         ],
         "yaxis": "y"
        },
        {
         "hovertemplate": "energy=%{marker.color}<br>release_date=%{x}<br>popularity=%{y}<extra></extra>",
         "legendgroup": "0.681",
         "marker": {
          "color": [
           0.681
          ],
          "coloraxis": "coloraxis",
          "symbol": "square"
         },
         "mode": "markers",
         "name": "0.681",
         "orientation": "v",
         "showlegend": true,
         "type": "scatter",
         "x": [
          2016
         ],
         "xaxis": "x",
         "y": [
          0
         ],
         "yaxis": "y"
        },
        {
         "hovertemplate": "energy=%{marker.color}<br>release_date=%{x}<br>popularity=%{y}<extra></extra>",
         "legendgroup": "0.736",
         "marker": {
          "color": [
           0.736
          ],
          "coloraxis": "coloraxis",
          "symbol": "x"
         },
         "mode": "markers",
         "name": "0.736",
         "orientation": "v",
         "showlegend": true,
         "type": "scatter",
         "x": [
          2016
         ],
         "xaxis": "x",
         "y": [
          29
         ],
         "yaxis": "y"
        },
        {
         "hovertemplate": "energy=%{marker.color}<br>release_date=%{x}<br>popularity=%{y}<extra></extra>",
         "legendgroup": "0.755",
         "marker": {
          "color": [
           0.755
          ],
          "coloraxis": "coloraxis",
          "symbol": "cross"
         },
         "mode": "markers",
         "name": "0.755",
         "orientation": "v",
         "showlegend": true,
         "type": "scatter",
         "x": [
          2016
         ],
         "xaxis": "x",
         "y": [
          0
         ],
         "yaxis": "y"
        },
        {
         "hovertemplate": "energy=%{marker.color}<br>release_date=%{x}<br>popularity=%{y}<extra></extra>",
         "legendgroup": "0.851",
         "marker": {
          "color": [
           0.851,
           0.851
          ],
          "coloraxis": "coloraxis",
          "symbol": "circle"
         },
         "mode": "markers",
         "name": "0.851",
         "orientation": "v",
         "showlegend": true,
         "type": "scatter",
         "x": [
          2016,
          2014
         ],
         "xaxis": "x",
         "y": [
          0,
          0
         ],
         "yaxis": "y"
        },
        {
         "hovertemplate": "energy=%{marker.color}<br>release_date=%{x}<br>popularity=%{y}<extra></extra>",
         "legendgroup": "0.722",
         "marker": {
          "color": [
           0.722
          ],
          "coloraxis": "coloraxis",
          "symbol": "diamond"
         },
         "mode": "markers",
         "name": "0.722",
         "orientation": "v",
         "showlegend": true,
         "type": "scatter",
         "x": [
          2016
         ],
         "xaxis": "x",
         "y": [
          0
         ],
         "yaxis": "y"
        },
        {
         "hovertemplate": "energy=%{marker.color}<br>release_date=%{x}<br>popularity=%{y}<extra></extra>",
         "legendgroup": "0.919",
         "marker": {
          "color": [
           0.919,
           0.919
          ],
          "coloraxis": "coloraxis",
          "symbol": "square"
         },
         "mode": "markers",
         "name": "0.919",
         "orientation": "v",
         "showlegend": true,
         "type": "scatter",
         "x": [
          2014,
          2018
         ],
         "xaxis": "x",
         "y": [
          15,
          41
         ],
         "yaxis": "y"
        },
        {
         "hovertemplate": "energy=%{marker.color}<br>release_date=%{x}<br>popularity=%{y}<extra></extra>",
         "legendgroup": "0.609",
         "marker": {
          "color": [
           0.609
          ],
          "coloraxis": "coloraxis",
          "symbol": "x"
         },
         "mode": "markers",
         "name": "0.609",
         "orientation": "v",
         "showlegend": true,
         "type": "scatter",
         "x": [
          2016
         ],
         "xaxis": "x",
         "y": [
          1
         ],
         "yaxis": "y"
        },
        {
         "hovertemplate": "energy=%{marker.color}<br>release_date=%{x}<br>popularity=%{y}<extra></extra>",
         "legendgroup": "0.472",
         "marker": {
          "color": [
           0.472
          ],
          "coloraxis": "coloraxis",
          "symbol": "cross"
         },
         "mode": "markers",
         "name": "0.472",
         "orientation": "v",
         "showlegend": true,
         "type": "scatter",
         "x": [
          2016
         ],
         "xaxis": "x",
         "y": [
          1
         ],
         "yaxis": "y"
        },
        {
         "hovertemplate": "energy=%{marker.color}<br>release_date=%{x}<br>popularity=%{y}<extra></extra>",
         "legendgroup": "0.527",
         "marker": {
          "color": [
           0.527
          ],
          "coloraxis": "coloraxis",
          "symbol": "circle"
         },
         "mode": "markers",
         "name": "0.527",
         "orientation": "v",
         "showlegend": true,
         "type": "scatter",
         "x": [
          2015
         ],
         "xaxis": "x",
         "y": [
          19
         ],
         "yaxis": "y"
        },
        {
         "hovertemplate": "energy=%{marker.color}<br>release_date=%{x}<br>popularity=%{y}<extra></extra>",
         "legendgroup": "0.775",
         "marker": {
          "color": [
           0.775
          ],
          "coloraxis": "coloraxis",
          "symbol": "diamond"
         },
         "mode": "markers",
         "name": "0.775",
         "orientation": "v",
         "showlegend": true,
         "type": "scatter",
         "x": [
          2017
         ],
         "xaxis": "x",
         "y": [
          36
         ],
         "yaxis": "y"
        },
        {
         "hovertemplate": "energy=%{marker.color}<br>release_date=%{x}<br>popularity=%{y}<extra></extra>",
         "legendgroup": "0.752",
         "marker": {
          "color": [
           0.752,
           0.752
          ],
          "coloraxis": "coloraxis",
          "symbol": "square"
         },
         "mode": "markers",
         "name": "0.752",
         "orientation": "v",
         "showlegend": true,
         "type": "scatter",
         "x": [
          2016,
          2016
         ],
         "xaxis": "x",
         "y": [
          13,
          0
         ],
         "yaxis": "y"
        },
        {
         "hovertemplate": "energy=%{marker.color}<br>release_date=%{x}<br>popularity=%{y}<extra></extra>",
         "legendgroup": "0.764",
         "marker": {
          "color": [
           0.764,
           0.764
          ],
          "coloraxis": "coloraxis",
          "symbol": "x"
         },
         "mode": "markers",
         "name": "0.764",
         "orientation": "v",
         "showlegend": true,
         "type": "scatter",
         "x": [
          2016,
          2016
         ],
         "xaxis": "x",
         "y": [
          59,
          28
         ],
         "yaxis": "y"
        },
        {
         "hovertemplate": "energy=%{marker.color}<br>release_date=%{x}<br>popularity=%{y}<extra></extra>",
         "legendgroup": "0.671",
         "marker": {
          "color": [
           0.671,
           0.671
          ],
          "coloraxis": "coloraxis",
          "symbol": "cross"
         },
         "mode": "markers",
         "name": "0.671",
         "orientation": "v",
         "showlegend": true,
         "type": "scatter",
         "x": [
          2017,
          2015
         ],
         "xaxis": "x",
         "y": [
          0,
          0
         ],
         "yaxis": "y"
        },
        {
         "hovertemplate": "energy=%{marker.color}<br>release_date=%{x}<br>popularity=%{y}<extra></extra>",
         "legendgroup": "0.61",
         "marker": {
          "color": [
           0.61
          ],
          "coloraxis": "coloraxis",
          "symbol": "circle"
         },
         "mode": "markers",
         "name": "0.61",
         "orientation": "v",
         "showlegend": true,
         "type": "scatter",
         "x": [
          2014
         ],
         "xaxis": "x",
         "y": [
          0
         ],
         "yaxis": "y"
        },
        {
         "hovertemplate": "energy=%{marker.color}<br>release_date=%{x}<br>popularity=%{y}<extra></extra>",
         "legendgroup": "0.907",
         "marker": {
          "color": [
           0.907,
           0.907,
           0.907
          ],
          "coloraxis": "coloraxis",
          "symbol": "diamond"
         },
         "mode": "markers",
         "name": "0.907",
         "orientation": "v",
         "showlegend": true,
         "type": "scatter",
         "x": [
          2015,
          2014,
          2017
         ],
         "xaxis": "x",
         "y": [
          8,
          0,
          4
         ],
         "yaxis": "y"
        },
        {
         "hovertemplate": "energy=%{marker.color}<br>release_date=%{x}<br>popularity=%{y}<extra></extra>",
         "legendgroup": "0.826",
         "marker": {
          "color": [
           0.826
          ],
          "coloraxis": "coloraxis",
          "symbol": "square"
         },
         "mode": "markers",
         "name": "0.826",
         "orientation": "v",
         "showlegend": true,
         "type": "scatter",
         "x": [
          2016
         ],
         "xaxis": "x",
         "y": [
          0
         ],
         "yaxis": "y"
        },
        {
         "hovertemplate": "energy=%{marker.color}<br>release_date=%{x}<br>popularity=%{y}<extra></extra>",
         "legendgroup": "0.562",
         "marker": {
          "color": [
           0.562
          ],
          "coloraxis": "coloraxis",
          "symbol": "x"
         },
         "mode": "markers",
         "name": "0.562",
         "orientation": "v",
         "showlegend": true,
         "type": "scatter",
         "x": [
          2016
         ],
         "xaxis": "x",
         "y": [
          0
         ],
         "yaxis": "y"
        },
        {
         "hovertemplate": "energy=%{marker.color}<br>release_date=%{x}<br>popularity=%{y}<extra></extra>",
         "legendgroup": "0.756",
         "marker": {
          "color": [
           0.756,
           0.756
          ],
          "coloraxis": "coloraxis",
          "symbol": "cross"
         },
         "mode": "markers",
         "name": "0.756",
         "orientation": "v",
         "showlegend": true,
         "type": "scatter",
         "x": [
          2016,
          2019
         ],
         "xaxis": "x",
         "y": [
          34,
          16
         ],
         "yaxis": "y"
        },
        {
         "hovertemplate": "energy=%{marker.color}<br>release_date=%{x}<br>popularity=%{y}<extra></extra>",
         "legendgroup": "0.566",
         "marker": {
          "color": [
           0.566
          ],
          "coloraxis": "coloraxis",
          "symbol": "circle"
         },
         "mode": "markers",
         "name": "0.566",
         "orientation": "v",
         "showlegend": true,
         "type": "scatter",
         "x": [
          2016
         ],
         "xaxis": "x",
         "y": [
          18
         ],
         "yaxis": "y"
        },
        {
         "hovertemplate": "energy=%{marker.color}<br>release_date=%{x}<br>popularity=%{y}<extra></extra>",
         "legendgroup": "0.803",
         "marker": {
          "color": [
           0.803,
           0.803,
           0.803
          ],
          "coloraxis": "coloraxis",
          "symbol": "diamond"
         },
         "mode": "markers",
         "name": "0.803",
         "orientation": "v",
         "showlegend": true,
         "type": "scatter",
         "x": [
          2017,
          2014,
          2015
         ],
         "xaxis": "x",
         "y": [
          0,
          0,
          10
         ],
         "yaxis": "y"
        },
        {
         "hovertemplate": "energy=%{marker.color}<br>release_date=%{x}<br>popularity=%{y}<extra></extra>",
         "legendgroup": "0.927",
         "marker": {
          "color": [
           0.927
          ],
          "coloraxis": "coloraxis",
          "symbol": "square"
         },
         "mode": "markers",
         "name": "0.927",
         "orientation": "v",
         "showlegend": true,
         "type": "scatter",
         "x": [
          2017
         ],
         "xaxis": "x",
         "y": [
          0
         ],
         "yaxis": "y"
        },
        {
         "hovertemplate": "energy=%{marker.color}<br>release_date=%{x}<br>popularity=%{y}<extra></extra>",
         "legendgroup": "0.758",
         "marker": {
          "color": [
           0.758
          ],
          "coloraxis": "coloraxis",
          "symbol": "x"
         },
         "mode": "markers",
         "name": "0.758",
         "orientation": "v",
         "showlegend": true,
         "type": "scatter",
         "x": [
          2016
         ],
         "xaxis": "x",
         "y": [
          1
         ],
         "yaxis": "y"
        },
        {
         "hovertemplate": "energy=%{marker.color}<br>release_date=%{x}<br>popularity=%{y}<extra></extra>",
         "legendgroup": "0.613",
         "marker": {
          "color": [
           0.613,
           0.613
          ],
          "coloraxis": "coloraxis",
          "symbol": "cross"
         },
         "mode": "markers",
         "name": "0.613",
         "orientation": "v",
         "showlegend": true,
         "type": "scatter",
         "x": [
          2017,
          2017
         ],
         "xaxis": "x",
         "y": [
          0,
          30
         ],
         "yaxis": "y"
        },
        {
         "hovertemplate": "energy=%{marker.color}<br>release_date=%{x}<br>popularity=%{y}<extra></extra>",
         "legendgroup": "0.457",
         "marker": {
          "color": [
           0.457,
           0.457
          ],
          "coloraxis": "coloraxis",
          "symbol": "circle"
         },
         "mode": "markers",
         "name": "0.457",
         "orientation": "v",
         "showlegend": true,
         "type": "scatter",
         "x": [
          2017,
          2017
         ],
         "xaxis": "x",
         "y": [
          49,
          0
         ],
         "yaxis": "y"
        },
        {
         "hovertemplate": "energy=%{marker.color}<br>release_date=%{x}<br>popularity=%{y}<extra></extra>",
         "legendgroup": "0.39",
         "marker": {
          "color": [
           0.39
          ],
          "coloraxis": "coloraxis",
          "symbol": "diamond"
         },
         "mode": "markers",
         "name": "0.39",
         "orientation": "v",
         "showlegend": true,
         "type": "scatter",
         "x": [
          2017
         ],
         "xaxis": "x",
         "y": [
          15
         ],
         "yaxis": "y"
        },
        {
         "hovertemplate": "energy=%{marker.color}<br>release_date=%{x}<br>popularity=%{y}<extra></extra>",
         "legendgroup": "0.791",
         "marker": {
          "color": [
           0.791
          ],
          "coloraxis": "coloraxis",
          "symbol": "square"
         },
         "mode": "markers",
         "name": "0.791",
         "orientation": "v",
         "showlegend": true,
         "type": "scatter",
         "x": [
          2016
         ],
         "xaxis": "x",
         "y": [
          24
         ],
         "yaxis": "y"
        },
        {
         "hovertemplate": "energy=%{marker.color}<br>release_date=%{x}<br>popularity=%{y}<extra></extra>",
         "legendgroup": "0.957",
         "marker": {
          "color": [
           0.957
          ],
          "coloraxis": "coloraxis",
          "symbol": "x"
         },
         "mode": "markers",
         "name": "0.957",
         "orientation": "v",
         "showlegend": true,
         "type": "scatter",
         "x": [
          2016
         ],
         "xaxis": "x",
         "y": [
          32
         ],
         "yaxis": "y"
        },
        {
         "hovertemplate": "energy=%{marker.color}<br>release_date=%{x}<br>popularity=%{y}<extra></extra>",
         "legendgroup": "0.721",
         "marker": {
          "color": [
           0.721,
           0.721,
           0.721
          ],
          "coloraxis": "coloraxis",
          "symbol": "cross"
         },
         "mode": "markers",
         "name": "0.721",
         "orientation": "v",
         "showlegend": true,
         "type": "scatter",
         "x": [
          2017,
          2017,
          2014
         ],
         "xaxis": "x",
         "y": [
          0,
          55,
          0
         ],
         "yaxis": "y"
        },
        {
         "hovertemplate": "energy=%{marker.color}<br>release_date=%{x}<br>popularity=%{y}<extra></extra>",
         "legendgroup": "0.488",
         "marker": {
          "color": [
           0.488
          ],
          "coloraxis": "coloraxis",
          "symbol": "circle"
         },
         "mode": "markers",
         "name": "0.488",
         "orientation": "v",
         "showlegend": true,
         "type": "scatter",
         "x": [
          2017
         ],
         "xaxis": "x",
         "y": [
          14
         ],
         "yaxis": "y"
        },
        {
         "hovertemplate": "energy=%{marker.color}<br>release_date=%{x}<br>popularity=%{y}<extra></extra>",
         "legendgroup": "0.622",
         "marker": {
          "color": [
           0.622,
           0.622
          ],
          "coloraxis": "coloraxis",
          "symbol": "diamond"
         },
         "mode": "markers",
         "name": "0.622",
         "orientation": "v",
         "showlegend": true,
         "type": "scatter",
         "x": [
          2016,
          2014
         ],
         "xaxis": "x",
         "y": [
          12,
          0
         ],
         "yaxis": "y"
        },
        {
         "hovertemplate": "energy=%{marker.color}<br>release_date=%{x}<br>popularity=%{y}<extra></extra>",
         "legendgroup": "0.858",
         "marker": {
          "color": [
           0.858
          ],
          "coloraxis": "coloraxis",
          "symbol": "square"
         },
         "mode": "markers",
         "name": "0.858",
         "orientation": "v",
         "showlegend": true,
         "type": "scatter",
         "x": [
          2016
         ],
         "xaxis": "x",
         "y": [
          6
         ],
         "yaxis": "y"
        },
        {
         "hovertemplate": "energy=%{marker.color}<br>release_date=%{x}<br>popularity=%{y}<extra></extra>",
         "legendgroup": "0.657",
         "marker": {
          "color": [
           0.657
          ],
          "coloraxis": "coloraxis",
          "symbol": "x"
         },
         "mode": "markers",
         "name": "0.657",
         "orientation": "v",
         "showlegend": true,
         "type": "scatter",
         "x": [
          2017
         ],
         "xaxis": "x",
         "y": [
          54
         ],
         "yaxis": "y"
        },
        {
         "hovertemplate": "energy=%{marker.color}<br>release_date=%{x}<br>popularity=%{y}<extra></extra>",
         "legendgroup": "0.684",
         "marker": {
          "color": [
           0.684
          ],
          "coloraxis": "coloraxis",
          "symbol": "cross"
         },
         "mode": "markers",
         "name": "0.684",
         "orientation": "v",
         "showlegend": true,
         "type": "scatter",
         "x": [
          2016
         ],
         "xaxis": "x",
         "y": [
          0
         ],
         "yaxis": "y"
        },
        {
         "hovertemplate": "energy=%{marker.color}<br>release_date=%{x}<br>popularity=%{y}<extra></extra>",
         "legendgroup": "0.973",
         "marker": {
          "color": [
           0.973,
           0.973
          ],
          "coloraxis": "coloraxis",
          "symbol": "circle"
         },
         "mode": "markers",
         "name": "0.973",
         "orientation": "v",
         "showlegend": true,
         "type": "scatter",
         "x": [
          2017,
          2016
         ],
         "xaxis": "x",
         "y": [
          16,
          0
         ],
         "yaxis": "y"
        },
        {
         "hovertemplate": "energy=%{marker.color}<br>release_date=%{x}<br>popularity=%{y}<extra></extra>",
         "legendgroup": "0.588",
         "marker": {
          "color": [
           0.588
          ],
          "coloraxis": "coloraxis",
          "symbol": "diamond"
         },
         "mode": "markers",
         "name": "0.588",
         "orientation": "v",
         "showlegend": true,
         "type": "scatter",
         "x": [
          2016
         ],
         "xaxis": "x",
         "y": [
          0
         ],
         "yaxis": "y"
        },
        {
         "hovertemplate": "energy=%{marker.color}<br>release_date=%{x}<br>popularity=%{y}<extra></extra>",
         "legendgroup": "0.834",
         "marker": {
          "color": [
           0.834,
           0.834
          ],
          "coloraxis": "coloraxis",
          "symbol": "square"
         },
         "mode": "markers",
         "name": "0.834",
         "orientation": "v",
         "showlegend": true,
         "type": "scatter",
         "x": [
          2016,
          2016
         ],
         "xaxis": "x",
         "y": [
          0,
          0
         ],
         "yaxis": "y"
        },
        {
         "hovertemplate": "energy=%{marker.color}<br>release_date=%{x}<br>popularity=%{y}<extra></extra>",
         "legendgroup": "0.46",
         "marker": {
          "color": [
           0.46
          ],
          "coloraxis": "coloraxis",
          "symbol": "x"
         },
         "mode": "markers",
         "name": "0.46",
         "orientation": "v",
         "showlegend": true,
         "type": "scatter",
         "x": [
          2017
         ],
         "xaxis": "x",
         "y": [
          40
         ],
         "yaxis": "y"
        },
        {
         "hovertemplate": "energy=%{marker.color}<br>release_date=%{x}<br>popularity=%{y}<extra></extra>",
         "legendgroup": "0.64",
         "marker": {
          "color": [
           0.64
          ],
          "coloraxis": "coloraxis",
          "symbol": "cross"
         },
         "mode": "markers",
         "name": "0.64",
         "orientation": "v",
         "showlegend": true,
         "type": "scatter",
         "x": [
          2019
         ],
         "xaxis": "x",
         "y": [
          60
         ],
         "yaxis": "y"
        },
        {
         "hovertemplate": "energy=%{marker.color}<br>release_date=%{x}<br>popularity=%{y}<extra></extra>",
         "legendgroup": "0.808",
         "marker": {
          "color": [
           0.808
          ],
          "coloraxis": "coloraxis",
          "symbol": "circle"
         },
         "mode": "markers",
         "name": "0.808",
         "orientation": "v",
         "showlegend": true,
         "type": "scatter",
         "x": [
          2019
         ],
         "xaxis": "x",
         "y": [
          54
         ],
         "yaxis": "y"
        },
        {
         "hovertemplate": "energy=%{marker.color}<br>release_date=%{x}<br>popularity=%{y}<extra></extra>",
         "legendgroup": "0.781",
         "marker": {
          "color": [
           0.781,
           0.781,
           0.781
          ],
          "coloraxis": "coloraxis",
          "symbol": "diamond"
         },
         "mode": "markers",
         "name": "0.781",
         "orientation": "v",
         "showlegend": true,
         "type": "scatter",
         "x": [
          2019,
          2020,
          2020
         ],
         "xaxis": "x",
         "y": [
          73,
          2,
          25
         ],
         "yaxis": "y"
        },
        {
         "hovertemplate": "energy=%{marker.color}<br>release_date=%{x}<br>popularity=%{y}<extra></extra>",
         "legendgroup": "0.439",
         "marker": {
          "color": [
           0.439
          ],
          "coloraxis": "coloraxis",
          "symbol": "square"
         },
         "mode": "markers",
         "name": "0.439",
         "orientation": "v",
         "showlegend": true,
         "type": "scatter",
         "x": [
          2015
         ],
         "xaxis": "x",
         "y": [
          1
         ],
         "yaxis": "y"
        },
        {
         "hovertemplate": "energy=%{marker.color}<br>release_date=%{x}<br>popularity=%{y}<extra></extra>",
         "legendgroup": "0.568",
         "marker": {
          "color": [
           0.568
          ],
          "coloraxis": "coloraxis",
          "symbol": "x"
         },
         "mode": "markers",
         "name": "0.568",
         "orientation": "v",
         "showlegend": true,
         "type": "scatter",
         "x": [
          2019
         ],
         "xaxis": "x",
         "y": [
          7
         ],
         "yaxis": "y"
        },
        {
         "hovertemplate": "energy=%{marker.color}<br>release_date=%{x}<br>popularity=%{y}<extra></extra>",
         "legendgroup": "0.771",
         "marker": {
          "color": [
           0.771,
           0.771
          ],
          "coloraxis": "coloraxis",
          "symbol": "cross"
         },
         "mode": "markers",
         "name": "0.771",
         "orientation": "v",
         "showlegend": true,
         "type": "scatter",
         "x": [
          2018,
          2014
         ],
         "xaxis": "x",
         "y": [
          47,
          0
         ],
         "yaxis": "y"
        },
        {
         "hovertemplate": "energy=%{marker.color}<br>release_date=%{x}<br>popularity=%{y}<extra></extra>",
         "legendgroup": "0.788",
         "marker": {
          "color": [
           0.788
          ],
          "coloraxis": "coloraxis",
          "symbol": "circle"
         },
         "mode": "markers",
         "name": "0.788",
         "orientation": "v",
         "showlegend": true,
         "type": "scatter",
         "x": [
          2019
         ],
         "xaxis": "x",
         "y": [
          0
         ],
         "yaxis": "y"
        },
        {
         "hovertemplate": "energy=%{marker.color}<br>release_date=%{x}<br>popularity=%{y}<extra></extra>",
         "legendgroup": "0.553",
         "marker": {
          "color": [
           0.553
          ],
          "coloraxis": "coloraxis",
          "symbol": "diamond"
         },
         "mode": "markers",
         "name": "0.553",
         "orientation": "v",
         "showlegend": true,
         "type": "scatter",
         "x": [
          2016
         ],
         "xaxis": "x",
         "y": [
          60
         ],
         "yaxis": "y"
        },
        {
         "hovertemplate": "energy=%{marker.color}<br>release_date=%{x}<br>popularity=%{y}<extra></extra>",
         "legendgroup": "0.548",
         "marker": {
          "color": [
           0.548
          ],
          "coloraxis": "coloraxis",
          "symbol": "square"
         },
         "mode": "markers",
         "name": "0.548",
         "orientation": "v",
         "showlegend": true,
         "type": "scatter",
         "x": [
          2017
         ],
         "xaxis": "x",
         "y": [
          0
         ],
         "yaxis": "y"
        },
        {
         "hovertemplate": "energy=%{marker.color}<br>release_date=%{x}<br>popularity=%{y}<extra></extra>",
         "legendgroup": "0.774",
         "marker": {
          "color": [
           0.774
          ],
          "coloraxis": "coloraxis",
          "symbol": "x"
         },
         "mode": "markers",
         "name": "0.774",
         "orientation": "v",
         "showlegend": true,
         "type": "scatter",
         "x": [
          2019
         ],
         "xaxis": "x",
         "y": [
          60
         ],
         "yaxis": "y"
        },
        {
         "hovertemplate": "energy=%{marker.color}<br>release_date=%{x}<br>popularity=%{y}<extra></extra>",
         "legendgroup": "0.787",
         "marker": {
          "color": [
           0.787
          ],
          "coloraxis": "coloraxis",
          "symbol": "cross"
         },
         "mode": "markers",
         "name": "0.787",
         "orientation": "v",
         "showlegend": true,
         "type": "scatter",
         "x": [
          2019
         ],
         "xaxis": "x",
         "y": [
          14
         ],
         "yaxis": "y"
        },
        {
         "hovertemplate": "energy=%{marker.color}<br>release_date=%{x}<br>popularity=%{y}<extra></extra>",
         "legendgroup": "0.784",
         "marker": {
          "color": [
           0.784
          ],
          "coloraxis": "coloraxis",
          "symbol": "circle"
         },
         "mode": "markers",
         "name": "0.784",
         "orientation": "v",
         "showlegend": true,
         "type": "scatter",
         "x": [
          2018
         ],
         "xaxis": "x",
         "y": [
          36
         ],
         "yaxis": "y"
        },
        {
         "hovertemplate": "energy=%{marker.color}<br>release_date=%{x}<br>popularity=%{y}<extra></extra>",
         "legendgroup": "0.84",
         "marker": {
          "color": [
           0.84
          ],
          "coloraxis": "coloraxis",
          "symbol": "diamond"
         },
         "mode": "markers",
         "name": "0.84",
         "orientation": "v",
         "showlegend": true,
         "type": "scatter",
         "x": [
          2015
         ],
         "xaxis": "x",
         "y": [
          20
         ],
         "yaxis": "y"
        },
        {
         "hovertemplate": "energy=%{marker.color}<br>release_date=%{x}<br>popularity=%{y}<extra></extra>",
         "legendgroup": "0.463",
         "marker": {
          "color": [
           0.463
          ],
          "coloraxis": "coloraxis",
          "symbol": "square"
         },
         "mode": "markers",
         "name": "0.463",
         "orientation": "v",
         "showlegend": true,
         "type": "scatter",
         "x": [
          2016
         ],
         "xaxis": "x",
         "y": [
          0
         ],
         "yaxis": "y"
        },
        {
         "hovertemplate": "energy=%{marker.color}<br>release_date=%{x}<br>popularity=%{y}<extra></extra>",
         "legendgroup": "0.735",
         "marker": {
          "color": [
           0.735,
           0.735
          ],
          "coloraxis": "coloraxis",
          "symbol": "x"
         },
         "mode": "markers",
         "name": "0.735",
         "orientation": "v",
         "showlegend": true,
         "type": "scatter",
         "x": [
          2017,
          2016
         ],
         "xaxis": "x",
         "y": [
          39,
          0
         ],
         "yaxis": "y"
        },
        {
         "hovertemplate": "energy=%{marker.color}<br>release_date=%{x}<br>popularity=%{y}<extra></extra>",
         "legendgroup": "0.584",
         "marker": {
          "color": [
           0.584
          ],
          "coloraxis": "coloraxis",
          "symbol": "cross"
         },
         "mode": "markers",
         "name": "0.584",
         "orientation": "v",
         "showlegend": true,
         "type": "scatter",
         "x": [
          2017
         ],
         "xaxis": "x",
         "y": [
          46
         ],
         "yaxis": "y"
        },
        {
         "hovertemplate": "energy=%{marker.color}<br>release_date=%{x}<br>popularity=%{y}<extra></extra>",
         "legendgroup": "0.693",
         "marker": {
          "color": [
           0.693,
           0.693
          ],
          "coloraxis": "coloraxis",
          "symbol": "circle"
         },
         "mode": "markers",
         "name": "0.693",
         "orientation": "v",
         "showlegend": true,
         "type": "scatter",
         "x": [
          2011,
          2018
         ],
         "xaxis": "x",
         "y": [
          45,
          0
         ],
         "yaxis": "y"
        },
        {
         "hovertemplate": "energy=%{marker.color}<br>release_date=%{x}<br>popularity=%{y}<extra></extra>",
         "legendgroup": "0.56",
         "marker": {
          "color": [
           0.56
          ],
          "coloraxis": "coloraxis",
          "symbol": "diamond"
         },
         "mode": "markers",
         "name": "0.56",
         "orientation": "v",
         "showlegend": true,
         "type": "scatter",
         "x": [
          2019
         ],
         "xaxis": "x",
         "y": [
          28
         ],
         "yaxis": "y"
        },
        {
         "hovertemplate": "energy=%{marker.color}<br>release_date=%{x}<br>popularity=%{y}<extra></extra>",
         "legendgroup": "0.767",
         "marker": {
          "color": [
           0.767
          ],
          "coloraxis": "coloraxis",
          "symbol": "square"
         },
         "mode": "markers",
         "name": "0.767",
         "orientation": "v",
         "showlegend": true,
         "type": "scatter",
         "x": [
          2008
         ],
         "xaxis": "x",
         "y": [
          31
         ],
         "yaxis": "y"
        },
        {
         "hovertemplate": "energy=%{marker.color}<br>release_date=%{x}<br>popularity=%{y}<extra></extra>",
         "legendgroup": "0.642",
         "marker": {
          "color": [
           0.642,
           0.642
          ],
          "coloraxis": "coloraxis",
          "symbol": "x"
         },
         "mode": "markers",
         "name": "0.642",
         "orientation": "v",
         "showlegend": true,
         "type": "scatter",
         "x": [
          2019,
          2015
         ],
         "xaxis": "x",
         "y": [
          31,
          28
         ],
         "yaxis": "y"
        },
        {
         "hovertemplate": "energy=%{marker.color}<br>release_date=%{x}<br>popularity=%{y}<extra></extra>",
         "legendgroup": "0.538",
         "marker": {
          "color": [
           0.538
          ],
          "coloraxis": "coloraxis",
          "symbol": "cross"
         },
         "mode": "markers",
         "name": "0.538",
         "orientation": "v",
         "showlegend": true,
         "type": "scatter",
         "x": [
          2019
         ],
         "xaxis": "x",
         "y": [
          21
         ],
         "yaxis": "y"
        },
        {
         "hovertemplate": "energy=%{marker.color}<br>release_date=%{x}<br>popularity=%{y}<extra></extra>",
         "legendgroup": "0.673",
         "marker": {
          "color": [
           0.673
          ],
          "coloraxis": "coloraxis",
          "symbol": "circle"
         },
         "mode": "markers",
         "name": "0.673",
         "orientation": "v",
         "showlegend": true,
         "type": "scatter",
         "x": [
          2017
         ],
         "xaxis": "x",
         "y": [
          9
         ],
         "yaxis": "y"
        },
        {
         "hovertemplate": "energy=%{marker.color}<br>release_date=%{x}<br>popularity=%{y}<extra></extra>",
         "legendgroup": "0.655",
         "marker": {
          "color": [
           0.655
          ],
          "coloraxis": "coloraxis",
          "symbol": "diamond"
         },
         "mode": "markers",
         "name": "0.655",
         "orientation": "v",
         "showlegend": true,
         "type": "scatter",
         "x": [
          2018
         ],
         "xaxis": "x",
         "y": [
          44
         ],
         "yaxis": "y"
        },
        {
         "hovertemplate": "energy=%{marker.color}<br>release_date=%{x}<br>popularity=%{y}<extra></extra>",
         "legendgroup": "0.418",
         "marker": {
          "color": [
           0.418
          ],
          "coloraxis": "coloraxis",
          "symbol": "square"
         },
         "mode": "markers",
         "name": "0.418",
         "orientation": "v",
         "showlegend": true,
         "type": "scatter",
         "x": [
          2019
         ],
         "xaxis": "x",
         "y": [
          9
         ],
         "yaxis": "y"
        },
        {
         "hovertemplate": "energy=%{marker.color}<br>release_date=%{x}<br>popularity=%{y}<extra></extra>",
         "legendgroup": "0.467",
         "marker": {
          "color": [
           0.467
          ],
          "coloraxis": "coloraxis",
          "symbol": "x"
         },
         "mode": "markers",
         "name": "0.467",
         "orientation": "v",
         "showlegend": true,
         "type": "scatter",
         "x": [
          2019
         ],
         "xaxis": "x",
         "y": [
          32
         ],
         "yaxis": "y"
        },
        {
         "hovertemplate": "energy=%{marker.color}<br>release_date=%{x}<br>popularity=%{y}<extra></extra>",
         "legendgroup": "0.415",
         "marker": {
          "color": [
           0.415
          ],
          "coloraxis": "coloraxis",
          "symbol": "cross"
         },
         "mode": "markers",
         "name": "0.415",
         "orientation": "v",
         "showlegend": true,
         "type": "scatter",
         "x": [
          2019
         ],
         "xaxis": "x",
         "y": [
          55
         ],
         "yaxis": "y"
        },
        {
         "hovertemplate": "energy=%{marker.color}<br>release_date=%{x}<br>popularity=%{y}<extra></extra>",
         "legendgroup": "0.74",
         "marker": {
          "color": [
           0.74,
           0.74
          ],
          "coloraxis": "coloraxis",
          "symbol": "circle"
         },
         "mode": "markers",
         "name": "0.74",
         "orientation": "v",
         "showlegend": true,
         "type": "scatter",
         "x": [
          2018,
          2020
         ],
         "xaxis": "x",
         "y": [
          35,
          63
         ],
         "yaxis": "y"
        },
        {
         "hovertemplate": "energy=%{marker.color}<br>release_date=%{x}<br>popularity=%{y}<extra></extra>",
         "legendgroup": "0.741",
         "marker": {
          "color": [
           0.741
          ],
          "coloraxis": "coloraxis",
          "symbol": "diamond"
         },
         "mode": "markers",
         "name": "0.741",
         "orientation": "v",
         "showlegend": true,
         "type": "scatter",
         "x": [
          2017
         ],
         "xaxis": "x",
         "y": [
          4
         ],
         "yaxis": "y"
        },
        {
         "hovertemplate": "energy=%{marker.color}<br>release_date=%{x}<br>popularity=%{y}<extra></extra>",
         "legendgroup": "0.399",
         "marker": {
          "color": [
           0.399
          ],
          "coloraxis": "coloraxis",
          "symbol": "square"
         },
         "mode": "markers",
         "name": "0.399",
         "orientation": "v",
         "showlegend": true,
         "type": "scatter",
         "x": [
          2015
         ],
         "xaxis": "x",
         "y": [
          0
         ],
         "yaxis": "y"
        },
        {
         "hovertemplate": "energy=%{marker.color}<br>release_date=%{x}<br>popularity=%{y}<extra></extra>",
         "legendgroup": "0.892",
         "marker": {
          "color": [
           0.892
          ],
          "coloraxis": "coloraxis",
          "symbol": "x"
         },
         "mode": "markers",
         "name": "0.892",
         "orientation": "v",
         "showlegend": true,
         "type": "scatter",
         "x": [
          2018
         ],
         "xaxis": "x",
         "y": [
          44
         ],
         "yaxis": "y"
        },
        {
         "hovertemplate": "energy=%{marker.color}<br>release_date=%{x}<br>popularity=%{y}<extra></extra>",
         "legendgroup": "0.731",
         "marker": {
          "color": [
           0.731
          ],
          "coloraxis": "coloraxis",
          "symbol": "cross"
         },
         "mode": "markers",
         "name": "0.731",
         "orientation": "v",
         "showlegend": true,
         "type": "scatter",
         "x": [
          2019
         ],
         "xaxis": "x",
         "y": [
          39
         ],
         "yaxis": "y"
        },
        {
         "hovertemplate": "energy=%{marker.color}<br>release_date=%{x}<br>popularity=%{y}<extra></extra>",
         "legendgroup": "0.924",
         "marker": {
          "color": [
           0.924
          ],
          "coloraxis": "coloraxis",
          "symbol": "circle"
         },
         "mode": "markers",
         "name": "0.924",
         "orientation": "v",
         "showlegend": true,
         "type": "scatter",
         "x": [
          2019
         ],
         "xaxis": "x",
         "y": [
          22
         ],
         "yaxis": "y"
        },
        {
         "hovertemplate": "energy=%{marker.color}<br>release_date=%{x}<br>popularity=%{y}<extra></extra>",
         "legendgroup": "0.521",
         "marker": {
          "color": [
           0.521
          ],
          "coloraxis": "coloraxis",
          "symbol": "diamond"
         },
         "mode": "markers",
         "name": "0.521",
         "orientation": "v",
         "showlegend": true,
         "type": "scatter",
         "x": [
          2016
         ],
         "xaxis": "x",
         "y": [
          69
         ],
         "yaxis": "y"
        },
        {
         "hovertemplate": "energy=%{marker.color}<br>release_date=%{x}<br>popularity=%{y}<extra></extra>",
         "legendgroup": "0.956",
         "marker": {
          "color": [
           0.956,
           0.956
          ],
          "coloraxis": "coloraxis",
          "symbol": "square"
         },
         "mode": "markers",
         "name": "0.956",
         "orientation": "v",
         "showlegend": true,
         "type": "scatter",
         "x": [
          2015,
          2013
         ],
         "xaxis": "x",
         "y": [
          0,
          3
         ],
         "yaxis": "y"
        },
        {
         "hovertemplate": "energy=%{marker.color}<br>release_date=%{x}<br>popularity=%{y}<extra></extra>",
         "legendgroup": "0.861",
         "marker": {
          "color": [
           0.861
          ],
          "coloraxis": "coloraxis",
          "symbol": "x"
         },
         "mode": "markers",
         "name": "0.861",
         "orientation": "v",
         "showlegend": true,
         "type": "scatter",
         "x": [
          2015
         ],
         "xaxis": "x",
         "y": [
          35
         ],
         "yaxis": "y"
        },
        {
         "hovertemplate": "energy=%{marker.color}<br>release_date=%{x}<br>popularity=%{y}<extra></extra>",
         "legendgroup": "0.89",
         "marker": {
          "color": [
           0.89
          ],
          "coloraxis": "coloraxis",
          "symbol": "cross"
         },
         "mode": "markers",
         "name": "0.89",
         "orientation": "v",
         "showlegend": true,
         "type": "scatter",
         "x": [
          2013
         ],
         "xaxis": "x",
         "y": [
          26
         ],
         "yaxis": "y"
        },
        {
         "hovertemplate": "energy=%{marker.color}<br>release_date=%{x}<br>popularity=%{y}<extra></extra>",
         "legendgroup": "0.881",
         "marker": {
          "color": [
           0.881
          ],
          "coloraxis": "coloraxis",
          "symbol": "circle"
         },
         "mode": "markers",
         "name": "0.881",
         "orientation": "v",
         "showlegend": true,
         "type": "scatter",
         "x": [
          2014
         ],
         "xaxis": "x",
         "y": [
          0
         ],
         "yaxis": "y"
        },
        {
         "hovertemplate": "energy=%{marker.color}<br>release_date=%{x}<br>popularity=%{y}<extra></extra>",
         "legendgroup": "0.367",
         "marker": {
          "color": [
           0.367
          ],
          "coloraxis": "coloraxis",
          "symbol": "diamond"
         },
         "mode": "markers",
         "name": "0.367",
         "orientation": "v",
         "showlegend": true,
         "type": "scatter",
         "x": [
          2016
         ],
         "xaxis": "x",
         "y": [
          0
         ],
         "yaxis": "y"
        },
        {
         "hovertemplate": "energy=%{marker.color}<br>release_date=%{x}<br>popularity=%{y}<extra></extra>",
         "legendgroup": "0.963",
         "marker": {
          "color": [
           0.963
          ],
          "coloraxis": "coloraxis",
          "symbol": "square"
         },
         "mode": "markers",
         "name": "0.963",
         "orientation": "v",
         "showlegend": true,
         "type": "scatter",
         "x": [
          2015
         ],
         "xaxis": "x",
         "y": [
          0
         ],
         "yaxis": "y"
        },
        {
         "hovertemplate": "energy=%{marker.color}<br>release_date=%{x}<br>popularity=%{y}<extra></extra>",
         "legendgroup": "0.728",
         "marker": {
          "color": [
           0.728
          ],
          "coloraxis": "coloraxis",
          "symbol": "x"
         },
         "mode": "markers",
         "name": "0.728",
         "orientation": "v",
         "showlegend": true,
         "type": "scatter",
         "x": [
          2016
         ],
         "xaxis": "x",
         "y": [
          6
         ],
         "yaxis": "y"
        },
        {
         "hovertemplate": "energy=%{marker.color}<br>release_date=%{x}<br>popularity=%{y}<extra></extra>",
         "legendgroup": "0.975",
         "marker": {
          "color": [
           0.975
          ],
          "coloraxis": "coloraxis",
          "symbol": "cross"
         },
         "mode": "markers",
         "name": "0.975",
         "orientation": "v",
         "showlegend": true,
         "type": "scatter",
         "x": [
          2014
         ],
         "xaxis": "x",
         "y": [
          0
         ],
         "yaxis": "y"
        },
        {
         "hovertemplate": "energy=%{marker.color}<br>release_date=%{x}<br>popularity=%{y}<extra></extra>",
         "legendgroup": "0.982",
         "marker": {
          "color": [
           0.982
          ],
          "coloraxis": "coloraxis",
          "symbol": "circle"
         },
         "mode": "markers",
         "name": "0.982",
         "orientation": "v",
         "showlegend": true,
         "type": "scatter",
         "x": [
          2016
         ],
         "xaxis": "x",
         "y": [
          0
         ],
         "yaxis": "y"
        },
        {
         "hovertemplate": "energy=%{marker.color}<br>release_date=%{x}<br>popularity=%{y}<extra></extra>",
         "legendgroup": "0.949",
         "marker": {
          "color": [
           0.949
          ],
          "coloraxis": "coloraxis",
          "symbol": "diamond"
         },
         "mode": "markers",
         "name": "0.949",
         "orientation": "v",
         "showlegend": true,
         "type": "scatter",
         "x": [
          2012
         ],
         "xaxis": "x",
         "y": [
          0
         ],
         "yaxis": "y"
        },
        {
         "hovertemplate": "energy=%{marker.color}<br>release_date=%{x}<br>popularity=%{y}<extra></extra>",
         "legendgroup": "0.968",
         "marker": {
          "color": [
           0.968
          ],
          "coloraxis": "coloraxis",
          "symbol": "square"
         },
         "mode": "markers",
         "name": "0.968",
         "orientation": "v",
         "showlegend": true,
         "type": "scatter",
         "x": [
          2014
         ],
         "xaxis": "x",
         "y": [
          35
         ],
         "yaxis": "y"
        },
        {
         "hovertemplate": "energy=%{marker.color}<br>release_date=%{x}<br>popularity=%{y}<extra></extra>",
         "legendgroup": "0.889",
         "marker": {
          "color": [
           0.889
          ],
          "coloraxis": "coloraxis",
          "symbol": "x"
         },
         "mode": "markers",
         "name": "0.889",
         "orientation": "v",
         "showlegend": true,
         "type": "scatter",
         "x": [
          2015
         ],
         "xaxis": "x",
         "y": [
          0
         ],
         "yaxis": "y"
        },
        {
         "hovertemplate": "energy=%{marker.color}<br>release_date=%{x}<br>popularity=%{y}<extra></extra>",
         "legendgroup": "0.895",
         "marker": {
          "color": [
           0.895
          ],
          "coloraxis": "coloraxis",
          "symbol": "cross"
         },
         "mode": "markers",
         "name": "0.895",
         "orientation": "v",
         "showlegend": true,
         "type": "scatter",
         "x": [
          2012
         ],
         "xaxis": "x",
         "y": [
          0
         ],
         "yaxis": "y"
        },
        {
         "hovertemplate": "energy=%{marker.color}<br>release_date=%{x}<br>popularity=%{y}<extra></extra>",
         "legendgroup": "0.916",
         "marker": {
          "color": [
           0.916,
           0.916,
           0.916,
           0.916
          ],
          "coloraxis": "coloraxis",
          "symbol": "circle"
         },
         "mode": "markers",
         "name": "0.916",
         "orientation": "v",
         "showlegend": true,
         "type": "scatter",
         "x": [
          2016,
          2012,
          2015,
          2015
         ],
         "xaxis": "x",
         "y": [
          0,
          19,
          2,
          0
         ],
         "yaxis": "y"
        },
        {
         "hovertemplate": "energy=%{marker.color}<br>release_date=%{x}<br>popularity=%{y}<extra></extra>",
         "legendgroup": "0.777",
         "marker": {
          "color": [
           0.777
          ],
          "coloraxis": "coloraxis",
          "symbol": "diamond"
         },
         "mode": "markers",
         "name": "0.777",
         "orientation": "v",
         "showlegend": true,
         "type": "scatter",
         "x": [
          2012
         ],
         "xaxis": "x",
         "y": [
          0
         ],
         "yaxis": "y"
        },
        {
         "hovertemplate": "energy=%{marker.color}<br>release_date=%{x}<br>popularity=%{y}<extra></extra>",
         "legendgroup": "0.933",
         "marker": {
          "color": [
           0.933,
           0.933
          ],
          "coloraxis": "coloraxis",
          "symbol": "square"
         },
         "mode": "markers",
         "name": "0.933",
         "orientation": "v",
         "showlegend": true,
         "type": "scatter",
         "x": [
          2014,
          2014
         ],
         "xaxis": "x",
         "y": [
          29,
          0
         ],
         "yaxis": "y"
        },
        {
         "hovertemplate": "energy=%{marker.color}<br>release_date=%{x}<br>popularity=%{y}<extra></extra>",
         "legendgroup": "0.259",
         "marker": {
          "color": [
           0.259
          ],
          "coloraxis": "coloraxis",
          "symbol": "x"
         },
         "mode": "markers",
         "name": "0.259",
         "orientation": "v",
         "showlegend": true,
         "type": "scatter",
         "x": [
          2015
         ],
         "xaxis": "x",
         "y": [
          36
         ],
         "yaxis": "y"
        },
        {
         "hovertemplate": "energy=%{marker.color}<br>release_date=%{x}<br>popularity=%{y}<extra></extra>",
         "legendgroup": "0.794",
         "marker": {
          "color": [
           0.794
          ],
          "coloraxis": "coloraxis",
          "symbol": "cross"
         },
         "mode": "markers",
         "name": "0.794",
         "orientation": "v",
         "showlegend": true,
         "type": "scatter",
         "x": [
          2017
         ],
         "xaxis": "x",
         "y": [
          4
         ],
         "yaxis": "y"
        },
        {
         "hovertemplate": "energy=%{marker.color}<br>release_date=%{x}<br>popularity=%{y}<extra></extra>",
         "legendgroup": "0.884",
         "marker": {
          "color": [
           0.884
          ],
          "coloraxis": "coloraxis",
          "symbol": "circle"
         },
         "mode": "markers",
         "name": "0.884",
         "orientation": "v",
         "showlegend": true,
         "type": "scatter",
         "x": [
          2015
         ],
         "xaxis": "x",
         "y": [
          0
         ],
         "yaxis": "y"
        },
        {
         "hovertemplate": "energy=%{marker.color}<br>release_date=%{x}<br>popularity=%{y}<extra></extra>",
         "legendgroup": "0.761",
         "marker": {
          "color": [
           0.761
          ],
          "coloraxis": "coloraxis",
          "symbol": "diamond"
         },
         "mode": "markers",
         "name": "0.761",
         "orientation": "v",
         "showlegend": true,
         "type": "scatter",
         "x": [
          2017
         ],
         "xaxis": "x",
         "y": [
          2
         ],
         "yaxis": "y"
        },
        {
         "hovertemplate": "energy=%{marker.color}<br>release_date=%{x}<br>popularity=%{y}<extra></extra>",
         "legendgroup": "0.917",
         "marker": {
          "color": [
           0.917
          ],
          "coloraxis": "coloraxis",
          "symbol": "square"
         },
         "mode": "markers",
         "name": "0.917",
         "orientation": "v",
         "showlegend": true,
         "type": "scatter",
         "x": [
          2017
         ],
         "xaxis": "x",
         "y": [
          13
         ],
         "yaxis": "y"
        },
        {
         "hovertemplate": "energy=%{marker.color}<br>release_date=%{x}<br>popularity=%{y}<extra></extra>",
         "legendgroup": "0.891",
         "marker": {
          "color": [
           0.891,
           0.891
          ],
          "coloraxis": "coloraxis",
          "symbol": "x"
         },
         "mode": "markers",
         "name": "0.891",
         "orientation": "v",
         "showlegend": true,
         "type": "scatter",
         "x": [
          2017,
          2016
         ],
         "xaxis": "x",
         "y": [
          1,
          39
         ],
         "yaxis": "y"
        },
        {
         "hovertemplate": "energy=%{marker.color}<br>release_date=%{x}<br>popularity=%{y}<extra></extra>",
         "legendgroup": "0.385",
         "marker": {
          "color": [
           0.385
          ],
          "coloraxis": "coloraxis",
          "symbol": "cross"
         },
         "mode": "markers",
         "name": "0.385",
         "orientation": "v",
         "showlegend": true,
         "type": "scatter",
         "x": [
          2017
         ],
         "xaxis": "x",
         "y": [
          0
         ],
         "yaxis": "y"
        },
        {
         "hovertemplate": "energy=%{marker.color}<br>release_date=%{x}<br>popularity=%{y}<extra></extra>",
         "legendgroup": "0.754",
         "marker": {
          "color": [
           0.754
          ],
          "coloraxis": "coloraxis",
          "symbol": "circle"
         },
         "mode": "markers",
         "name": "0.754",
         "orientation": "v",
         "showlegend": true,
         "type": "scatter",
         "x": [
          2017
         ],
         "xaxis": "x",
         "y": [
          0
         ],
         "yaxis": "y"
        },
        {
         "hovertemplate": "energy=%{marker.color}<br>release_date=%{x}<br>popularity=%{y}<extra></extra>",
         "legendgroup": "0.863",
         "marker": {
          "color": [
           0.863
          ],
          "coloraxis": "coloraxis",
          "symbol": "diamond"
         },
         "mode": "markers",
         "name": "0.863",
         "orientation": "v",
         "showlegend": true,
         "type": "scatter",
         "x": [
          2017
         ],
         "xaxis": "x",
         "y": [
          0
         ],
         "yaxis": "y"
        },
        {
         "hovertemplate": "energy=%{marker.color}<br>release_date=%{x}<br>popularity=%{y}<extra></extra>",
         "legendgroup": "0.818",
         "marker": {
          "color": [
           0.818
          ],
          "coloraxis": "coloraxis",
          "symbol": "square"
         },
         "mode": "markers",
         "name": "0.818",
         "orientation": "v",
         "showlegend": true,
         "type": "scatter",
         "x": [
          2017
         ],
         "xaxis": "x",
         "y": [
          2
         ],
         "yaxis": "y"
        },
        {
         "hovertemplate": "energy=%{marker.color}<br>release_date=%{x}<br>popularity=%{y}<extra></extra>",
         "legendgroup": "0.632",
         "marker": {
          "color": [
           0.632
          ],
          "coloraxis": "coloraxis",
          "symbol": "x"
         },
         "mode": "markers",
         "name": "0.632",
         "orientation": "v",
         "showlegend": true,
         "type": "scatter",
         "x": [
          2018
         ],
         "xaxis": "x",
         "y": [
          0
         ],
         "yaxis": "y"
        },
        {
         "hovertemplate": "energy=%{marker.color}<br>release_date=%{x}<br>popularity=%{y}<extra></extra>",
         "legendgroup": "0.801",
         "marker": {
          "color": [
           0.801
          ],
          "coloraxis": "coloraxis",
          "symbol": "cross"
         },
         "mode": "markers",
         "name": "0.801",
         "orientation": "v",
         "showlegend": true,
         "type": "scatter",
         "x": [
          2017
         ],
         "xaxis": "x",
         "y": [
          0
         ],
         "yaxis": "y"
        },
        {
         "hovertemplate": "energy=%{marker.color}<br>release_date=%{x}<br>popularity=%{y}<extra></extra>",
         "legendgroup": "0.928",
         "marker": {
          "color": [
           0.928,
           0.928
          ],
          "coloraxis": "coloraxis",
          "symbol": "circle"
         },
         "mode": "markers",
         "name": "0.928",
         "orientation": "v",
         "showlegend": true,
         "type": "scatter",
         "x": [
          2014,
          2014
         ],
         "xaxis": "x",
         "y": [
          0,
          0
         ],
         "yaxis": "y"
        },
        {
         "hovertemplate": "energy=%{marker.color}<br>release_date=%{x}<br>popularity=%{y}<extra></extra>",
         "legendgroup": "0.725",
         "marker": {
          "color": [
           0.725
          ],
          "coloraxis": "coloraxis",
          "symbol": "diamond"
         },
         "mode": "markers",
         "name": "0.725",
         "orientation": "v",
         "showlegend": true,
         "type": "scatter",
         "x": [
          2013
         ],
         "xaxis": "x",
         "y": [
          0
         ],
         "yaxis": "y"
        },
        {
         "hovertemplate": "energy=%{marker.color}<br>release_date=%{x}<br>popularity=%{y}<extra></extra>",
         "legendgroup": "0.899",
         "marker": {
          "color": [
           0.899
          ],
          "coloraxis": "coloraxis",
          "symbol": "square"
         },
         "mode": "markers",
         "name": "0.899",
         "orientation": "v",
         "showlegend": true,
         "type": "scatter",
         "x": [
          2015
         ],
         "xaxis": "x",
         "y": [
          26
         ],
         "yaxis": "y"
        },
        {
         "hovertemplate": "energy=%{marker.color}<br>release_date=%{x}<br>popularity=%{y}<extra></extra>",
         "legendgroup": "0.742",
         "marker": {
          "color": [
           0.742
          ],
          "coloraxis": "coloraxis",
          "symbol": "x"
         },
         "mode": "markers",
         "name": "0.742",
         "orientation": "v",
         "showlegend": true,
         "type": "scatter",
         "x": [
          2013
         ],
         "xaxis": "x",
         "y": [
          36
         ],
         "yaxis": "y"
        },
        {
         "hovertemplate": "energy=%{marker.color}<br>release_date=%{x}<br>popularity=%{y}<extra></extra>",
         "legendgroup": "0.747",
         "marker": {
          "color": [
           0.747
          ],
          "coloraxis": "coloraxis",
          "symbol": "cross"
         },
         "mode": "markers",
         "name": "0.747",
         "orientation": "v",
         "showlegend": true,
         "type": "scatter",
         "x": [
          2014
         ],
         "xaxis": "x",
         "y": [
          48
         ],
         "yaxis": "y"
        },
        {
         "hovertemplate": "energy=%{marker.color}<br>release_date=%{x}<br>popularity=%{y}<extra></extra>",
         "legendgroup": "0.633",
         "marker": {
          "color": [
           0.633
          ],
          "coloraxis": "coloraxis",
          "symbol": "circle"
         },
         "mode": "markers",
         "name": "0.633",
         "orientation": "v",
         "showlegend": true,
         "type": "scatter",
         "x": [
          2018
         ],
         "xaxis": "x",
         "y": [
          0
         ],
         "yaxis": "y"
        },
        {
         "hovertemplate": "energy=%{marker.color}<br>release_date=%{x}<br>popularity=%{y}<extra></extra>",
         "legendgroup": "0.786",
         "marker": {
          "color": [
           0.786,
           0.786
          ],
          "coloraxis": "coloraxis",
          "symbol": "diamond"
         },
         "mode": "markers",
         "name": "0.786",
         "orientation": "v",
         "showlegend": true,
         "type": "scatter",
         "x": [
          2018,
          2018
         ],
         "xaxis": "x",
         "y": [
          44,
          51
         ],
         "yaxis": "y"
        },
        {
         "hovertemplate": "energy=%{marker.color}<br>release_date=%{x}<br>popularity=%{y}<extra></extra>",
         "legendgroup": "0.914",
         "marker": {
          "color": [
           0.914
          ],
          "coloraxis": "coloraxis",
          "symbol": "square"
         },
         "mode": "markers",
         "name": "0.914",
         "orientation": "v",
         "showlegend": true,
         "type": "scatter",
         "x": [
          2017
         ],
         "xaxis": "x",
         "y": [
          13
         ],
         "yaxis": "y"
        },
        {
         "hovertemplate": "energy=%{marker.color}<br>release_date=%{x}<br>popularity=%{y}<extra></extra>",
         "legendgroup": "0.945",
         "marker": {
          "color": [
           0.945,
           0.945
          ],
          "coloraxis": "coloraxis",
          "symbol": "x"
         },
         "mode": "markers",
         "name": "0.945",
         "orientation": "v",
         "showlegend": true,
         "type": "scatter",
         "x": [
          2014,
          2013
         ],
         "xaxis": "x",
         "y": [
          29,
          0
         ],
         "yaxis": "y"
        },
        {
         "hovertemplate": "energy=%{marker.color}<br>release_date=%{x}<br>popularity=%{y}<extra></extra>",
         "legendgroup": "0.663",
         "marker": {
          "color": [
           0.663
          ],
          "coloraxis": "coloraxis",
          "symbol": "cross"
         },
         "mode": "markers",
         "name": "0.663",
         "orientation": "v",
         "showlegend": true,
         "type": "scatter",
         "x": [
          2020
         ],
         "xaxis": "x",
         "y": [
          66
         ],
         "yaxis": "y"
        },
        {
         "hovertemplate": "energy=%{marker.color}<br>release_date=%{x}<br>popularity=%{y}<extra></extra>",
         "legendgroup": "0.645",
         "marker": {
          "color": [
           0.645
          ],
          "coloraxis": "coloraxis",
          "symbol": "circle"
         },
         "mode": "markers",
         "name": "0.645",
         "orientation": "v",
         "showlegend": true,
         "type": "scatter",
         "x": [
          2020
         ],
         "xaxis": "x",
         "y": [
          58
         ],
         "yaxis": "y"
        },
        {
         "hovertemplate": "energy=%{marker.color}<br>release_date=%{x}<br>popularity=%{y}<extra></extra>",
         "legendgroup": "0.71",
         "marker": {
          "color": [
           0.71
          ],
          "coloraxis": "coloraxis",
          "symbol": "diamond"
         },
         "mode": "markers",
         "name": "0.71",
         "orientation": "v",
         "showlegend": true,
         "type": "scatter",
         "x": [
          2020
         ],
         "xaxis": "x",
         "y": [
          45
         ],
         "yaxis": "y"
        },
        {
         "hovertemplate": "energy=%{marker.color}<br>release_date=%{x}<br>popularity=%{y}<extra></extra>",
         "legendgroup": "0.577",
         "marker": {
          "color": [
           0.577
          ],
          "coloraxis": "coloraxis",
          "symbol": "square"
         },
         "mode": "markers",
         "name": "0.577",
         "orientation": "v",
         "showlegend": true,
         "type": "scatter",
         "x": [
          2020
         ],
         "xaxis": "x",
         "y": [
          60
         ],
         "yaxis": "y"
        },
        {
         "hovertemplate": "energy=%{marker.color}<br>release_date=%{x}<br>popularity=%{y}<extra></extra>",
         "legendgroup": "0.558",
         "marker": {
          "color": [
           0.558
          ],
          "coloraxis": "coloraxis",
          "symbol": "x"
         },
         "mode": "markers",
         "name": "0.558",
         "orientation": "v",
         "showlegend": true,
         "type": "scatter",
         "x": [
          2020
         ],
         "xaxis": "x",
         "y": [
          49
         ],
         "yaxis": "y"
        },
        {
         "hovertemplate": "energy=%{marker.color}<br>release_date=%{x}<br>popularity=%{y}<extra></extra>",
         "legendgroup": "0.506",
         "marker": {
          "color": [
           0.506
          ],
          "coloraxis": "coloraxis",
          "symbol": "cross"
         },
         "mode": "markers",
         "name": "0.506",
         "orientation": "v",
         "showlegend": true,
         "type": "scatter",
         "x": [
          2020
         ],
         "xaxis": "x",
         "y": [
          35
         ],
         "yaxis": "y"
        },
        {
         "hovertemplate": "energy=%{marker.color}<br>release_date=%{x}<br>popularity=%{y}<extra></extra>",
         "legendgroup": "0.561",
         "marker": {
          "color": [
           0.561
          ],
          "coloraxis": "coloraxis",
          "symbol": "circle"
         },
         "mode": "markers",
         "name": "0.561",
         "orientation": "v",
         "showlegend": true,
         "type": "scatter",
         "x": [
          2020
         ],
         "xaxis": "x",
         "y": [
          0
         ],
         "yaxis": "y"
        },
        {
         "hovertemplate": "energy=%{marker.color}<br>release_date=%{x}<br>popularity=%{y}<extra></extra>",
         "legendgroup": "0.729",
         "marker": {
          "color": [
           0.729
          ],
          "coloraxis": "coloraxis",
          "symbol": "diamond"
         },
         "mode": "markers",
         "name": "0.729",
         "orientation": "v",
         "showlegend": true,
         "type": "scatter",
         "x": [
          2016
         ],
         "xaxis": "x",
         "y": [
          33
         ],
         "yaxis": "y"
        },
        {
         "hovertemplate": "energy=%{marker.color}<br>release_date=%{x}<br>popularity=%{y}<extra></extra>",
         "legendgroup": "0.513",
         "marker": {
          "color": [
           0.513,
           0.513
          ],
          "coloraxis": "coloraxis",
          "symbol": "square"
         },
         "mode": "markers",
         "name": "0.513",
         "orientation": "v",
         "showlegend": true,
         "type": "scatter",
         "x": [
          2019,
          2015
         ],
         "xaxis": "x",
         "y": [
          11,
          0
         ],
         "yaxis": "y"
        },
        {
         "hovertemplate": "energy=%{marker.color}<br>release_date=%{x}<br>popularity=%{y}<extra></extra>",
         "legendgroup": "0.517",
         "marker": {
          "color": [
           0.517
          ],
          "coloraxis": "coloraxis",
          "symbol": "x"
         },
         "mode": "markers",
         "name": "0.517",
         "orientation": "v",
         "showlegend": true,
         "type": "scatter",
         "x": [
          2018
         ],
         "xaxis": "x",
         "y": [
          40
         ],
         "yaxis": "y"
        },
        {
         "hovertemplate": "energy=%{marker.color}<br>release_date=%{x}<br>popularity=%{y}<extra></extra>",
         "legendgroup": "0.522",
         "marker": {
          "color": [
           0.522
          ],
          "coloraxis": "coloraxis",
          "symbol": "cross"
         },
         "mode": "markers",
         "name": "0.522",
         "orientation": "v",
         "showlegend": true,
         "type": "scatter",
         "x": [
          2013
         ],
         "xaxis": "x",
         "y": [
          0
         ],
         "yaxis": "y"
        },
        {
         "hovertemplate": "energy=%{marker.color}<br>release_date=%{x}<br>popularity=%{y}<extra></extra>",
         "legendgroup": "0.888",
         "marker": {
          "color": [
           0.888
          ],
          "coloraxis": "coloraxis",
          "symbol": "circle"
         },
         "mode": "markers",
         "name": "0.888",
         "orientation": "v",
         "showlegend": true,
         "type": "scatter",
         "x": [
          2014
         ],
         "xaxis": "x",
         "y": [
          8
         ],
         "yaxis": "y"
        },
        {
         "hovertemplate": "energy=%{marker.color}<br>release_date=%{x}<br>popularity=%{y}<extra></extra>",
         "legendgroup": "0.703",
         "marker": {
          "color": [
           0.703
          ],
          "coloraxis": "coloraxis",
          "symbol": "diamond"
         },
         "mode": "markers",
         "name": "0.703",
         "orientation": "v",
         "showlegend": true,
         "type": "scatter",
         "x": [
          2013
         ],
         "xaxis": "x",
         "y": [
          14
         ],
         "yaxis": "y"
        },
        {
         "hovertemplate": "energy=%{marker.color}<br>release_date=%{x}<br>popularity=%{y}<extra></extra>",
         "legendgroup": "0.922",
         "marker": {
          "color": [
           0.922
          ],
          "coloraxis": "coloraxis",
          "symbol": "square"
         },
         "mode": "markers",
         "name": "0.922",
         "orientation": "v",
         "showlegend": true,
         "type": "scatter",
         "x": [
          2013
         ],
         "xaxis": "x",
         "y": [
          6
         ],
         "yaxis": "y"
        },
        {
         "hovertemplate": "energy=%{marker.color}<br>release_date=%{x}<br>popularity=%{y}<extra></extra>",
         "legendgroup": "0.711",
         "marker": {
          "color": [
           0.711
          ],
          "coloraxis": "coloraxis",
          "symbol": "x"
         },
         "mode": "markers",
         "name": "0.711",
         "orientation": "v",
         "showlegend": true,
         "type": "scatter",
         "x": [
          2013
         ],
         "xaxis": "x",
         "y": [
          32
         ],
         "yaxis": "y"
        },
        {
         "hovertemplate": "energy=%{marker.color}<br>release_date=%{x}<br>popularity=%{y}<extra></extra>",
         "legendgroup": "0.897",
         "marker": {
          "color": [
           0.897
          ],
          "coloraxis": "coloraxis",
          "symbol": "cross"
         },
         "mode": "markers",
         "name": "0.897",
         "orientation": "v",
         "showlegend": true,
         "type": "scatter",
         "x": [
          2014
         ],
         "xaxis": "x",
         "y": [
          29
         ],
         "yaxis": "y"
        },
        {
         "hovertemplate": "energy=%{marker.color}<br>release_date=%{x}<br>popularity=%{y}<extra></extra>",
         "legendgroup": "0.947",
         "marker": {
          "color": [
           0.947
          ],
          "coloraxis": "coloraxis",
          "symbol": "circle"
         },
         "mode": "markers",
         "name": "0.947",
         "orientation": "v",
         "showlegend": true,
         "type": "scatter",
         "x": [
          2013
         ],
         "xaxis": "x",
         "y": [
          32
         ],
         "yaxis": "y"
        },
        {
         "hovertemplate": "energy=%{marker.color}<br>release_date=%{x}<br>popularity=%{y}<extra></extra>",
         "legendgroup": "0.959",
         "marker": {
          "color": [
           0.959,
           0.959
          ],
          "coloraxis": "coloraxis",
          "symbol": "diamond"
         },
         "mode": "markers",
         "name": "0.959",
         "orientation": "v",
         "showlegend": true,
         "type": "scatter",
         "x": [
          2014,
          2014
         ],
         "xaxis": "x",
         "y": [
          0,
          0
         ],
         "yaxis": "y"
        },
        {
         "hovertemplate": "energy=%{marker.color}<br>release_date=%{x}<br>popularity=%{y}<extra></extra>",
         "legendgroup": "0.857",
         "marker": {
          "color": [
           0.857,
           0.857
          ],
          "coloraxis": "coloraxis",
          "symbol": "square"
         },
         "mode": "markers",
         "name": "0.857",
         "orientation": "v",
         "showlegend": true,
         "type": "scatter",
         "x": [
          2014,
          2014
         ],
         "xaxis": "x",
         "y": [
          0,
          50
         ],
         "yaxis": "y"
        },
        {
         "hovertemplate": "energy=%{marker.color}<br>release_date=%{x}<br>popularity=%{y}<extra></extra>",
         "legendgroup": "0.658",
         "marker": {
          "color": [
           0.658
          ],
          "coloraxis": "coloraxis",
          "symbol": "x"
         },
         "mode": "markers",
         "name": "0.658",
         "orientation": "v",
         "showlegend": true,
         "type": "scatter",
         "x": [
          2014
         ],
         "xaxis": "x",
         "y": [
          0
         ],
         "yaxis": "y"
        },
        {
         "hovertemplate": "energy=%{marker.color}<br>release_date=%{x}<br>popularity=%{y}<extra></extra>",
         "legendgroup": "0.785",
         "marker": {
          "color": [
           0.785
          ],
          "coloraxis": "coloraxis",
          "symbol": "cross"
         },
         "mode": "markers",
         "name": "0.785",
         "orientation": "v",
         "showlegend": true,
         "type": "scatter",
         "x": [
          2014
         ],
         "xaxis": "x",
         "y": [
          8
         ],
         "yaxis": "y"
        },
        {
         "hovertemplate": "energy=%{marker.color}<br>release_date=%{x}<br>popularity=%{y}<extra></extra>",
         "legendgroup": "0.523",
         "marker": {
          "color": [
           0.523
          ],
          "coloraxis": "coloraxis",
          "symbol": "circle"
         },
         "mode": "markers",
         "name": "0.523",
         "orientation": "v",
         "showlegend": true,
         "type": "scatter",
         "x": [
          2013
         ],
         "xaxis": "x",
         "y": [
          31
         ],
         "yaxis": "y"
        },
        {
         "hovertemplate": "energy=%{marker.color}<br>release_date=%{x}<br>popularity=%{y}<extra></extra>",
         "legendgroup": "0.876",
         "marker": {
          "color": [
           0.876
          ],
          "coloraxis": "coloraxis",
          "symbol": "diamond"
         },
         "mode": "markers",
         "name": "0.876",
         "orientation": "v",
         "showlegend": true,
         "type": "scatter",
         "x": [
          2014
         ],
         "xaxis": "x",
         "y": [
          0
         ],
         "yaxis": "y"
        },
        {
         "hovertemplate": "energy=%{marker.color}<br>release_date=%{x}<br>popularity=%{y}<extra></extra>",
         "legendgroup": "0.931",
         "marker": {
          "color": [
           0.931,
           0.931,
           0.931
          ],
          "coloraxis": "coloraxis",
          "symbol": "square"
         },
         "mode": "markers",
         "name": "0.931",
         "orientation": "v",
         "showlegend": true,
         "type": "scatter",
         "x": [
          2014,
          2000,
          2015
         ],
         "xaxis": "x",
         "y": [
          16,
          0,
          20
         ],
         "yaxis": "y"
        },
        {
         "hovertemplate": "energy=%{marker.color}<br>release_date=%{x}<br>popularity=%{y}<extra></extra>",
         "legendgroup": "0.902",
         "marker": {
          "color": [
           0.902
          ],
          "coloraxis": "coloraxis",
          "symbol": "x"
         },
         "mode": "markers",
         "name": "0.902",
         "orientation": "v",
         "showlegend": true,
         "type": "scatter",
         "x": [
          2014
         ],
         "xaxis": "x",
         "y": [
          6
         ],
         "yaxis": "y"
        },
        {
         "hovertemplate": "energy=%{marker.color}<br>release_date=%{x}<br>popularity=%{y}<extra></extra>",
         "legendgroup": "0.654",
         "marker": {
          "color": [
           0.654
          ],
          "coloraxis": "coloraxis",
          "symbol": "cross"
         },
         "mode": "markers",
         "name": "0.654",
         "orientation": "v",
         "showlegend": true,
         "type": "scatter",
         "x": [
          2013
         ],
         "xaxis": "x",
         "y": [
          0
         ],
         "yaxis": "y"
        },
        {
         "hovertemplate": "energy=%{marker.color}<br>release_date=%{x}<br>popularity=%{y}<extra></extra>",
         "legendgroup": "0.748",
         "marker": {
          "color": [
           0.748
          ],
          "coloraxis": "coloraxis",
          "symbol": "circle"
         },
         "mode": "markers",
         "name": "0.748",
         "orientation": "v",
         "showlegend": true,
         "type": "scatter",
         "x": [
          2014
         ],
         "xaxis": "x",
         "y": [
          55
         ],
         "yaxis": "y"
        },
        {
         "hovertemplate": "energy=%{marker.color}<br>release_date=%{x}<br>popularity=%{y}<extra></extra>",
         "legendgroup": "0.862",
         "marker": {
          "color": [
           0.862
          ],
          "coloraxis": "coloraxis",
          "symbol": "diamond"
         },
         "mode": "markers",
         "name": "0.862",
         "orientation": "v",
         "showlegend": true,
         "type": "scatter",
         "x": [
          2014
         ],
         "xaxis": "x",
         "y": [
          24
         ],
         "yaxis": "y"
        },
        {
         "hovertemplate": "energy=%{marker.color}<br>release_date=%{x}<br>popularity=%{y}<extra></extra>",
         "legendgroup": "0.822",
         "marker": {
          "color": [
           0.822
          ],
          "coloraxis": "coloraxis",
          "symbol": "square"
         },
         "mode": "markers",
         "name": "0.822",
         "orientation": "v",
         "showlegend": true,
         "type": "scatter",
         "x": [
          2014
         ],
         "xaxis": "x",
         "y": [
          0
         ],
         "yaxis": "y"
        },
        {
         "hovertemplate": "energy=%{marker.color}<br>release_date=%{x}<br>popularity=%{y}<extra></extra>",
         "legendgroup": "0.946",
         "marker": {
          "color": [
           0.946
          ],
          "coloraxis": "coloraxis",
          "symbol": "x"
         },
         "mode": "markers",
         "name": "0.946",
         "orientation": "v",
         "showlegend": true,
         "type": "scatter",
         "x": [
          2014
         ],
         "xaxis": "x",
         "y": [
          0
         ],
         "yaxis": "y"
        },
        {
         "hovertemplate": "energy=%{marker.color}<br>release_date=%{x}<br>popularity=%{y}<extra></extra>",
         "legendgroup": "0.894",
         "marker": {
          "color": [
           0.894,
           0.894
          ],
          "coloraxis": "coloraxis",
          "symbol": "cross"
         },
         "mode": "markers",
         "name": "0.894",
         "orientation": "v",
         "showlegend": true,
         "type": "scatter",
         "x": [
          2014,
          2012
         ],
         "xaxis": "x",
         "y": [
          0,
          23
         ],
         "yaxis": "y"
        },
        {
         "hovertemplate": "energy=%{marker.color}<br>release_date=%{x}<br>popularity=%{y}<extra></extra>",
         "legendgroup": "0.898",
         "marker": {
          "color": [
           0.898
          ],
          "coloraxis": "coloraxis",
          "symbol": "circle"
         },
         "mode": "markers",
         "name": "0.898",
         "orientation": "v",
         "showlegend": true,
         "type": "scatter",
         "x": [
          2014
         ],
         "xaxis": "x",
         "y": [
          38
         ],
         "yaxis": "y"
        },
        {
         "hovertemplate": "energy=%{marker.color}<br>release_date=%{x}<br>popularity=%{y}<extra></extra>",
         "legendgroup": "0.971",
         "marker": {
          "color": [
           0.971
          ],
          "coloraxis": "coloraxis",
          "symbol": "diamond"
         },
         "mode": "markers",
         "name": "0.971",
         "orientation": "v",
         "showlegend": true,
         "type": "scatter",
         "x": [
          2014
         ],
         "xaxis": "x",
         "y": [
          14
         ],
         "yaxis": "y"
        },
        {
         "hovertemplate": "energy=%{marker.color}<br>release_date=%{x}<br>popularity=%{y}<extra></extra>",
         "legendgroup": "0.765",
         "marker": {
          "color": [
           0.765
          ],
          "coloraxis": "coloraxis",
          "symbol": "square"
         },
         "mode": "markers",
         "name": "0.765",
         "orientation": "v",
         "showlegend": true,
         "type": "scatter",
         "x": [
          2014
         ],
         "xaxis": "x",
         "y": [
          0
         ],
         "yaxis": "y"
        },
        {
         "hovertemplate": "energy=%{marker.color}<br>release_date=%{x}<br>popularity=%{y}<extra></extra>",
         "legendgroup": "0.967",
         "marker": {
          "color": [
           0.967
          ],
          "coloraxis": "coloraxis",
          "symbol": "x"
         },
         "mode": "markers",
         "name": "0.967",
         "orientation": "v",
         "showlegend": true,
         "type": "scatter",
         "x": [
          2013
         ],
         "xaxis": "x",
         "y": [
          14
         ],
         "yaxis": "y"
        },
        {
         "hovertemplate": "energy=%{marker.color}<br>release_date=%{x}<br>popularity=%{y}<extra></extra>",
         "legendgroup": "0.855",
         "marker": {
          "color": [
           0.855
          ],
          "coloraxis": "coloraxis",
          "symbol": "cross"
         },
         "mode": "markers",
         "name": "0.855",
         "orientation": "v",
         "showlegend": true,
         "type": "scatter",
         "x": [
          2014
         ],
         "xaxis": "x",
         "y": [
          0
         ],
         "yaxis": "y"
        },
        {
         "hovertemplate": "energy=%{marker.color}<br>release_date=%{x}<br>popularity=%{y}<extra></extra>",
         "legendgroup": "0.691",
         "marker": {
          "color": [
           0.691
          ],
          "coloraxis": "coloraxis",
          "symbol": "circle"
         },
         "mode": "markers",
         "name": "0.691",
         "orientation": "v",
         "showlegend": true,
         "type": "scatter",
         "x": [
          2014
         ],
         "xaxis": "x",
         "y": [
          0
         ],
         "yaxis": "y"
        },
        {
         "hovertemplate": "energy=%{marker.color}<br>release_date=%{x}<br>popularity=%{y}<extra></extra>",
         "legendgroup": "0.909",
         "marker": {
          "color": [
           0.909
          ],
          "coloraxis": "coloraxis",
          "symbol": "diamond"
         },
         "mode": "markers",
         "name": "0.909",
         "orientation": "v",
         "showlegend": true,
         "type": "scatter",
         "x": [
          2014
         ],
         "xaxis": "x",
         "y": [
          1
         ],
         "yaxis": "y"
        },
        {
         "hovertemplate": "energy=%{marker.color}<br>release_date=%{x}<br>popularity=%{y}<extra></extra>",
         "legendgroup": "0.455",
         "marker": {
          "color": [
           0.455
          ],
          "coloraxis": "coloraxis",
          "symbol": "square"
         },
         "mode": "markers",
         "name": "0.455",
         "orientation": "v",
         "showlegend": true,
         "type": "scatter",
         "x": [
          2014
         ],
         "xaxis": "x",
         "y": [
          0
         ],
         "yaxis": "y"
        },
        {
         "hovertemplate": "energy=%{marker.color}<br>release_date=%{x}<br>popularity=%{y}<extra></extra>",
         "legendgroup": "0.865",
         "marker": {
          "color": [
           0.865
          ],
          "coloraxis": "coloraxis",
          "symbol": "x"
         },
         "mode": "markers",
         "name": "0.865",
         "orientation": "v",
         "showlegend": true,
         "type": "scatter",
         "x": [
          2015
         ],
         "xaxis": "x",
         "y": [
          18
         ],
         "yaxis": "y"
        }
       ],
       "layout": {
        "coloraxis": {
         "colorbar": {
          "title": {
           "text": "energy"
          }
         },
         "colorscale": [
          [
           0,
           "#0d0887"
          ],
          [
           0.1111111111111111,
           "#46039f"
          ],
          [
           0.2222222222222222,
           "#7201a8"
          ],
          [
           0.3333333333333333,
           "#9c179e"
          ],
          [
           0.4444444444444444,
           "#bd3786"
          ],
          [
           0.5555555555555556,
           "#d8576b"
          ],
          [
           0.6666666666666666,
           "#ed7953"
          ],
          [
           0.7777777777777778,
           "#fb9f3a"
          ],
          [
           0.8888888888888888,
           "#fdca26"
          ],
          [
           1,
           "#f0f921"
          ]
         ]
        },
        "legend": {
         "title": {
          "text": "energy"
         },
         "tracegroupgap": 0
        },
        "margin": {
         "t": 60
        },
        "template": {
         "data": {
          "bar": [
           {
            "error_x": {
             "color": "#2a3f5f"
            },
            "error_y": {
             "color": "#2a3f5f"
            },
            "marker": {
             "line": {
              "color": "#E5ECF6",
              "width": 0.5
             },
             "pattern": {
              "fillmode": "overlay",
              "size": 10,
              "solidity": 0.2
             }
            },
            "type": "bar"
           }
          ],
          "barpolar": [
           {
            "marker": {
             "line": {
              "color": "#E5ECF6",
              "width": 0.5
             },
             "pattern": {
              "fillmode": "overlay",
              "size": 10,
              "solidity": 0.2
             }
            },
            "type": "barpolar"
           }
          ],
          "carpet": [
           {
            "aaxis": {
             "endlinecolor": "#2a3f5f",
             "gridcolor": "white",
             "linecolor": "white",
             "minorgridcolor": "white",
             "startlinecolor": "#2a3f5f"
            },
            "baxis": {
             "endlinecolor": "#2a3f5f",
             "gridcolor": "white",
             "linecolor": "white",
             "minorgridcolor": "white",
             "startlinecolor": "#2a3f5f"
            },
            "type": "carpet"
           }
          ],
          "choropleth": [
           {
            "colorbar": {
             "outlinewidth": 0,
             "ticks": ""
            },
            "type": "choropleth"
           }
          ],
          "contour": [
           {
            "colorbar": {
             "outlinewidth": 0,
             "ticks": ""
            },
            "colorscale": [
             [
              0,
              "#0d0887"
             ],
             [
              0.1111111111111111,
              "#46039f"
             ],
             [
              0.2222222222222222,
              "#7201a8"
             ],
             [
              0.3333333333333333,
              "#9c179e"
             ],
             [
              0.4444444444444444,
              "#bd3786"
             ],
             [
              0.5555555555555556,
              "#d8576b"
             ],
             [
              0.6666666666666666,
              "#ed7953"
             ],
             [
              0.7777777777777778,
              "#fb9f3a"
             ],
             [
              0.8888888888888888,
              "#fdca26"
             ],
             [
              1,
              "#f0f921"
             ]
            ],
            "type": "contour"
           }
          ],
          "contourcarpet": [
           {
            "colorbar": {
             "outlinewidth": 0,
             "ticks": ""
            },
            "type": "contourcarpet"
           }
          ],
          "heatmap": [
           {
            "colorbar": {
             "outlinewidth": 0,
             "ticks": ""
            },
            "colorscale": [
             [
              0,
              "#0d0887"
             ],
             [
              0.1111111111111111,
              "#46039f"
             ],
             [
              0.2222222222222222,
              "#7201a8"
             ],
             [
              0.3333333333333333,
              "#9c179e"
             ],
             [
              0.4444444444444444,
              "#bd3786"
             ],
             [
              0.5555555555555556,
              "#d8576b"
             ],
             [
              0.6666666666666666,
              "#ed7953"
             ],
             [
              0.7777777777777778,
              "#fb9f3a"
             ],
             [
              0.8888888888888888,
              "#fdca26"
             ],
             [
              1,
              "#f0f921"
             ]
            ],
            "type": "heatmap"
           }
          ],
          "heatmapgl": [
           {
            "colorbar": {
             "outlinewidth": 0,
             "ticks": ""
            },
            "colorscale": [
             [
              0,
              "#0d0887"
             ],
             [
              0.1111111111111111,
              "#46039f"
             ],
             [
              0.2222222222222222,
              "#7201a8"
             ],
             [
              0.3333333333333333,
              "#9c179e"
             ],
             [
              0.4444444444444444,
              "#bd3786"
             ],
             [
              0.5555555555555556,
              "#d8576b"
             ],
             [
              0.6666666666666666,
              "#ed7953"
             ],
             [
              0.7777777777777778,
              "#fb9f3a"
             ],
             [
              0.8888888888888888,
              "#fdca26"
             ],
             [
              1,
              "#f0f921"
             ]
            ],
            "type": "heatmapgl"
           }
          ],
          "histogram": [
           {
            "marker": {
             "pattern": {
              "fillmode": "overlay",
              "size": 10,
              "solidity": 0.2
             }
            },
            "type": "histogram"
           }
          ],
          "histogram2d": [
           {
            "colorbar": {
             "outlinewidth": 0,
             "ticks": ""
            },
            "colorscale": [
             [
              0,
              "#0d0887"
             ],
             [
              0.1111111111111111,
              "#46039f"
             ],
             [
              0.2222222222222222,
              "#7201a8"
             ],
             [
              0.3333333333333333,
              "#9c179e"
             ],
             [
              0.4444444444444444,
              "#bd3786"
             ],
             [
              0.5555555555555556,
              "#d8576b"
             ],
             [
              0.6666666666666666,
              "#ed7953"
             ],
             [
              0.7777777777777778,
              "#fb9f3a"
             ],
             [
              0.8888888888888888,
              "#fdca26"
             ],
             [
              1,
              "#f0f921"
             ]
            ],
            "type": "histogram2d"
           }
          ],
          "histogram2dcontour": [
           {
            "colorbar": {
             "outlinewidth": 0,
             "ticks": ""
            },
            "colorscale": [
             [
              0,
              "#0d0887"
             ],
             [
              0.1111111111111111,
              "#46039f"
             ],
             [
              0.2222222222222222,
              "#7201a8"
             ],
             [
              0.3333333333333333,
              "#9c179e"
             ],
             [
              0.4444444444444444,
              "#bd3786"
             ],
             [
              0.5555555555555556,
              "#d8576b"
             ],
             [
              0.6666666666666666,
              "#ed7953"
             ],
             [
              0.7777777777777778,
              "#fb9f3a"
             ],
             [
              0.8888888888888888,
              "#fdca26"
             ],
             [
              1,
              "#f0f921"
             ]
            ],
            "type": "histogram2dcontour"
           }
          ],
          "mesh3d": [
           {
            "colorbar": {
             "outlinewidth": 0,
             "ticks": ""
            },
            "type": "mesh3d"
           }
          ],
          "parcoords": [
           {
            "line": {
             "colorbar": {
              "outlinewidth": 0,
              "ticks": ""
             }
            },
            "type": "parcoords"
           }
          ],
          "pie": [
           {
            "automargin": true,
            "type": "pie"
           }
          ],
          "scatter": [
           {
            "fillpattern": {
             "fillmode": "overlay",
             "size": 10,
             "solidity": 0.2
            },
            "type": "scatter"
           }
          ],
          "scatter3d": [
           {
            "line": {
             "colorbar": {
              "outlinewidth": 0,
              "ticks": ""
             }
            },
            "marker": {
             "colorbar": {
              "outlinewidth": 0,
              "ticks": ""
             }
            },
            "type": "scatter3d"
           }
          ],
          "scattercarpet": [
           {
            "marker": {
             "colorbar": {
              "outlinewidth": 0,
              "ticks": ""
             }
            },
            "type": "scattercarpet"
           }
          ],
          "scattergeo": [
           {
            "marker": {
             "colorbar": {
              "outlinewidth": 0,
              "ticks": ""
             }
            },
            "type": "scattergeo"
           }
          ],
          "scattergl": [
           {
            "marker": {
             "colorbar": {
              "outlinewidth": 0,
              "ticks": ""
             }
            },
            "type": "scattergl"
           }
          ],
          "scattermapbox": [
           {
            "marker": {
             "colorbar": {
              "outlinewidth": 0,
              "ticks": ""
             }
            },
            "type": "scattermapbox"
           }
          ],
          "scatterpolar": [
           {
            "marker": {
             "colorbar": {
              "outlinewidth": 0,
              "ticks": ""
             }
            },
            "type": "scatterpolar"
           }
          ],
          "scatterpolargl": [
           {
            "marker": {
             "colorbar": {
              "outlinewidth": 0,
              "ticks": ""
             }
            },
            "type": "scatterpolargl"
           }
          ],
          "scatterternary": [
           {
            "marker": {
             "colorbar": {
              "outlinewidth": 0,
              "ticks": ""
             }
            },
            "type": "scatterternary"
           }
          ],
          "surface": [
           {
            "colorbar": {
             "outlinewidth": 0,
             "ticks": ""
            },
            "colorscale": [
             [
              0,
              "#0d0887"
             ],
             [
              0.1111111111111111,
              "#46039f"
             ],
             [
              0.2222222222222222,
              "#7201a8"
             ],
             [
              0.3333333333333333,
              "#9c179e"
             ],
             [
              0.4444444444444444,
              "#bd3786"
             ],
             [
              0.5555555555555556,
              "#d8576b"
             ],
             [
              0.6666666666666666,
              "#ed7953"
             ],
             [
              0.7777777777777778,
              "#fb9f3a"
             ],
             [
              0.8888888888888888,
              "#fdca26"
             ],
             [
              1,
              "#f0f921"
             ]
            ],
            "type": "surface"
           }
          ],
          "table": [
           {
            "cells": {
             "fill": {
              "color": "#EBF0F8"
             },
             "line": {
              "color": "white"
             }
            },
            "header": {
             "fill": {
              "color": "#C8D4E3"
             },
             "line": {
              "color": "white"
             }
            },
            "type": "table"
           }
          ]
         },
         "layout": {
          "annotationdefaults": {
           "arrowcolor": "#2a3f5f",
           "arrowhead": 0,
           "arrowwidth": 1
          },
          "autotypenumbers": "strict",
          "coloraxis": {
           "colorbar": {
            "outlinewidth": 0,
            "ticks": ""
           }
          },
          "colorscale": {
           "diverging": [
            [
             0,
             "#8e0152"
            ],
            [
             0.1,
             "#c51b7d"
            ],
            [
             0.2,
             "#de77ae"
            ],
            [
             0.3,
             "#f1b6da"
            ],
            [
             0.4,
             "#fde0ef"
            ],
            [
             0.5,
             "#f7f7f7"
            ],
            [
             0.6,
             "#e6f5d0"
            ],
            [
             0.7,
             "#b8e186"
            ],
            [
             0.8,
             "#7fbc41"
            ],
            [
             0.9,
             "#4d9221"
            ],
            [
             1,
             "#276419"
            ]
           ],
           "sequential": [
            [
             0,
             "#0d0887"
            ],
            [
             0.1111111111111111,
             "#46039f"
            ],
            [
             0.2222222222222222,
             "#7201a8"
            ],
            [
             0.3333333333333333,
             "#9c179e"
            ],
            [
             0.4444444444444444,
             "#bd3786"
            ],
            [
             0.5555555555555556,
             "#d8576b"
            ],
            [
             0.6666666666666666,
             "#ed7953"
            ],
            [
             0.7777777777777778,
             "#fb9f3a"
            ],
            [
             0.8888888888888888,
             "#fdca26"
            ],
            [
             1,
             "#f0f921"
            ]
           ],
           "sequentialminus": [
            [
             0,
             "#0d0887"
            ],
            [
             0.1111111111111111,
             "#46039f"
            ],
            [
             0.2222222222222222,
             "#7201a8"
            ],
            [
             0.3333333333333333,
             "#9c179e"
            ],
            [
             0.4444444444444444,
             "#bd3786"
            ],
            [
             0.5555555555555556,
             "#d8576b"
            ],
            [
             0.6666666666666666,
             "#ed7953"
            ],
            [
             0.7777777777777778,
             "#fb9f3a"
            ],
            [
             0.8888888888888888,
             "#fdca26"
            ],
            [
             1,
             "#f0f921"
            ]
           ]
          },
          "colorway": [
           "#636efa",
           "#EF553B",
           "#00cc96",
           "#ab63fa",
           "#FFA15A",
           "#19d3f3",
           "#FF6692",
           "#B6E880",
           "#FF97FF",
           "#FECB52"
          ],
          "font": {
           "color": "#2a3f5f"
          },
          "geo": {
           "bgcolor": "white",
           "lakecolor": "white",
           "landcolor": "#E5ECF6",
           "showlakes": true,
           "showland": true,
           "subunitcolor": "white"
          },
          "hoverlabel": {
           "align": "left"
          },
          "hovermode": "closest",
          "mapbox": {
           "style": "light"
          },
          "paper_bgcolor": "white",
          "plot_bgcolor": "#E5ECF6",
          "polar": {
           "angularaxis": {
            "gridcolor": "white",
            "linecolor": "white",
            "ticks": ""
           },
           "bgcolor": "#E5ECF6",
           "radialaxis": {
            "gridcolor": "white",
            "linecolor": "white",
            "ticks": ""
           }
          },
          "scene": {
           "xaxis": {
            "backgroundcolor": "#E5ECF6",
            "gridcolor": "white",
            "gridwidth": 2,
            "linecolor": "white",
            "showbackground": true,
            "ticks": "",
            "zerolinecolor": "white"
           },
           "yaxis": {
            "backgroundcolor": "#E5ECF6",
            "gridcolor": "white",
            "gridwidth": 2,
            "linecolor": "white",
            "showbackground": true,
            "ticks": "",
            "zerolinecolor": "white"
           },
           "zaxis": {
            "backgroundcolor": "#E5ECF6",
            "gridcolor": "white",
            "gridwidth": 2,
            "linecolor": "white",
            "showbackground": true,
            "ticks": "",
            "zerolinecolor": "white"
           }
          },
          "shapedefaults": {
           "line": {
            "color": "#2a3f5f"
           }
          },
          "ternary": {
           "aaxis": {
            "gridcolor": "white",
            "linecolor": "white",
            "ticks": ""
           },
           "baxis": {
            "gridcolor": "white",
            "linecolor": "white",
            "ticks": ""
           },
           "bgcolor": "#E5ECF6",
           "caxis": {
            "gridcolor": "white",
            "linecolor": "white",
            "ticks": ""
           }
          },
          "title": {
           "x": 0.05
          },
          "xaxis": {
           "automargin": true,
           "gridcolor": "white",
           "linecolor": "white",
           "ticks": "",
           "title": {
            "standoff": 15
           },
           "zerolinecolor": "white",
           "zerolinewidth": 2
          },
          "yaxis": {
           "automargin": true,
           "gridcolor": "white",
           "linecolor": "white",
           "ticks": "",
           "title": {
            "standoff": 15
           },
           "zerolinecolor": "white",
           "zerolinewidth": 2
          }
         }
        },
        "title": {
         "text": "Scatterplot using Plotly"
        },
        "xaxis": {
         "anchor": "y",
         "domain": [
          0,
          1
         ],
         "title": {
          "text": "release_date"
         }
        },
        "yaxis": {
         "anchor": "x",
         "domain": [
          0,
          1
         ],
         "title": {
          "text": "popularity"
         }
        }
       }
      }
     },
     "metadata": {},
     "output_type": "display_data"
    }
   ],
   "source": [
    "fig = px.scatter(data_frame=data, x='release_date', y='popularity', color='energy', symbol='energy')\n",
    "fig.update_layout(title='Scatterplot using Plotly')\n",
    "fig.show()\n"
   ]
  }
 ],
 "metadata": {
  "kernelspec": {
   "display_name": "base",
   "language": "python",
   "name": "python3"
  },
  "language_info": {
   "codemirror_mode": {
    "name": "ipython",
    "version": 3
   },
   "file_extension": ".py",
   "mimetype": "text/x-python",
   "name": "python",
   "nbconvert_exporter": "python",
   "pygments_lexer": "ipython3",
   "version": "3.9.13"
  },
  "orig_nbformat": 4,
  "vscode": {
   "interpreter": {
    "hash": "cb1d2d89cb7c6a69a81de6a0cd8c1e2ebe2646f633b514a8a7f5dd3287604553"
   }
  }
 },
 "nbformat": 4,
 "nbformat_minor": 2
}
