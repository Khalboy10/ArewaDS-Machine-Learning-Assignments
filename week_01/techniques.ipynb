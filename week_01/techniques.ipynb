{
 "cells": [
  {
   "attachments": {},
   "cell_type": "markdown",
   "metadata": {},
   "source": [
    "How Machine Learning works\n",
    "Machine learning systems are made up of three major parts: Model, Parameters and Learner\n",
    "\n",
    "Model: it is the system that makes predictions or identifications.\n",
    "\n",
    "Parameters: They are the signals used by model to form its decisions.\n",
    "\n",
    "Learner: it is the system that adjusts the parameters, and in turn the model by looking at differences in predictions versus actual outcome.\n",
    "\n",
    "Machine Learning workflow\n",
    "* Problem Defination: The firststep in the ML workflow is to define and understand the problem that we are going to solve. You will have to start by analyzing the goals and the why factor behind a particular problem statement.\n",
    "\n",
    "* Data Collection: Once the goal is clearly defined, one has to start getting the data that is needed from various available data sources.\n",
    "\n",
    "* Data Preparation: The type and quality of data that is used in a ML model affect the output considerably. in this step, one explores, pre-processes, conditions, and transforms data prior to modelling and analysis. this step is the most time consuming.\n",
    "\n",
    "* Data Visualization: This is where graphs are build in other to identify patterns and trends in data, which leads to clearer understanding and reveals important insights.\n",
    "\n",
    "* ML Modelling: In this step, ML algorithm is train to make predictions based on the provided data. it is a crucial step that will determine the quality and accuracy of future predictions in new situations.\n",
    "\n",
    "* Feature Engineering: It is a process to achieve a set of features by performing mathematical, statistical, and heuristic procedures.\n",
    "\n",
    "* Model Deployment: This is the process of putting a Machine Learning model into a production environment to make data-driven decisions in a more automated way."
   ]
  }
 ],
 "metadata": {
  "kernelspec": {
   "display_name": "Python 3",
   "language": "python",
   "name": "python3"
  },
  "language_info": {
   "name": "python",
   "version": "3.11.0rc1 (main, Aug 12 2022, 10:02:14) [GCC 11.2.0]"
  },
  "orig_nbformat": 4,
  "vscode": {
   "interpreter": {
    "hash": "ead1b95f633dc9c51826328e1846203f51a198c6fb5f2884a80417ba131d4e82"
   }
  }
 },
 "nbformat": 4,
 "nbformat_minor": 2
}
