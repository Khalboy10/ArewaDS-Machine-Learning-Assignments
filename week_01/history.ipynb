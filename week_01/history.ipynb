{
 "cells": [
  {
   "attachments": {},
   "cell_type": "markdown",
   "metadata": {},
   "source": [
    "1950s: Early development of artificial intelligence (AI) and machine learning (ML) concepts and algorithms.\n",
    "\n",
    "1956: The term \"artificial intelligence\" is coined by John McCarthy at the Dartmouth Conference.\n",
    "\n",
    "1958: John McCarthy developed the AI programming language (Lisp) and published the paper \"programs with common sense\".\n",
    "\n",
    "1960s: The concept of artificial neural networks is introduced, laying the groundwork for deep learning.\n",
    "\n",
    "1963: John McCarthy started the AI Lab at Stanford.\n",
    "\n",
    "1966: Joseph Weizenbaum created the first chatbot \"ELIZA\".\n",
    "\n",
    "1970s-1980s: Machine learning algorithms, such as decision trees and logistic regression, are developed and used in practical applications such as image recognition and speech recognition.\n",
    "\n",
    "1980: the first national conference of the American Association of AI was held at Stanford University.\n",
    "\n",
    "1987-1993: The second AI winter.\n",
    "\n",
    "1990s: The concept of support vector machines (SVMs) is introduced, and machine learning techniques begin to be applied in areas such as credit scoring and fraud detection.\n",
    "\n",
    "1997: IBM Deep Blue beat world chess champion, Gary Kasparov, and became the first computer to beat a world chess champion.\n",
    "\n",
    "2000s: The rise of big data leads to the development of new techniques such as ensemble methods and deep learning, which enable the processing of large amounts of data.\n",
    "\n",
    "2010s: The use of ML becomes widespread in areas such as natural language processing, computer vision, and recommendation systems. Advances in hardware, particularly the development of graphical processing units (GPUs), make it possible to train deep neural networks much faster than before.\n",
    "\n",
    "2020s: Machine learning continues to advance, with new breakthroughs in areas such as generative models, reinforcement learning, and explainable AI."
   ]
  }
 ],
 "metadata": {
  "kernelspec": {
   "display_name": "Python 3",
   "language": "python",
   "name": "python3"
  },
  "language_info": {
   "name": "python",
   "version": "3.11.0rc1 (main, Aug 12 2022, 10:02:14) [GCC 11.2.0]"
  },
  "orig_nbformat": 4,
  "vscode": {
   "interpreter": {
    "hash": "ead1b95f633dc9c51826328e1846203f51a198c6fb5f2884a80417ba131d4e82"
   }
  }
 },
 "nbformat": 4,
 "nbformat_minor": 2
}
