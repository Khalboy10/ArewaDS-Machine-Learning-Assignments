{
 "cells": [
  {
   "attachments": {},
   "cell_type": "markdown",
   "metadata": {},
   "source": [
    "Machine Learning is a subfield of Artificial Intelligence devoted on building algorithms that learn; that is algorithm that leverage data to improve performance on a set of tasks. \n",
    "\n",
    "Computers are dump machines, because we have to provide them with detailed, step by step instructions on exactly what to do. Machine Learning is a process that overcomes this conventional way and make computers smart and give them the ability to think.\n",
    "\n",
    "Machine Learning is simply how computers think and execute a task without being programmed to.it is a subset of artificial intelligence that involves algorithms and models that can automatically analyze and learn data to make decisions without human intervention.\n",
    "\n",
    "Tom Mitchell, an american computer scientist defines ML as- \"A Computer program is said to learn from experiance E with respect to some task T and some performance measure P if its performance on T as measured by P improves with experiance E\".\n",
    "\n",
    "The main objective of ML algorithms is to teach the computers on how to learn by themselves. These algorithms can be categorized into the following:\n",
    "* Supervised Learning\n",
    "* Unsupervised Learning\n",
    "* Reinforcement Learning\n",
    "\n",
    "In supervised learning, we use the labeled datasets to train algorithms to classify data or predict outcomes accurately. in simple words, it is a process that helps the machine to learn to map an input to a perticular output.\n",
    "\n",
    "In unsupervised learning, no supervision is provided in this type of machine learning. This means no training is given to the machine. Therefore machines are restricted to find the hidden structure in unlabeled data by themselves.\n",
    "\n",
    "Reinforcement Learning is about taking suitable action to maximize reward in a particular situation. it is called reward base learning. in simple words, reinforcement learning is like teaching a child to do something, you provide reward to him if he does that thing the way you desire, else you punish him by not providing any rewards.\n",
    "\n",
    "In conclusion, some implementations of machine learning use data and neural networks in a way that mimics the working of a biological brain."
   ]
  }
 ],
 "metadata": {
  "kernelspec": {
   "display_name": "base",
   "language": "python",
   "name": "python3"
  },
  "language_info": {
   "name": "python",
   "version": "3.9.13 (main, Aug 25 2022, 23:26:10) \n[GCC 11.2.0]"
  },
  "orig_nbformat": 4,
  "vscode": {
   "interpreter": {
    "hash": "cb1d2d89cb7c6a69a81de6a0cd8c1e2ebe2646f633b514a8a7f5dd3287604553"
   }
  }
 },
 "nbformat": 4,
 "nbformat_minor": 2
}
